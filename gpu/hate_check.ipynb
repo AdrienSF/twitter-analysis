{
 "cells": [
  {
   "cell_type": "code",
   "execution_count": 1,
   "source": [
    "from hatebase import HatebaseAPI\n",
    "key = 'hTjz4vdtftaofzHEk7sdthudipaqAnzz'\n",
    "hatebase = HatebaseAPI({\"key\": key})\n",
    "# for more details, set debug to True\n",
    "hatebase = HatebaseAPI({\"key\": key, \"debug\": True})"
   ],
   "outputs": [
    {
     "output_type": "stream",
     "name": "stdout",
     "text": [
      "response text: {\n",
      "    \"version\": \"4.4\",\n",
      "    \"datetime\": \"2021-07-30 11:18:31\",\n",
      "    \"important\": \"Your use of the Hatebase API acknowledges your consent with Hatebase's Terms of Use (available online at hatebase.org) and PROHIBITS REDISTRIBUTION of this data for any purpose, including but not limited to republication in any form, such as in PUBLIC CODE REPOSITORIES.\",\n",
      "    \"query\": {\n",
      "        \"api_key\": \"hTjz4vdtftaofzHEk7sdthudipaqAnzz\"\n",
      "    },\n",
      "    \"result\": {\n",
      "        \"token\": \"yuDgDndkdGTKUxRvPLvRWQsiChfvVNCX\",\n",
      "        \"expires_on\": \"2021-07-30 12:18:31\"\n",
      "    }\n",
      "}\n",
      "token: yuDgDndkdGTKUxRvPLvRWQsiChfvVNCX\n"
     ]
    }
   ],
   "metadata": {}
  },
  {
   "cell_type": "code",
   "execution_count": null,
   "source": [
    "# set filters for vocabulary query\n",
    "filters = [{\"language\": \"eng\", \"ethnicity\": \"asian\"},\n",
    "            {\"language\": \"eng\", \"nationality\": \"cn\"}\n",
    "]\n",
    "# filters = {\"keyword\": \"mon\", \"language\": \"eng\"}\n",
    "res_format = \"json\"\n",
    "terms = []\n",
    "for filt in filters:\n",
    "    response = hatebase.getVocabulary(filters=filt, format=res_format)\n",
    "    print(response)\n",
    "    terms = terms + [res['term'] for res in response['result']]\n"
   ],
   "outputs": [],
   "metadata": {}
  },
  {
   "cell_type": "code",
   "execution_count": null,
   "source": [
    "terms"
   ],
   "outputs": [],
   "metadata": {}
  },
  {
   "cell_type": "code",
   "execution_count": 18,
   "source": [
    "import pickle\n",
    "from collections import OrderedDict\n",
    "with open('week0_distribution.p', 'rb') as f:\n",
    "    dist = pickle.load(f)"
   ],
   "outputs": [],
   "metadata": {}
  },
  {
   "cell_type": "code",
   "execution_count": 21,
   "source": [
    "any([term in dist[0] for term in terms])"
   ],
   "outputs": [
    {
     "output_type": "execute_result",
     "data": {
      "text/plain": [
       "False"
      ]
     },
     "metadata": {},
     "execution_count": 21
    }
   ],
   "metadata": {}
  },
  {
   "cell_type": "code",
   "execution_count": null,
   "source": [
    "import matplotlib.pyplot as plt\n",
    "total_topics = 20\n",
    "scores = [dist[i]['chinesevirus'] for i in range(total_topics)]\n",
    "\n",
    "plt.bar(range(total_topics), scores)\n",
    "plt.xticks(range(total_topics))\n",
    "plt.ylabel('probability')\n",
    "plt.xlabel('topic number')"
   ],
   "outputs": [],
   "metadata": {}
  }
 ],
 "metadata": {
  "orig_nbformat": 4,
  "language_info": {
   "name": "python",
   "version": "3.8.10",
   "mimetype": "text/x-python",
   "codemirror_mode": {
    "name": "ipython",
    "version": 3
   },
   "pygments_lexer": "ipython3",
   "nbconvert_exporter": "python",
   "file_extension": ".py"
  },
  "kernelspec": {
   "name": "python3",
   "display_name": "Python 3.8.10 64-bit ('nlpenv': venv)"
  },
  "interpreter": {
   "hash": "de8d688998391b4e340423aec176e4bbb9afb78f2320e3ca59b2d8556c4a2b46"
  }
 },
 "nbformat": 4,
 "nbformat_minor": 2
}