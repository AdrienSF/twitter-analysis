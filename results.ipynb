{
 "cells": [
  {
   "cell_type": "code",
   "execution_count": null,
   "source": [
    "import pickle\n",
    "import numpy as np\n",
    "import matplotlib.pyplot as plt\n",
    "from wordcloud import WordCloud"
   ],
   "outputs": [],
   "metadata": {}
  },
  {
   "cell_type": "code",
   "execution_count": null,
   "source": [
    "# load\n",
    "with open('week1_trained_tlda_2020...something.pickle') as f:\n",
    "    tlda = pickle.load(f)\n",
    "with open('week1_trained_PCA_2020...something.pickle') as f:\n",
    "    pca = pickle.load(f)\n",
    "idmap = np.load('week1_id-word-map_202...something.npy')"
   ],
   "outputs": [],
   "metadata": {}
  },
  {
   "cell_type": "code",
   "execution_count": null,
   "source": [
    "# extract topics and correct weights\n",
    "probs = np.array(pca.reverse_transform(tlda.factors_))\n",
    "total_topics = probs.shape[0]\n",
    "\n",
    "probmaps = []\n",
    "for i in range(total_topics):\n",
    "    topids = probs[i,:].argsort()[-20:]\n",
    "    probmaps.append({id_map[word_id]: probs[word_id] for word_id in topids})"
   ],
   "outputs": [],
   "metadata": {}
  },
  {
   "cell_type": "code",
   "execution_count": null,
   "source": [
    "# draw word clouds\n",
    "for t in range(total_topics):\n",
    "    plt.figure()\n",
    "    plt.imshow(WordCloud(background_color='white').fit_words(top20[i]))\n",
    "    plt.axis(\"off\")\n",
    "    plt.title(\"Topic #\" + str(t))"
   ],
   "outputs": [],
   "metadata": {}
  },
  {
   "cell_type": "code",
   "execution_count": null,
   "source": [
    "# plot toxicity rating(?) of each topic... there's no easily accessible hate speech lexicon!!!!"
   ],
   "outputs": [],
   "metadata": {}
  }
 ],
 "metadata": {
  "orig_nbformat": 4,
  "language_info": {
   "name": "python"
  }
 },
 "nbformat": 4,
 "nbformat_minor": 2
}