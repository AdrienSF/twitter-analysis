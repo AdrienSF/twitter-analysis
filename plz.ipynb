{
 "cells": [
  {
   "cell_type": "code",
   "execution_count": 5,
   "source": [
    "import json, os\n",
    "from helpers import load_tweets"
   ],
   "outputs": [],
   "metadata": {}
  },
  {
   "cell_type": "code",
   "execution_count": 6,
   "source": [
    "filenames = ['data/unzipped/' + name for name in os.listdir('data/unzipped/')]\n",
    "\n",
    "tweets = load_tweets(filenames, preprocessor=None)\n"
   ],
   "outputs": [],
   "metadata": {}
  },
  {
   "cell_type": "code",
   "execution_count": 17,
   "source": [
    "china = [tweet for tweet in tweets if 'china coronavirus' in tweet.lower()]"
   ],
   "outputs": [],
   "metadata": {}
  },
  {
   "cell_type": "code",
   "execution_count": 21,
   "source": [
    "# for t in china:\n",
    "#     print(t)\n",
    "china"
   ],
   "outputs": [
    {
     "output_type": "execute_result",
     "data": {
      "text/plain": [
       "['Global stocks tumble after US-China coronavirus row intensifies - Financial Times https://t.co/iXe1gU7dVJ via @GoogleNews',\n",
       " 'Global stocks tumble after US-China coronavirus row intensifies https://t.co/DuSoWIBHSI via @financialtimes',\n",
       " 'Lmao I remember checking the news after work for the China coronavirus case increases from 800 to 1,300 to 2,200 and so on back in January. Now it’s May and a few things have happened since then',\n",
       " 'Trump Demands Proof China Coronavirus Wuhan Lab Iraq WMD Yellowcake Uranium Niger OMG WTF BENGhaZI!111!!!! - Wonkette https://t.co/82yxvEZjuP #SmartNews',\n",
       " 'Does anyone trust anything that comes out of his mouth, not just now but since elected?\\n\\nTrump accused of ‘endless flurry of lies’ for pushing China coronavirus conspiracy theory - follow live https://t.co/xab2TmpU1y',\n",
       " 'Global stocks tumble as US-China coronavirus row intensifies https://t.co/8VLOJoQgrC via @financialtimes',\n",
       " '$DJ_F Dow Futures Tumble as Trump Threatens China Coronavirus Tariffs; Apple and Amazon Slide After Earnings\\n\\nhttps://t.co/kYGKOGZL4R',\n",
       " '@ChinainLebanon @YouTube Unfortunately all of those people die because of China coronavirus.\\nChina must take all responsibility \\n.',\n",
       " 'New post: China Coronavirus Economic Catastrophe | Red China Lied and People Died https://t.co/uvjGZ2Rbbx',\n",
       " '#china coronavirus has everyone by their BALLS. https://t.co/OrdDoxd8CH',\n",
       " 'Trump Demands Proof China Coronavirus Wuhan Lab Iraq WMD Yellowcake Uranium Niger OMG WTF BENGhaZI!111!!!! https://t.co/BUEaSgsbqp',\n",
       " 'Yes, @POTUS ! \\n\\nTrump Admin Orders Intelligence Agencies to Compile Evidence of CHINA Coronavirus Cover Up \\nhttps://t.co/lbeBinTfqc',\n",
       " 'Vanity Fair: Trump’s China Coronavirus Conspiracy Is Infiltrating Intelligence Agencies.\\nhttps://t.co/wNxlxNFXVK\\n\\nvia @GoogleNews',\n",
       " \"China refused to allow WHO ( Or Anyone But ChiCom's CCP ) to join it's China Only investigation of the origins of the Wuhan China coronavirus https://t.co/JYz6CYJ3uA\",\n",
       " 'Trump Admin. Orders Intelligence Agencies to Compile Evidence of China Coronavirus Cover\\xa0Up https://t.co/lPp9lq0Qxe https://t.co/0vGvCjjYDW',\n",
       " '#NewsCoronavirus Trump’s China Coronavirus Conspiracy Is Infiltrating Intelligence Agencies https://t.co/Mt7TOBO0bg',\n",
       " 'China coronavirus: Chinese man ‘flees’ after leaving face masks for poli... https://t.co/o0bvlIDjQr via @YouTube I brought 60 N95s home back in November. Someone was throwing a box of boxes(case) away and I thought to myself these masks aren’t cheap!',\n",
       " 'Trump’s China Coronavirus Conspiracy Is Infiltrating Intelligence\\xa0Agencies https://t.co/MtVP48L8sX https://t.co/0LSqP9DNBG',\n",
       " 'Trump accused of ‘endless flurry of lies’ for pushing China coronavirus conspiracy theory - follow live https://t.co/pywvin3k0P',\n",
       " 'Trump Demands Proof China Coronavirus Wuhan Lab Iraq WMD Yellowcake Uranium Niger OMG WTF BENGhaZI!111!!!! https://t.co/apTDLdK5RV',\n",
       " \"@XHNews China coronavirus is pandemic. You joke other country. Why can't ask reason for china virus occur to your communist government and bastard XI XINGPING PORK.\",\n",
       " 'Dow Futures Tumble as Trump Threatens China Coronavirus Tariffs; Apple and Amazon Slide After Earnings https://t.co/SdbUxSJUv3',\n",
       " 'Ok,  During this pandemic thing I’ve been good, followed most (some) of these guidelines. But it went to a whole different level canceling the release of Top Gun 2! 😡. Go back to China coronavirus https://t.co/xLmXIOdxBF',\n",
       " 'Trump accused of ‘endless flurry of lies’ for pushing China coronavirus conspiracy theory - follow live https://t.co/3T1FiiLC8t',\n",
       " 'Trump accused of ‘endless flurry of lies’ for pushing China coronavirus conspiracy theory - follow live https://t.co/IDghq8KTcL',\n",
       " 'Trump accused of ‘endless flurry of lies’ for pushing China coronavirus conspiracy theory - follow live https://t.co/RS8fZVTCVI',\n",
       " '@1342220795Frank @ShubhamNGaud @XHNews China coronavirus party pays you 10c per tweet',\n",
       " \"China coronavirus: 'Increased likelihood' of cases in the UK https://t.co/zF5mT3cROM\",\n",
       " 'Trump news – live: President accused of ‘endless flurry of lies’ for pushing China coronavirus conspiracy theory, after armed protesters storm Michigan State House - The Independent https://t.co/EukqXLhKm6',\n",
       " 'Global stocks slip as US-China coronavirus row hots up \\nSentiment also hit by weak earnings figures from Apple and Amazon https://t.co/iI0DcBX55m',\n",
       " '\\u2066@melissakchan\\u2069 “The bull is in the China” shop. Global stocks tumble after US-China coronavirus row intensifies via @FT\\n https://t.co/7QJ1bqWf3C',\n",
       " '@GovWhitmer is intentionally trying to bankrupt Michigan and Michiganders with this senseless shutdown. This Wuhan China Coronavirus COVID19 has a 99.5% recovery rate. How many deaths has Michigan had from FLU in same time as COVID19? Just asking',\n",
       " 'Trump accused of ‘endless flurry of lies’ for pushing China coronavirus conspiracy theory - follow live https://t.co/30bcvC4Rpw',\n",
       " 'Trump Demands Proof China Coronavirus Wuhan Lab Iraq WMD Yellowcake Uranium Niger OMG WTF BENGhaZI!111!!!! - Wonkette #SmartNews  https://t.co/cMIaaBMHi8',\n",
       " 'Trump accused of ‘endless flurry of lies’ for pushing China coronavirus conspiracy theory - follow live https://t.co/UOlq4S8Wis',\n",
       " 'This China coronavirus crisis has turned into a panic driving gov’s ordering illegal constraints/removal of our  constitutional rights, scientist driving for well over what’s needed for testing or re-engaging in businesses &amp; people getting depressed, taking drugs/alcohol....',\n",
       " 'Trump’s China Coronavirus Conspiracy Is Infiltrating Intelligence Agencies https://t.co/V4mYlA8WOs via @VanityFair',\n",
       " 'Trump’s China Coronavirus Conspiracy Is Infiltrating Intelligence Agencies | Vanity Fair https://t.co/LRoiErNw6g',\n",
       " 'Trump accused of ‘endless flurry of lies’ for pushing China coronavirus conspiracy theory - follow live by @JoeSommerlad https://t.co/s3Qc0DDiNi',\n",
       " 'Trump accused of ‘endless flurry of lies’ for pushing China coronavirus conspiracy theory - follow live https://t.co/XGA5HmOws3',\n",
       " 'Trump accused of ‘endless flurry of lies’ for pushing China coronavirus conspiracy theory - follow live https://t.co/ozKGD6h8WZ IMPEACHABLE behavior by Trump ... disarm and arrest TERRORIST MAGAMORONS...!!!',\n",
       " 'Trump’s China Coronavirus Conspiracy Is Infiltrating Intelligence Agencies\\n\\n“The Trump admin. is reportedly pressuring US spy agencies to find evidence that COVID-19 originated in a Chinese biolab, a theory being fanned by Repubs  &amp; conservative hosts.” https://t.co/UdFxiR89sN',\n",
       " 'Donald Trump #DonaldTrump Amazon #Amazon China #China coronavirus crisis #coronaviruscrisis #Politi Wall Street slides as Trump warns of new China tariffs via https://t.co/oKeARFvm3x']"
      ]
     },
     "metadata": {},
     "execution_count": 21
    }
   ],
   "metadata": {}
  }
 ],
 "metadata": {
  "orig_nbformat": 4,
  "language_info": {
   "name": "python",
   "version": "3.8.10",
   "mimetype": "text/x-python",
   "codemirror_mode": {
    "name": "ipython",
    "version": 3
   },
   "pygments_lexer": "ipython3",
   "nbconvert_exporter": "python",
   "file_extension": ".py"
  },
  "kernelspec": {
   "name": "python3810jvsc74a57bd0de8d688998391b4e340423aec176e4bbb9afb78f2320e3ca59b2d8556c4a2b46",
   "display_name": "Python 3.8.5 64-bit ('nlpenv': venv)",
   "language": "python"
  }
 },
 "nbformat": 4,
 "nbformat_minor": 2
}