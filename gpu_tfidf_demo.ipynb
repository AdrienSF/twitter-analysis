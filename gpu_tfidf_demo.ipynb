{
  "cells": [
    {
      "metadata": {},
      "cell_type": "markdown",
      "source": [
        "# NLP preprocessing and vectorizing at rocking speed with RAPIDS cuML"
      ]
    },
    {
      "metadata": {},
      "cell_type": "markdown",
      "source": [
        "#### Author: Simon Andersen\n",
        "In this notebook, we will show how to preprocess and vectorize a text dataset on GPU using cuML to get **performance boost up to 5x** compared to CPU.\n",
        "\n",
        "Here the vectorizing method is **TF-IDF**. Our GPU TfidfVectorizer is largely dirived from scikit-learn [TfidfVectorizer](https://scikit-learn.org/stable/modules/generated/sklearn.feature_extraction.text.TfidfVectorizer.html#sklearn.feature_extraction.text.TfidfVectorizer).\n",
        "\n",
        "This notebook was tested on an NVIDIA Tesla V100-32Gb GPU using RAPIDS 0.15 and CUDA 10.0. Please be aware that your system may be different, and you may need to modify the code or install packages to run the below examples. If you think you have found a bug or an error, please file an issue in [cuML](https://github.com/rapidsai/cuml/issues).\n",
        "\n",
        "### Data\n",
        "We will be working with a dataset of 8M Tweets related to the covid-19, or about 3Gb text data (credit goes to [Shane Smith](https://www.kaggle.com/smid80) for gathering the data from Twitter and publishing it on [Kaggle](https://www.kaggle.com/smid80/coronavirus-covid19-tweets-early-april)). If you want to run this notebook on your own setup, you will have to download the dataset [here](https://www.kaggle.com/smid80/coronavirus-covid19-tweets-early-april)."
      ]
    },
    {
      "metadata": {},
      "cell_type": "markdown",
      "source": [
        "## Imports and definitions"
      ]
    },
    {
      "metadata": {
        "ExecuteTime": {
          "start_time": "2020-07-10T17:49:53.043129Z",
          "end_time": "2020-07-10T17:49:53.045767Z"
        },
        "trusted": true
      },
      "cell_type": "code",
      "source": [
        "import os\n",
        "os.environ[\"CUDA_VISIBLE_DEVICES\"]='1'"
      ],
      "execution_count": null,
      "outputs": []
    },
    {
      "metadata": {
        "ExecuteTime": {
          "start_time": "2020-07-10T17:49:53.639639Z",
          "end_time": "2020-07-10T17:49:54.885872Z"
        },
        "trusted": true
      },
      "cell_type": "code",
      "source": [
        "import cudf\n",
        "from cudf import Series\n",
        "from cudf import DataFrame\n",
        "\n",
        "from cuml.feature_extraction.text import TfidfVectorizer"
      ],
      "execution_count": null,
      "outputs": []
    },
    {
      "metadata": {
        "ExecuteTime": {
          "start_time": "2020-07-10T17:49:54.887488Z",
          "end_time": "2020-07-10T17:49:54.890434Z"
        },
        "trusted": true
      },
      "cell_type": "code",
      "source": [
        "import numpy as np\n",
        "import pandas as pd\n",
        "import warnings\n",
        "\n",
        "\n",
        "pd.set_option('display.max_colwidth', 1000000)\n",
        "warnings.filterwarnings('ignore')"
      ],
      "execution_count": null,
      "outputs": []
    },
    {
      "metadata": {
        "ExecuteTime": {
          "start_time": "2020-07-10T17:49:54.892119Z",
          "end_time": "2020-07-10T17:49:54.895974Z"
        },
        "trusted": true
      },
      "cell_type": "code",
      "source": [
        "def join_df(path, df_lib=cudf):\n",
        "    data = df_lib.DataFrame()\n",
        "    for file in os.listdir(path):\n",
        "        print(f\"In path : {path}{file}\")\n",
        "        temp = df_lib.read_csv(path+file)\n",
        "        temp = temp[temp.lang=='en']\n",
        "        data = df_lib.concat([data,temp])\n",
        "    return data"
      ],
      "execution_count": null,
      "outputs": []
    },
    {
      "metadata": {},
      "cell_type": "markdown",
      "source": [
        "## Taking advantage of sparsity"
      ]
    },
    {
      "metadata": {},
      "cell_type": "markdown",
      "source": [
        "With the [dataset](https://www.kaggle.com/smid80/coronavirus-covid19-tweets-early-april) downloaded and extracted in a folder `/tweets`, we can load it into a dataframe using cudf:"
      ]
    },
    {
      "metadata": {
        "ExecuteTime": {
          "start_time": "2020-07-10T17:49:55.778905Z",
          "end_time": "2020-07-10T17:50:01.433168Z"
        },
        "trusted": true
      },
      "cell_type": "code",
      "source": [
        "df = join_df('demo_data/')\n",
        "tweets = Series(df['text'])\n",
        "len(tweets)"
      ],
      "execution_count": null,
      "outputs": []
    },
    {
      "metadata": {},
      "cell_type": "markdown",
      "source": [
        "After filtering non-english tweets, we are left with almost 5M tweets."
      ]
    },
    {
      "metadata": {},
      "cell_type": "markdown",
      "source": [
        "We can then preprocess and vectorize this data using our **TfidfVectorizer**:"
      ]
    },
    {
      "metadata": {
        "ExecuteTime": {
          "start_time": "2020-07-10T17:50:01.434694Z",
          "end_time": "2020-07-10T17:50:25.129170Z"
        },
        "scrolled": true,
        "trusted": true
      },
      "cell_type": "code",
      "source": [
        "vec = TfidfVectorizer(stop_words='english')\n",
        "\n",
        "tfidf_matrix = vec.fit_transform(tweets)\n",
        "tfidf_matrix.shape"
      ],
      "execution_count": null,
      "outputs": []
    },
    {
      "metadata": {},
      "cell_type": "markdown",
      "source": [
        "Which takes 25.9 seconds on a Tesla V100-32Gb. In comparison, scikit-learn’s TfidfVectorizer takes 2 minutes and 54.6 seconds on CPU. Notice the shape of the matrix: (4827372, 5435706). In other words 4.8M by 5.4M floats. This is huge! The only reason it can fit in GPU memory is because we store this data as a sparse matrix."
      ]
    },
    {
      "metadata": {},
      "cell_type": "markdown",
      "source": [
        "### Document search\n",
        "Now that we have our TF-IDF matrix, we want to query it with some keywords to find the most relevant documents. To do this, we will rely on the fact that our TfidfVectorizer has the capability to vectorize any document according to the vocabulary from the input corpus. We will therefore vectorize our query of keywords to get a corresponding vector in the same space as our TF-IDF matrix. Then, all we have to do is to compute the distance between our query vector and each document of the TF-IDF matrix. The document with the smallest distance (or highest similarity) to our query is the most relevant document to our keywords. We chose to use the cosine similarity. When both vectors are normalized, the cosine similarity is just the dot product of those vectors which correspond to the cosine of the angle between the two vectors. \n",
        "\n",
        "Here is an efficient way to compute the cosine similarity between a vector and each row of a matrix, first normalize both the vector and matrix according to the L2 norm and take the dot product between the matrix and the vector:\n"
      ]
    },
    {
      "metadata": {
        "ExecuteTime": {
          "start_time": "2020-07-10T17:50:25.131058Z",
          "end_time": "2020-07-10T17:50:25.136858Z"
        },
        "trusted": true
      },
      "cell_type": "code",
      "source": [
        "from cuml.common.sparsefuncs import csr_row_normalize_l2\n",
        "\n",
        "\n",
        "def efficient_csr_cosine_similarity(query, tfidf_matrix, matrix_normalized=False):\n",
        "    query = csr_row_normalize_l2(query, inplace=False)\n",
        "    if not matrix_normalized:\n",
        "        tfidf_matrix = csr_row_normalize_l2(tfidf_matrix, inplace=False)\n",
        "    \n",
        "    return tfidf_matrix.dot(query.T)\n",
        "\n",
        "\n",
        "def document_search(text_df, query, vectorizer, tfidf_matrix, top_n=3):\n",
        "    query_vec = vectorizer.transform(Series([query]))\n",
        "    similarities = efficient_csr_cosine_similarity(query_vec, tfidf_matrix, matrix_normalized=True)\n",
        "    similarities = similarities.todense().reshape(-1)\n",
        "    best_idx = similarities.argsort()[-top_n:][::-1]\n",
        "    \n",
        "    pp = cudf.DataFrame({\n",
        "        'text': text_df['text'].iloc[best_idx],\n",
        "        'similarity': similarities[best_idx]\n",
        "    })\n",
        "    return pp"
      ],
      "execution_count": null,
      "outputs": []
    },
    {
      "metadata": {},
      "cell_type": "markdown",
      "source": [
        "Let’s try our simple keyword search with a few queries:"
      ]
    },
    {
      "metadata": {
        "ExecuteTime": {
          "start_time": "2020-07-10T17:50:25.138558Z",
          "end_time": "2020-07-10T17:50:25.532169Z"
        },
        "trusted": true
      },
      "cell_type": "code",
      "source": [
        "document_search(df, 'computer science and NLP', vec, tfidf_matrix)"
      ],
      "execution_count": null,
      "outputs": []
    },
    {
      "metadata": {
        "ExecuteTime": {
          "start_time": "2020-07-10T17:50:25.533465Z",
          "end_time": "2020-07-10T17:50:25.978638Z"
        },
        "trusted": true
      },
      "cell_type": "code",
      "source": [
        "document_search(df, 'nvidia gpu', vec, tfidf_matrix)"
      ],
      "execution_count": null,
      "outputs": []
    },
    {
      "metadata": {},
      "cell_type": "markdown",
      "source": [
        "## Clustering\n",
        "Let’s try to find clusters in our tweets and see if we can discover general topics related to the covid-19. Note that here we limited the number of features to 18,000, which means that only the top 18,000 most frequent terms will be represented by our vectors. "
      ]
    },
    {
      "metadata": {
        "ExecuteTime": {
          "start_time": "2020-07-10T17:50:25.980055Z",
          "end_time": "2020-07-10T17:50:50.396768Z"
        },
        "trusted": true,
        "scrolled": true
      },
      "cell_type": "code",
      "source": [
        "vec = TfidfVectorizer(max_features=18000, stop_words='english')\n",
        "tfidf_matrix = vec.fit_transform(tweets)\n",
        "tfidf_matrix.shape"
      ],
      "execution_count": null,
      "outputs": []
    },
    {
      "metadata": {},
      "cell_type": "markdown",
      "source": [
        "### KMeans\n",
        "KMeans clustering is an algorithm that aims to partition n observations into k clusters in which each observation belongs to the cluster with the nearest center. Cluster centers (or cluster centroid) are simply the cluster’s mean. KMeans require us to provide the number of cluster k beforehand. Ideally, we want to choose the number of clusters carefully. One technique to find a good number of clusters is the Elbow Method. Essentially, the method consists of plotting the explained variation as a function of the number of clusters, and picking the elbow of the curve as the number of clusters. However, for simplicity, I’ll arbitrarily set `k = 10` as it seems to be decent for this dataset. \n"
      ]
    },
    {
      "metadata": {
        "ExecuteTime": {
          "start_time": "2020-07-10T17:50:50.398018Z",
          "end_time": "2020-07-10T17:50:50.456970Z"
        },
        "trusted": true
      },
      "cell_type": "code",
      "source": [
        "from cuml.cluster import KMeans\n",
        "\n",
        "\n",
        "num_clusters = 10\n",
        "sample_size = 100_000\n",
        "kmeans_model = KMeans(n_clusters=num_clusters, n_init=1, max_iter=1000)\n",
        "sample_data = tfidf_matrix[:sample_size].todense()\n",
        "sample_tweets = tweets[:sample_size].reset_index(drop=True)"
      ],
      "execution_count": null,
      "outputs": []
    },
    {
      "metadata": {},
      "cell_type": "markdown",
      "source": [
        "You might have noticed that we only use 100,000 samples here instead of the full dataset. As we discussed earlier, sparsity is very important and the `tfidf_matrix` for this dataset cannot fit into GPU memory unless we keep it sparse. Since cuML KMeans does not support sparse input yet, we have to use a subset of the dataset which can fit in GPU memory. This is not a blocker for this demonstration as 100,000 samples is enough to find interesting clusters on this dataset."
      ]
    },
    {
      "metadata": {
        "ExecuteTime": {
          "start_time": "2020-07-10T17:50:50.458713Z",
          "end_time": "2020-07-10T17:50:52.038759Z"
        },
        "trusted": true
      },
      "cell_type": "code",
      "source": [
        "kmeans = kmeans_model.fit(sample_data)\n",
        "kmeans_clusters = kmeans.predict(sample_data)\n",
        "kmeans_distances = kmeans.transform(sample_data)"
      ],
      "execution_count": null,
      "outputs": []
    },
    {
      "metadata": {},
      "cell_type": "markdown",
      "source": [
        "Using the previously computed TF-IDF, we can look at the most important words for each of our clusters (which are the words with the highest tf-idf value in each of the cluster centers). We filter terms that are also present in other clusters as they do not help us distinguish different topics. For instance, words such as “covid” or “coronavirus” are top words in almost all clusters so we filter them out. Hopefully this will be a good indication of the topic of each cluster."
      ]
    },
    {
      "metadata": {
        "ExecuteTime": {
          "start_time": "2020-07-10T17:50:52.040138Z",
          "end_time": "2020-07-10T17:50:52.116171Z"
        },
        "scrolled": true,
        "trusted": true
      },
      "cell_type": "code",
      "source": [
        "import numpy as np\n",
        "\n",
        "\n",
        "sorted_centroids = kmeans.cluster_centers_.argsort()[:, ::-1]\n",
        "terms = vec.get_feature_names()\n",
        "\n",
        "clusters_terms = sorted_centroids[:, :100].get()\n",
        "\n",
        "for i, c1 in enumerate(clusters_terms):\n",
        "    cluster = set(c1)\n",
        "    for j, c2 in enumerate(clusters_terms):\n",
        "        if i == j:\n",
        "            continue\n",
        "        cluster -= set(c2)\n",
        "    cluster = c1[np.isin(c1, list(cluster))][:5]\n",
        "    print(f'Cluster {i}:', ' | '.join(terms[cluster].tolist()))"
      ],
      "execution_count": null,
      "outputs": []
    },
    {
      "metadata": {},
      "cell_type": "markdown",
      "source": [
        "Looking at the top words from each cluster we can guess topics for most of them. For instance, cluster 0 seems to be tweets of people trying to guess when the pandemic (or social distancing) will end. Cluster 6 seems focused about the area around New York city which was one of the first epicenters of the pandemic in the US. Cluster 4 seems to be about safety rules like washing your hands and staying at home, let’s sample a few tweets from this cluster:"
      ]
    },
    {
      "metadata": {
        "deletable": false,
        "editable": false,
        "scrolled": false,
        "trusted": true,
        "ExecuteTime": {
          "start_time": "2020-07-10T17:51:40.929863Z",
          "end_time": "2020-07-10T17:51:40.944695Z"
        },
        "run_control": {
          "frozen": true
        }
      },
      "cell_type": "code",
      "source": [
        "sample_tweets[kmeans_clusters == 4].to_pandas().sample()"
      ],
      "execution_count": null,
      "outputs": []
    },
    {
      "metadata": {
        "deletable": false,
        "editable": false,
        "trusted": true,
        "ExecuteTime": {
          "start_time": "2020-07-10T17:52:10.579523Z",
          "end_time": "2020-07-10T17:52:10.592469Z"
        },
        "run_control": {
          "frozen": true
        }
      },
      "cell_type": "code",
      "source": [
        "sample_tweets[kmeans_clusters == 4].to_pandas().sample()"
      ],
      "execution_count": null,
      "outputs": []
    },
    {
      "metadata": {},
      "cell_type": "markdown",
      "source": [
        "Pretty good! This is coherent with our guess for the topic of this cluster, hinting that tweets are indeed linearly separable using this method."
      ]
    },
    {
      "metadata": {},
      "cell_type": "markdown",
      "source": [
        "### t-SNE\n",
        "KMeans helps us find clusters for our data, but the resulting matrix is highly-dimensional with 30 components which is hard to represent on a 2D plane. In order to visualize those clusters, we will use the t-SNE algorithm to reduce the dimensionality of our data. t-SNE models each high-dimensional object by a n-dimensional point (for instance `n=2`) in such a way that similar objects are modeled by nearby points and dissimilar objects are modeled by distant points with high probability. In our case, t-SNE will help us find a low dimensional data representation that keeps close points together in the 2D space. With this 2D representation, we will see more clearly if our KMeans worked as clusters should be visible on the plot."
      ]
    },
    {
      "metadata": {
        "deletable": false,
        "editable": false,
        "run_control": {
          "frozen": true
        },
        "trusted": true
      },
      "cell_type": "code",
      "source": [
        "from cuml.manifold import TSNE\n",
        "\n",
        "\n",
        "tsne_model = TSNE(n_components=2, verbose=1, random_state=42, n_iter=1000)\n",
        "tsne_kmeans = tsne_model.fit_transform(kmeans_distances)"
      ],
      "execution_count": null,
      "outputs": []
    },
    {
      "metadata": {},
      "cell_type": "markdown",
      "source": [
        "We can now plot our data with colors according to their cluster assignment to visualize the clusters discovered by KMeans:"
      ]
    },
    {
      "metadata": {
        "deletable": false,
        "editable": false,
        "run_control": {
          "frozen": true
        },
        "scrolled": false,
        "trusted": true
      },
      "cell_type": "code",
      "source": [
        "from bokeh.palettes import Turbo256\n",
        "\n",
        "\n",
        "# setup data\n",
        "step = len(Turbo256) / num_clusters\n",
        "kmeans_df = DataFrame(tsne_kmeans, columns=['x', 'y'])\n",
        "kmeans_df['cluster'] = kmeans_clusters\n",
        "kmeans_df['tweets'] = sample_tweets\n",
        "kmeans_df['color'] = [Turbo256[int(i * step)] for i in kmeans_clusters.tolist()]\n",
        "kmeans_df = kmeans_df.to_pandas()\n",
        "\n",
        "import matplotlib.pyplot as plt\n",
        "from matplotlib.pyplot import figure\n",
        "\n",
        "\n",
        "fig, ax = plt.subplots(figsize=(7, 6), dpi=100)\n",
        "\n",
        "ax.scatter(kmeans_df['x'], kmeans_df['y'], color=kmeans_df['color'], s = 5)"
      ],
      "execution_count": null,
      "outputs": []
    },
    {
      "metadata": {},
      "cell_type": "markdown",
      "source": [
        "We can clearly see different groups of clusters, pretty good! Of course it’s not perfect as some clusters seem to be merging with others like deep blue with deep orange, or deep blue with green, but others are completely separated like deep red, black or cyan. This is expected as we could have done a better job of choosing the number of clusters cleverly instead of picking 10 arbitrarily. Added to the fact that this dataset is made of real tweets, which means uncleaned data and outliers, this result seems pretty good. Let’s draw markers for the two earlier tweets from cluster 4 with a black colored X and add a tweet from cluster 6 with a red cross."
      ]
    },
    {
      "metadata": {
        "deletable": false,
        "editable": false,
        "run_control": {
          "frozen": true
        },
        "trusted": true,
        "scrolled": false
      },
      "cell_type": "code",
      "source": [
        "# markers\n",
        "cluster_4_tweets = [4338, 62623]\n",
        "cluster_6_tweets = [55737]\n",
        "\n",
        "def get_glyph_df(tweets_ids, color):\n",
        "    glyph_df = kmeans_df.iloc[tweets_ids].copy()\n",
        "    glyph_df['color'] = color\n",
        "    glyph_df['size'] = 20\n",
        "    return glyph_df\n",
        "\n",
        "glyph_4 = get_glyph_df(cluster_4_tweets, '#000000')\n",
        "glyph_6 = get_glyph_df(cluster_6_tweets, '#c72020')\n",
        "\n",
        "fig, ax = plt.subplots(figsize=(7, 6), dpi=100)\n",
        "\n",
        "ax.scatter(kmeans_df['x'], kmeans_df['y'], color=kmeans_df['color'], s = 5)\n",
        "ax.scatter(glyph_4['x'], glyph_4['y'], color=glyph_4['color'], marker='x', s=80)\n",
        "ax.scatter(glyph_6['x'], glyph_6['y'], color=glyph_6['color'], marker='+', s=100)"
      ],
      "execution_count": null,
      "outputs": []
    },
    {
      "metadata": {},
      "cell_type": "markdown",
      "source": [
        "For reference, here are the tweets from cluster 4 (marked with a black X on the graph):"
      ]
    },
    {
      "metadata": {
        "ExecuteTime": {
          "start_time": "2020-07-10T17:40:40.570709Z",
          "end_time": "2020-07-10T17:40:40.584322Z"
        },
        "editable": false,
        "deletable": false,
        "run_control": {
          "frozen": true
        },
        "trusted": true
      },
      "cell_type": "code",
      "source": [
        "glyph_4[['tweets', 'cluster']]"
      ],
      "execution_count": null,
      "outputs": []
    },
    {
      "metadata": {},
      "cell_type": "markdown",
      "source": [
        "And here is the tweet from cluster 6 (marked with a red + on the graph):"
      ]
    },
    {
      "metadata": {
        "ExecuteTime": {
          "start_time": "2020-07-10T17:40:42.604958Z",
          "end_time": "2020-07-10T17:40:42.618142Z"
        },
        "editable": false,
        "deletable": false,
        "run_control": {
          "frozen": true
        },
        "trusted": true
      },
      "cell_type": "code",
      "source": [
        "glyph_6[['tweets', 'cluster']]"
      ],
      "execution_count": null,
      "outputs": []
    },
    {
      "metadata": {
        "ExecuteTime": {
          "start_time": "2020-07-10T16:30:58.620863Z",
          "end_time": "2020-07-10T16:30:58.630068Z"
        }
      },
      "cell_type": "markdown",
      "source": [
        "---\n",
        "Copyright (c) 2020, NVIDIA CORPORATION.\n",
        "\n",
        "Licensed under the Apache License, Version 2.0 (the \"License\"); you may not use this file except in compliance with the License. You may obtain a copy of the License at http://www.apache.org/licenses/LICENSE-2.0\n",
        "\n",
        "Unless required by applicable law or agreed to in writing, software distributed under the License is distributed on an \"AS IS\" BASIS, WITHOUT WARRANTIES OR CONDITIONS OF ANY KIND, either express or implied. See the License for the specific language governing permissions and limitations under the License."
      ]
    }
  ],
  "metadata": {
    "_draft": {
      "nbviewer_url": "https://gist.github.com/e96f2f48d1de35b21506a13cdc37a363"
    },
    "gist": {
      "id": "e96f2f48d1de35b21506a13cdc37a363",
      "data": {
        "description": "notebooks/gpu_tfidf_demo.ipynb",
        "public": false
      }
    },
    "kernelspec": {
      "name": "python3710jvsc74a57bd0b8382306583d7cf0a58965b3b2f3465714d86c09a1b92ed73f0db09637c5250d",
      "display_name": "Python 3.7.10 64-bit ('rapids-0.19': conda)"
    },
    "language_info": {
      "name": "python",
      "version": "3.7.10",
      "mimetype": "text/x-python",
      "codemirror_mode": {
        "name": "ipython",
        "version": 3
      },
      "pygments_lexer": "ipython3",
      "nbconvert_exporter": "python",
      "file_extension": ".py"
    },
    "toc": {
      "nav_menu": {},
      "number_sections": true,
      "sideBar": true,
      "skip_h1_title": false,
      "base_numbering": 1,
      "title_cell": "Table of Contents",
      "title_sidebar": "Contents",
      "toc_cell": false,
      "toc_position": {
        "height": "calc(100% - 180px)",
        "left": "10px",
        "top": "150px",
        "width": "174px"
      },
      "toc_section_display": true,
      "toc_window_display": true
    },
    "metadata": {
      "interpreter": {
        "hash": "b8382306583d7cf0a58965b3b2f3465714d86c09a1b92ed73f0db09637c5250d"
      }
    }
  },
  "nbformat": 4,
  "nbformat_minor": 4
}