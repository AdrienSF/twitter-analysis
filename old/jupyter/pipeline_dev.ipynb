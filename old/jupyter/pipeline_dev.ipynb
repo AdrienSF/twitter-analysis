{
 "metadata": {
  "language_info": {
   "codemirror_mode": {
    "name": "ipython",
    "version": 3
   },
   "file_extension": ".py",
   "mimetype": "text/x-python",
   "name": "python",
   "nbconvert_exporter": "python",
   "pygments_lexer": "ipython3",
   "version": "3.8.5"
  },
  "orig_nbformat": 2,
  "kernelspec": {
   "name": "python385jvsc74a57bd0de8d688998391b4e340423aec176e4bbb9afb78f2320e3ca59b2d8556c4a2b46",
   "display_name": "Python 3.8.5 64-bit ('nlpenv': venv)",
   "language": "python"
  },
  "metadata": {
   "interpreter": {
    "hash": "de8d688998391b4e340423aec176e4bbb9afb78f2320e3ca59b2d8556c4a2b46"
   }
  }
 },
 "nbformat": 4,
 "nbformat_minor": 2,
 "cells": [
  {
   "cell_type": "code",
   "execution_count": 1,
   "metadata": {},
   "outputs": [],
   "source": [
    "import datetime\n",
    "filenames = !ls ../../twitter_data"
   ]
  },
  {
   "cell_type": "code",
   "execution_count": 2,
   "metadata": {},
   "outputs": [],
   "source": [
    "# startfilenames = [ name for name in filenames if any(substring in name for substring in start) ]"
   ]
  },
  {
   "cell_type": "code",
   "execution_count": 3,
   "metadata": {},
   "outputs": [],
   "source": [
    "# len(startfilenames)"
   ]
  },
  {
   "cell_type": "code",
   "execution_count": 4,
   "metadata": {},
   "outputs": [],
   "source": [
    "# start\n",
    "# '2020-4-23' in filenames[0]"
   ]
  },
  {
   "cell_type": "code",
   "execution_count": 5,
   "metadata": {},
   "outputs": [],
   "source": [
    "other = [ name for name in filenames if \"twitter-coronavirus-A-\" not in name and \"twitter-coronavirus-B-\" not in name]"
   ]
  },
  {
   "cell_type": "code",
   "execution_count": 6,
   "metadata": {},
   "outputs": [],
   "source": [
    "# filenames[0].split('-')[3:6][0]"
   ]
  },
  {
   "cell_type": "code",
   "execution_count": 7,
   "metadata": {},
   "outputs": [],
   "source": [
    "info = { tuple([inf for inf in name.split('-')[3:6]]) for name in filenames }"
   ]
  },
  {
   "cell_type": "code",
   "execution_count": 8,
   "metadata": {},
   "outputs": [],
   "source": [
    "# datetime.datetime(int(info[0]), int(info[1]), int(info[2]))"
   ]
  },
  {
   "cell_type": "code",
   "execution_count": 9,
   "metadata": {},
   "outputs": [],
   "source": [
    "start = sorted(list(info))[:7]"
   ]
  },
  {
   "cell_type": "code",
   "execution_count": 10,
   "metadata": {},
   "outputs": [],
   "source": [
    "mid = sorted(list(info))[50:57]"
   ]
  },
  {
   "cell_type": "code",
   "execution_count": 11,
   "metadata": {},
   "outputs": [],
   "source": [
    "end = sorted(list(info))[-7:]"
   ]
  },
  {
   "cell_type": "code",
   "execution_count": 12,
   "metadata": {},
   "outputs": [],
   "source": [
    "start = ['-'.join([str(n) for n in date]) for date in start]\n",
    "mid = ['-'.join([str(n) for n in date]) for date in mid]\n",
    "end = ['-'.join([str(n) for n in date]) for date in end]"
   ]
  },
  {
   "cell_type": "code",
   "execution_count": 13,
   "metadata": {},
   "outputs": [
    {
     "output_type": "execute_result",
     "data": {
      "text/plain": [
       "[['2020-04-23',\n",
       "  '2020-04-24',\n",
       "  '2020-04-25',\n",
       "  '2020-04-26',\n",
       "  '2020-04-27',\n",
       "  '2020-04-28',\n",
       "  '2020-04-29'],\n",
       " ['2020-06-12',\n",
       "  '2020-06-13',\n",
       "  '2020-06-14',\n",
       "  '2020-06-15',\n",
       "  '2020-06-16',\n",
       "  '2020-06-17',\n",
       "  '2020-06-18'],\n",
       " ['2020-08-11',\n",
       "  '2020-08-12',\n",
       "  '2020-08-13',\n",
       "  '2020-08-14',\n",
       "  '2020-08-15',\n",
       "  '2020-08-16',\n",
       "  '2020-08-17']]"
      ]
     },
     "metadata": {},
     "execution_count": 13
    }
   ],
   "source": [
    "[start, mid, end]"
   ]
  },
  {
   "cell_type": "code",
   "execution_count": null,
   "metadata": {},
   "outputs": [],
   "source": []
  }
 ]
}