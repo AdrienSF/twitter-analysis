{
 "metadata": {
  "language_info": {
   "codemirror_mode": {
    "name": "ipython",
    "version": 3
   },
   "file_extension": ".py",
   "mimetype": "text/x-python",
   "name": "python",
   "nbconvert_exporter": "python",
   "pygments_lexer": "ipython3",
   "version": "3.8.5"
  },
  "orig_nbformat": 2,
  "kernelspec": {
   "name": "python3",
   "display_name": "Python 3.8.5 64-bit ('nlpenv': venv)"
  },
  "metadata": {
   "interpreter": {
    "hash": "de8d688998391b4e340423aec176e4bbb9afb78f2320e3ca59b2d8556c4a2b46"
   }
  },
  "interpreter": {
   "hash": "de8d688998391b4e340423aec176e4bbb9afb78f2320e3ca59b2d8556c4a2b46"
  }
 },
 "nbformat": 4,
 "nbformat_minor": 2,
 "cells": [
  {
   "cell_type": "code",
   "execution_count": 2,
   "metadata": {},
   "outputs": [],
   "source": [
    "import os\n",
    "import json\n",
    "import csv\n",
    "import numpy as np\n",
    "import pandas as pd\n",
    "import seaborn\n",
    "import matplotlib.pyplot as plt\n",
    "%matplotlib inline\n",
    "# import Collections\n",
    "import gensim\n",
    "\n"
   ]
  },
  {
   "cell_type": "code",
   "execution_count": 30,
   "metadata": {},
   "outputs": [
    {
     "output_type": "execute_result",
     "data": {
      "text/plain": [
       "Text(0, 0.5, 'bytes')"
      ]
     },
     "metadata": {},
     "execution_count": 30
    },
    {
     "output_type": "display_data",
     "data": {
      "text/plain": "<Figure size 432x288 with 1 Axes>",
      "image/svg+xml": "<?xml version=\"1.0\" encoding=\"utf-8\" standalone=\"no\"?>\n<!DOCTYPE svg PUBLIC \"-//W3C//DTD SVG 1.1//EN\"\n  \"http://www.w3.org/Graphics/SVG/1.1/DTD/svg11.dtd\">\n<svg height=\"262.19625pt\" version=\"1.1\" viewBox=\"0 0 408.053125 262.19625\" width=\"408.053125pt\" xmlns=\"http://www.w3.org/2000/svg\" xmlns:xlink=\"http://www.w3.org/1999/xlink\">\n <metadata>\n  <rdf:RDF xmlns:cc=\"http://creativecommons.org/ns#\" xmlns:dc=\"http://purl.org/dc/elements/1.1/\" xmlns:rdf=\"http://www.w3.org/1999/02/22-rdf-syntax-ns#\">\n   <cc:Work>\n    <dc:type rdf:resource=\"http://purl.org/dc/dcmitype/StillImage\"/>\n    <dc:date>2021-06-16T16:38:12.618156</dc:date>\n    <dc:format>image/svg+xml</dc:format>\n    <dc:creator>\n     <cc:Agent>\n      <dc:title>Matplotlib v3.4.2, https://matplotlib.org/</dc:title>\n     </cc:Agent>\n    </dc:creator>\n   </cc:Work>\n  </rdf:RDF>\n </metadata>\n <defs>\n  <style type=\"text/css\">*{stroke-linecap:butt;stroke-linejoin:round;}</style>\n </defs>\n <g id=\"figure_1\">\n  <g id=\"patch_1\">\n   <path d=\"M 0 262.19625 \nL 408.053125 262.19625 \nL 408.053125 0 \nL 0 0 \nz\n\" style=\"fill:none;\"/>\n  </g>\n  <g id=\"axes_1\">\n   <g id=\"patch_2\">\n    <path d=\"M 66.053125 224.64 \nL 400.853125 224.64 \nL 400.853125 7.2 \nL 66.053125 7.2 \nz\n\" style=\"fill:#ffffff;\"/>\n   </g>\n   <g id=\"matplotlib.axis_1\">\n    <g id=\"xtick_1\">\n     <g id=\"line2d_1\">\n      <defs>\n       <path d=\"M 0 0 \nL 0 3.5 \n\" id=\"m67d5440de5\" style=\"stroke:#000000;stroke-width:0.8;\"/>\n      </defs>\n      <g>\n       <use style=\"stroke:#000000;stroke-width:0.8;\" x=\"79.063447\" xlink:href=\"#m67d5440de5\" y=\"224.64\"/>\n      </g>\n     </g>\n     <g id=\"text_1\">\n      <!-- 0.0 -->\n      <g transform=\"translate(71.111885 239.238437)scale(0.1 -0.1)\">\n       <defs>\n        <path d=\"M 2034 4250 \nQ 1547 4250 1301 3770 \nQ 1056 3291 1056 2328 \nQ 1056 1369 1301 889 \nQ 1547 409 2034 409 \nQ 2525 409 2770 889 \nQ 3016 1369 3016 2328 \nQ 3016 3291 2770 3770 \nQ 2525 4250 2034 4250 \nz\nM 2034 4750 \nQ 2819 4750 3233 4129 \nQ 3647 3509 3647 2328 \nQ 3647 1150 3233 529 \nQ 2819 -91 2034 -91 \nQ 1250 -91 836 529 \nQ 422 1150 422 2328 \nQ 422 3509 836 4129 \nQ 1250 4750 2034 4750 \nz\n\" id=\"DejaVuSans-30\" transform=\"scale(0.015625)\"/>\n        <path d=\"M 684 794 \nL 1344 794 \nL 1344 0 \nL 684 0 \nL 684 794 \nz\n\" id=\"DejaVuSans-2e\" transform=\"scale(0.015625)\"/>\n       </defs>\n       <use xlink:href=\"#DejaVuSans-30\"/>\n       <use x=\"63.623047\" xlink:href=\"#DejaVuSans-2e\"/>\n       <use x=\"95.410156\" xlink:href=\"#DejaVuSans-30\"/>\n      </g>\n     </g>\n    </g>\n    <g id=\"xtick_2\">\n     <g id=\"line2d_2\">\n      <g>\n       <use style=\"stroke:#000000;stroke-width:0.8;\" x=\"125.884768\" xlink:href=\"#m67d5440de5\" y=\"224.64\"/>\n      </g>\n     </g>\n     <g id=\"text_2\">\n      <!-- 0.2 -->\n      <g transform=\"translate(117.933206 239.238437)scale(0.1 -0.1)\">\n       <defs>\n        <path d=\"M 1228 531 \nL 3431 531 \nL 3431 0 \nL 469 0 \nL 469 531 \nQ 828 903 1448 1529 \nQ 2069 2156 2228 2338 \nQ 2531 2678 2651 2914 \nQ 2772 3150 2772 3378 \nQ 2772 3750 2511 3984 \nQ 2250 4219 1831 4219 \nQ 1534 4219 1204 4116 \nQ 875 4013 500 3803 \nL 500 4441 \nQ 881 4594 1212 4672 \nQ 1544 4750 1819 4750 \nQ 2544 4750 2975 4387 \nQ 3406 4025 3406 3419 \nQ 3406 3131 3298 2873 \nQ 3191 2616 2906 2266 \nQ 2828 2175 2409 1742 \nQ 1991 1309 1228 531 \nz\n\" id=\"DejaVuSans-32\" transform=\"scale(0.015625)\"/>\n       </defs>\n       <use xlink:href=\"#DejaVuSans-30\"/>\n       <use x=\"63.623047\" xlink:href=\"#DejaVuSans-2e\"/>\n       <use x=\"95.410156\" xlink:href=\"#DejaVuSans-32\"/>\n      </g>\n     </g>\n    </g>\n    <g id=\"xtick_3\">\n     <g id=\"line2d_3\">\n      <g>\n       <use style=\"stroke:#000000;stroke-width:0.8;\" x=\"172.70609\" xlink:href=\"#m67d5440de5\" y=\"224.64\"/>\n      </g>\n     </g>\n     <g id=\"text_3\">\n      <!-- 0.4 -->\n      <g transform=\"translate(164.754527 239.238437)scale(0.1 -0.1)\">\n       <defs>\n        <path d=\"M 2419 4116 \nL 825 1625 \nL 2419 1625 \nL 2419 4116 \nz\nM 2253 4666 \nL 3047 4666 \nL 3047 1625 \nL 3713 1625 \nL 3713 1100 \nL 3047 1100 \nL 3047 0 \nL 2419 0 \nL 2419 1100 \nL 313 1100 \nL 313 1709 \nL 2253 4666 \nz\n\" id=\"DejaVuSans-34\" transform=\"scale(0.015625)\"/>\n       </defs>\n       <use xlink:href=\"#DejaVuSans-30\"/>\n       <use x=\"63.623047\" xlink:href=\"#DejaVuSans-2e\"/>\n       <use x=\"95.410156\" xlink:href=\"#DejaVuSans-34\"/>\n      </g>\n     </g>\n    </g>\n    <g id=\"xtick_4\">\n     <g id=\"line2d_4\">\n      <g>\n       <use style=\"stroke:#000000;stroke-width:0.8;\" x=\"219.527411\" xlink:href=\"#m67d5440de5\" y=\"224.64\"/>\n      </g>\n     </g>\n     <g id=\"text_4\">\n      <!-- 0.6 -->\n      <g transform=\"translate(211.575848 239.238437)scale(0.1 -0.1)\">\n       <defs>\n        <path d=\"M 2113 2584 \nQ 1688 2584 1439 2293 \nQ 1191 2003 1191 1497 \nQ 1191 994 1439 701 \nQ 1688 409 2113 409 \nQ 2538 409 2786 701 \nQ 3034 994 3034 1497 \nQ 3034 2003 2786 2293 \nQ 2538 2584 2113 2584 \nz\nM 3366 4563 \nL 3366 3988 \nQ 3128 4100 2886 4159 \nQ 2644 4219 2406 4219 \nQ 1781 4219 1451 3797 \nQ 1122 3375 1075 2522 \nQ 1259 2794 1537 2939 \nQ 1816 3084 2150 3084 \nQ 2853 3084 3261 2657 \nQ 3669 2231 3669 1497 \nQ 3669 778 3244 343 \nQ 2819 -91 2113 -91 \nQ 1303 -91 875 529 \nQ 447 1150 447 2328 \nQ 447 3434 972 4092 \nQ 1497 4750 2381 4750 \nQ 2619 4750 2861 4703 \nQ 3103 4656 3366 4563 \nz\n\" id=\"DejaVuSans-36\" transform=\"scale(0.015625)\"/>\n       </defs>\n       <use xlink:href=\"#DejaVuSans-30\"/>\n       <use x=\"63.623047\" xlink:href=\"#DejaVuSans-2e\"/>\n       <use x=\"95.410156\" xlink:href=\"#DejaVuSans-36\"/>\n      </g>\n     </g>\n    </g>\n    <g id=\"xtick_5\">\n     <g id=\"line2d_5\">\n      <g>\n       <use style=\"stroke:#000000;stroke-width:0.8;\" x=\"266.348732\" xlink:href=\"#m67d5440de5\" y=\"224.64\"/>\n      </g>\n     </g>\n     <g id=\"text_5\">\n      <!-- 0.8 -->\n      <g transform=\"translate(258.397169 239.238437)scale(0.1 -0.1)\">\n       <defs>\n        <path d=\"M 2034 2216 \nQ 1584 2216 1326 1975 \nQ 1069 1734 1069 1313 \nQ 1069 891 1326 650 \nQ 1584 409 2034 409 \nQ 2484 409 2743 651 \nQ 3003 894 3003 1313 \nQ 3003 1734 2745 1975 \nQ 2488 2216 2034 2216 \nz\nM 1403 2484 \nQ 997 2584 770 2862 \nQ 544 3141 544 3541 \nQ 544 4100 942 4425 \nQ 1341 4750 2034 4750 \nQ 2731 4750 3128 4425 \nQ 3525 4100 3525 3541 \nQ 3525 3141 3298 2862 \nQ 3072 2584 2669 2484 \nQ 3125 2378 3379 2068 \nQ 3634 1759 3634 1313 \nQ 3634 634 3220 271 \nQ 2806 -91 2034 -91 \nQ 1263 -91 848 271 \nQ 434 634 434 1313 \nQ 434 1759 690 2068 \nQ 947 2378 1403 2484 \nz\nM 1172 3481 \nQ 1172 3119 1398 2916 \nQ 1625 2713 2034 2713 \nQ 2441 2713 2670 2916 \nQ 2900 3119 2900 3481 \nQ 2900 3844 2670 4047 \nQ 2441 4250 2034 4250 \nQ 1625 4250 1398 4047 \nQ 1172 3844 1172 3481 \nz\n\" id=\"DejaVuSans-38\" transform=\"scale(0.015625)\"/>\n       </defs>\n       <use xlink:href=\"#DejaVuSans-30\"/>\n       <use x=\"63.623047\" xlink:href=\"#DejaVuSans-2e\"/>\n       <use x=\"95.410156\" xlink:href=\"#DejaVuSans-38\"/>\n      </g>\n     </g>\n    </g>\n    <g id=\"xtick_6\">\n     <g id=\"line2d_6\">\n      <g>\n       <use style=\"stroke:#000000;stroke-width:0.8;\" x=\"313.170053\" xlink:href=\"#m67d5440de5\" y=\"224.64\"/>\n      </g>\n     </g>\n     <g id=\"text_6\">\n      <!-- 1.0 -->\n      <g transform=\"translate(305.21849 239.238437)scale(0.1 -0.1)\">\n       <defs>\n        <path d=\"M 794 531 \nL 1825 531 \nL 1825 4091 \nL 703 3866 \nL 703 4441 \nL 1819 4666 \nL 2450 4666 \nL 2450 531 \nL 3481 531 \nL 3481 0 \nL 794 0 \nL 794 531 \nz\n\" id=\"DejaVuSans-31\" transform=\"scale(0.015625)\"/>\n       </defs>\n       <use xlink:href=\"#DejaVuSans-31\"/>\n       <use x=\"63.623047\" xlink:href=\"#DejaVuSans-2e\"/>\n       <use x=\"95.410156\" xlink:href=\"#DejaVuSans-30\"/>\n      </g>\n     </g>\n    </g>\n    <g id=\"xtick_7\">\n     <g id=\"line2d_7\">\n      <g>\n       <use style=\"stroke:#000000;stroke-width:0.8;\" x=\"359.991374\" xlink:href=\"#m67d5440de5\" y=\"224.64\"/>\n      </g>\n     </g>\n     <g id=\"text_7\">\n      <!-- 1.2 -->\n      <g transform=\"translate(352.039811 239.238437)scale(0.1 -0.1)\">\n       <use xlink:href=\"#DejaVuSans-31\"/>\n       <use x=\"63.623047\" xlink:href=\"#DejaVuSans-2e\"/>\n       <use x=\"95.410156\" xlink:href=\"#DejaVuSans-32\"/>\n      </g>\n     </g>\n    </g>\n    <g id=\"text_8\">\n     <!-- tweets -->\n     <g transform=\"translate(216.685937 252.916562)scale(0.1 -0.1)\">\n      <defs>\n       <path d=\"M 1172 4494 \nL 1172 3500 \nL 2356 3500 \nL 2356 3053 \nL 1172 3053 \nL 1172 1153 \nQ 1172 725 1289 603 \nQ 1406 481 1766 481 \nL 2356 481 \nL 2356 0 \nL 1766 0 \nQ 1100 0 847 248 \nQ 594 497 594 1153 \nL 594 3053 \nL 172 3053 \nL 172 3500 \nL 594 3500 \nL 594 4494 \nL 1172 4494 \nz\n\" id=\"DejaVuSans-74\" transform=\"scale(0.015625)\"/>\n       <path d=\"M 269 3500 \nL 844 3500 \nL 1563 769 \nL 2278 3500 \nL 2956 3500 \nL 3675 769 \nL 4391 3500 \nL 4966 3500 \nL 4050 0 \nL 3372 0 \nL 2619 2869 \nL 1863 0 \nL 1184 0 \nL 269 3500 \nz\n\" id=\"DejaVuSans-77\" transform=\"scale(0.015625)\"/>\n       <path d=\"M 3597 1894 \nL 3597 1613 \nL 953 1613 \nQ 991 1019 1311 708 \nQ 1631 397 2203 397 \nQ 2534 397 2845 478 \nQ 3156 559 3463 722 \nL 3463 178 \nQ 3153 47 2828 -22 \nQ 2503 -91 2169 -91 \nQ 1331 -91 842 396 \nQ 353 884 353 1716 \nQ 353 2575 817 3079 \nQ 1281 3584 2069 3584 \nQ 2775 3584 3186 3129 \nQ 3597 2675 3597 1894 \nz\nM 3022 2063 \nQ 3016 2534 2758 2815 \nQ 2500 3097 2075 3097 \nQ 1594 3097 1305 2825 \nQ 1016 2553 972 2059 \nL 3022 2063 \nz\n\" id=\"DejaVuSans-65\" transform=\"scale(0.015625)\"/>\n       <path d=\"M 2834 3397 \nL 2834 2853 \nQ 2591 2978 2328 3040 \nQ 2066 3103 1784 3103 \nQ 1356 3103 1142 2972 \nQ 928 2841 928 2578 \nQ 928 2378 1081 2264 \nQ 1234 2150 1697 2047 \nL 1894 2003 \nQ 2506 1872 2764 1633 \nQ 3022 1394 3022 966 \nQ 3022 478 2636 193 \nQ 2250 -91 1575 -91 \nQ 1294 -91 989 -36 \nQ 684 19 347 128 \nL 347 722 \nQ 666 556 975 473 \nQ 1284 391 1588 391 \nQ 1994 391 2212 530 \nQ 2431 669 2431 922 \nQ 2431 1156 2273 1281 \nQ 2116 1406 1581 1522 \nL 1381 1569 \nQ 847 1681 609 1914 \nQ 372 2147 372 2553 \nQ 372 3047 722 3315 \nQ 1072 3584 1716 3584 \nQ 2034 3584 2315 3537 \nQ 2597 3491 2834 3397 \nz\n\" id=\"DejaVuSans-73\" transform=\"scale(0.015625)\"/>\n      </defs>\n      <use xlink:href=\"#DejaVuSans-74\"/>\n      <use x=\"39.208984\" xlink:href=\"#DejaVuSans-77\"/>\n      <use x=\"120.996094\" xlink:href=\"#DejaVuSans-65\"/>\n      <use x=\"182.519531\" xlink:href=\"#DejaVuSans-65\"/>\n      <use x=\"244.042969\" xlink:href=\"#DejaVuSans-74\"/>\n      <use x=\"283.251953\" xlink:href=\"#DejaVuSans-73\"/>\n     </g>\n    </g>\n    <g id=\"text_9\">\n     <!-- 1e6 -->\n     <g transform=\"translate(381.975 251.916562)scale(0.1 -0.1)\">\n      <use xlink:href=\"#DejaVuSans-31\"/>\n      <use x=\"63.623047\" xlink:href=\"#DejaVuSans-65\"/>\n      <use x=\"125.146484\" xlink:href=\"#DejaVuSans-36\"/>\n     </g>\n    </g>\n   </g>\n   <g id=\"matplotlib.axis_2\">\n    <g id=\"ytick_1\">\n     <g id=\"line2d_8\">\n      <defs>\n       <path d=\"M 0 0 \nL -3.5 0 \n\" id=\"m6891eb0de5\" style=\"stroke:#000000;stroke-width:0.8;\"/>\n      </defs>\n      <g>\n       <use style=\"stroke:#000000;stroke-width:0.8;\" x=\"66.053125\" xlink:href=\"#m6891eb0de5\" y=\"214.801078\"/>\n      </g>\n     </g>\n     <g id=\"text_10\">\n      <!-- 0 -->\n      <g transform=\"translate(52.690625 218.600297)scale(0.1 -0.1)\">\n       <use xlink:href=\"#DejaVuSans-30\"/>\n      </g>\n     </g>\n    </g>\n    <g id=\"ytick_2\">\n     <g id=\"line2d_9\">\n      <g>\n       <use style=\"stroke:#000000;stroke-width:0.8;\" x=\"66.053125\" xlink:href=\"#m6891eb0de5\" y=\"177.538787\"/>\n      </g>\n     </g>\n     <g id=\"text_11\">\n      <!-- 100000 -->\n      <g transform=\"translate(20.878125 181.338006)scale(0.1 -0.1)\">\n       <use xlink:href=\"#DejaVuSans-31\"/>\n       <use x=\"63.623047\" xlink:href=\"#DejaVuSans-30\"/>\n       <use x=\"127.246094\" xlink:href=\"#DejaVuSans-30\"/>\n       <use x=\"190.869141\" xlink:href=\"#DejaVuSans-30\"/>\n       <use x=\"254.492188\" xlink:href=\"#DejaVuSans-30\"/>\n       <use x=\"318.115234\" xlink:href=\"#DejaVuSans-30\"/>\n      </g>\n     </g>\n    </g>\n    <g id=\"ytick_3\">\n     <g id=\"line2d_10\">\n      <g>\n       <use style=\"stroke:#000000;stroke-width:0.8;\" x=\"66.053125\" xlink:href=\"#m6891eb0de5\" y=\"140.276496\"/>\n      </g>\n     </g>\n     <g id=\"text_12\">\n      <!-- 200000 -->\n      <g transform=\"translate(20.878125 144.075715)scale(0.1 -0.1)\">\n       <use xlink:href=\"#DejaVuSans-32\"/>\n       <use x=\"63.623047\" xlink:href=\"#DejaVuSans-30\"/>\n       <use x=\"127.246094\" xlink:href=\"#DejaVuSans-30\"/>\n       <use x=\"190.869141\" xlink:href=\"#DejaVuSans-30\"/>\n       <use x=\"254.492188\" xlink:href=\"#DejaVuSans-30\"/>\n       <use x=\"318.115234\" xlink:href=\"#DejaVuSans-30\"/>\n      </g>\n     </g>\n    </g>\n    <g id=\"ytick_4\">\n     <g id=\"line2d_11\">\n      <g>\n       <use style=\"stroke:#000000;stroke-width:0.8;\" x=\"66.053125\" xlink:href=\"#m6891eb0de5\" y=\"103.014206\"/>\n      </g>\n     </g>\n     <g id=\"text_13\">\n      <!-- 300000 -->\n      <g transform=\"translate(20.878125 106.813424)scale(0.1 -0.1)\">\n       <defs>\n        <path d=\"M 2597 2516 \nQ 3050 2419 3304 2112 \nQ 3559 1806 3559 1356 \nQ 3559 666 3084 287 \nQ 2609 -91 1734 -91 \nQ 1441 -91 1130 -33 \nQ 819 25 488 141 \nL 488 750 \nQ 750 597 1062 519 \nQ 1375 441 1716 441 \nQ 2309 441 2620 675 \nQ 2931 909 2931 1356 \nQ 2931 1769 2642 2001 \nQ 2353 2234 1838 2234 \nL 1294 2234 \nL 1294 2753 \nL 1863 2753 \nQ 2328 2753 2575 2939 \nQ 2822 3125 2822 3475 \nQ 2822 3834 2567 4026 \nQ 2313 4219 1838 4219 \nQ 1578 4219 1281 4162 \nQ 984 4106 628 3988 \nL 628 4550 \nQ 988 4650 1302 4700 \nQ 1616 4750 1894 4750 \nQ 2613 4750 3031 4423 \nQ 3450 4097 3450 3541 \nQ 3450 3153 3228 2886 \nQ 3006 2619 2597 2516 \nz\n\" id=\"DejaVuSans-33\" transform=\"scale(0.015625)\"/>\n       </defs>\n       <use xlink:href=\"#DejaVuSans-33\"/>\n       <use x=\"63.623047\" xlink:href=\"#DejaVuSans-30\"/>\n       <use x=\"127.246094\" xlink:href=\"#DejaVuSans-30\"/>\n       <use x=\"190.869141\" xlink:href=\"#DejaVuSans-30\"/>\n       <use x=\"254.492188\" xlink:href=\"#DejaVuSans-30\"/>\n       <use x=\"318.115234\" xlink:href=\"#DejaVuSans-30\"/>\n      </g>\n     </g>\n    </g>\n    <g id=\"ytick_5\">\n     <g id=\"line2d_12\">\n      <g>\n       <use style=\"stroke:#000000;stroke-width:0.8;\" x=\"66.053125\" xlink:href=\"#m6891eb0de5\" y=\"65.751915\"/>\n      </g>\n     </g>\n     <g id=\"text_14\">\n      <!-- 400000 -->\n      <g transform=\"translate(20.878125 69.551133)scale(0.1 -0.1)\">\n       <use xlink:href=\"#DejaVuSans-34\"/>\n       <use x=\"63.623047\" xlink:href=\"#DejaVuSans-30\"/>\n       <use x=\"127.246094\" xlink:href=\"#DejaVuSans-30\"/>\n       <use x=\"190.869141\" xlink:href=\"#DejaVuSans-30\"/>\n       <use x=\"254.492188\" xlink:href=\"#DejaVuSans-30\"/>\n       <use x=\"318.115234\" xlink:href=\"#DejaVuSans-30\"/>\n      </g>\n     </g>\n    </g>\n    <g id=\"ytick_6\">\n     <g id=\"line2d_13\">\n      <g>\n       <use style=\"stroke:#000000;stroke-width:0.8;\" x=\"66.053125\" xlink:href=\"#m6891eb0de5\" y=\"28.489624\"/>\n      </g>\n     </g>\n     <g id=\"text_15\">\n      <!-- 500000 -->\n      <g transform=\"translate(20.878125 32.288842)scale(0.1 -0.1)\">\n       <defs>\n        <path d=\"M 691 4666 \nL 3169 4666 \nL 3169 4134 \nL 1269 4134 \nL 1269 2991 \nQ 1406 3038 1543 3061 \nQ 1681 3084 1819 3084 \nQ 2600 3084 3056 2656 \nQ 3513 2228 3513 1497 \nQ 3513 744 3044 326 \nQ 2575 -91 1722 -91 \nQ 1428 -91 1123 -41 \nQ 819 9 494 109 \nL 494 744 \nQ 775 591 1075 516 \nQ 1375 441 1709 441 \nQ 2250 441 2565 725 \nQ 2881 1009 2881 1497 \nQ 2881 1984 2565 2268 \nQ 2250 2553 1709 2553 \nQ 1456 2553 1204 2497 \nQ 953 2441 691 2322 \nL 691 4666 \nz\n\" id=\"DejaVuSans-35\" transform=\"scale(0.015625)\"/>\n       </defs>\n       <use xlink:href=\"#DejaVuSans-35\"/>\n       <use x=\"63.623047\" xlink:href=\"#DejaVuSans-30\"/>\n       <use x=\"127.246094\" xlink:href=\"#DejaVuSans-30\"/>\n       <use x=\"190.869141\" xlink:href=\"#DejaVuSans-30\"/>\n       <use x=\"254.492188\" xlink:href=\"#DejaVuSans-30\"/>\n       <use x=\"318.115234\" xlink:href=\"#DejaVuSans-30\"/>\n      </g>\n     </g>\n    </g>\n    <g id=\"text_16\">\n     <!-- bytes -->\n     <g transform=\"translate(14.798438 129.695)rotate(-90)scale(0.1 -0.1)\">\n      <defs>\n       <path d=\"M 3116 1747 \nQ 3116 2381 2855 2742 \nQ 2594 3103 2138 3103 \nQ 1681 3103 1420 2742 \nQ 1159 2381 1159 1747 \nQ 1159 1113 1420 752 \nQ 1681 391 2138 391 \nQ 2594 391 2855 752 \nQ 3116 1113 3116 1747 \nz\nM 1159 2969 \nQ 1341 3281 1617 3432 \nQ 1894 3584 2278 3584 \nQ 2916 3584 3314 3078 \nQ 3713 2572 3713 1747 \nQ 3713 922 3314 415 \nQ 2916 -91 2278 -91 \nQ 1894 -91 1617 61 \nQ 1341 213 1159 525 \nL 1159 0 \nL 581 0 \nL 581 4863 \nL 1159 4863 \nL 1159 2969 \nz\n\" id=\"DejaVuSans-62\" transform=\"scale(0.015625)\"/>\n       <path d=\"M 2059 -325 \nQ 1816 -950 1584 -1140 \nQ 1353 -1331 966 -1331 \nL 506 -1331 \nL 506 -850 \nL 844 -850 \nQ 1081 -850 1212 -737 \nQ 1344 -625 1503 -206 \nL 1606 56 \nL 191 3500 \nL 800 3500 \nL 1894 763 \nL 2988 3500 \nL 3597 3500 \nL 2059 -325 \nz\n\" id=\"DejaVuSans-79\" transform=\"scale(0.015625)\"/>\n      </defs>\n      <use xlink:href=\"#DejaVuSans-62\"/>\n      <use x=\"63.476562\" xlink:href=\"#DejaVuSans-79\"/>\n      <use x=\"122.65625\" xlink:href=\"#DejaVuSans-74\"/>\n      <use x=\"161.865234\" xlink:href=\"#DejaVuSans-65\"/>\n      <use x=\"223.388672\" xlink:href=\"#DejaVuSans-73\"/>\n     </g>\n    </g>\n   </g>\n   <g id=\"line2d_14\">\n    <path clip-path=\"url(#pd43ef7e521)\" d=\"M 81.271307 214.756364 \nL 83.566254 214.675504 \nL 88.66533 214.512668 \nL 97.59041 214.303254 \nL 116.786683 213.979072 \nL 155.100805 213.502488 \nL 233.035362 212.823569 \n\" style=\"fill:none;stroke:#1f77b4;stroke-linecap:square;stroke-width:1.5;\"/>\n   </g>\n   <g id=\"line2d_15\">\n    <path clip-path=\"url(#pd43ef7e521)\" d=\"M 81.271307 209.52213 \nL 83.566254 205.571209 \nL 88.66533 198.70116 \nL 97.59041 189.773861 \nL 116.786683 171.916653 \nL 155.100805 143.100606 \nL 233.035362 94.169256 \nL 385.634943 17.083636 \n\" style=\"fill:none;stroke:#ff7f0e;stroke-linecap:square;stroke-width:1.5;\"/>\n   </g>\n   <g id=\"patch_3\">\n    <path d=\"M 66.053125 224.64 \nL 66.053125 7.2 \n\" style=\"fill:none;stroke:#000000;stroke-linecap:square;stroke-linejoin:miter;stroke-width:0.8;\"/>\n   </g>\n   <g id=\"patch_4\">\n    <path d=\"M 400.853125 224.64 \nL 400.853125 7.2 \n\" style=\"fill:none;stroke:#000000;stroke-linecap:square;stroke-linejoin:miter;stroke-width:0.8;\"/>\n   </g>\n   <g id=\"patch_5\">\n    <path d=\"M 66.053125 224.64 \nL 400.853125 224.64 \n\" style=\"fill:none;stroke:#000000;stroke-linecap:square;stroke-linejoin:miter;stroke-width:0.8;\"/>\n   </g>\n   <g id=\"patch_6\">\n    <path d=\"M 66.053125 7.2 \nL 400.853125 7.2 \n\" style=\"fill:none;stroke:#000000;stroke-linecap:square;stroke-linejoin:miter;stroke-width:0.8;\"/>\n   </g>\n   <g id=\"legend_1\">\n    <g id=\"patch_7\">\n     <path d=\"M 73.053125 45.1125 \nL 214.0125 45.1125 \nQ 216.0125 45.1125 216.0125 43.1125 \nL 216.0125 14.2 \nQ 216.0125 12.2 214.0125 12.2 \nL 73.053125 12.2 \nQ 71.053125 12.2 71.053125 14.2 \nL 71.053125 43.1125 \nQ 71.053125 45.1125 73.053125 45.1125 \nz\n\" style=\"fill:#ffffff;opacity:0.8;stroke:#cccccc;stroke-linejoin:miter;\"/>\n    </g>\n    <g id=\"line2d_16\">\n     <path d=\"M 75.053125 20.298437 \nL 95.053125 20.298437 \n\" style=\"fill:none;stroke:#1f77b4;stroke-linecap:square;stroke-width:1.5;\"/>\n    </g>\n    <g id=\"line2d_17\"/>\n    <g id=\"text_17\">\n     <!-- filtered_dict_tfidf_mat -->\n     <g transform=\"translate(103.053125 23.798437)scale(0.1 -0.1)\">\n      <defs>\n       <path d=\"M 2375 4863 \nL 2375 4384 \nL 1825 4384 \nQ 1516 4384 1395 4259 \nQ 1275 4134 1275 3809 \nL 1275 3500 \nL 2222 3500 \nL 2222 3053 \nL 1275 3053 \nL 1275 0 \nL 697 0 \nL 697 3053 \nL 147 3053 \nL 147 3500 \nL 697 3500 \nL 697 3744 \nQ 697 4328 969 4595 \nQ 1241 4863 1831 4863 \nL 2375 4863 \nz\n\" id=\"DejaVuSans-66\" transform=\"scale(0.015625)\"/>\n       <path d=\"M 603 3500 \nL 1178 3500 \nL 1178 0 \nL 603 0 \nL 603 3500 \nz\nM 603 4863 \nL 1178 4863 \nL 1178 4134 \nL 603 4134 \nL 603 4863 \nz\n\" id=\"DejaVuSans-69\" transform=\"scale(0.015625)\"/>\n       <path d=\"M 603 4863 \nL 1178 4863 \nL 1178 0 \nL 603 0 \nL 603 4863 \nz\n\" id=\"DejaVuSans-6c\" transform=\"scale(0.015625)\"/>\n       <path d=\"M 2631 2963 \nQ 2534 3019 2420 3045 \nQ 2306 3072 2169 3072 \nQ 1681 3072 1420 2755 \nQ 1159 2438 1159 1844 \nL 1159 0 \nL 581 0 \nL 581 3500 \nL 1159 3500 \nL 1159 2956 \nQ 1341 3275 1631 3429 \nQ 1922 3584 2338 3584 \nQ 2397 3584 2469 3576 \nQ 2541 3569 2628 3553 \nL 2631 2963 \nz\n\" id=\"DejaVuSans-72\" transform=\"scale(0.015625)\"/>\n       <path d=\"M 2906 2969 \nL 2906 4863 \nL 3481 4863 \nL 3481 0 \nL 2906 0 \nL 2906 525 \nQ 2725 213 2448 61 \nQ 2172 -91 1784 -91 \nQ 1150 -91 751 415 \nQ 353 922 353 1747 \nQ 353 2572 751 3078 \nQ 1150 3584 1784 3584 \nQ 2172 3584 2448 3432 \nQ 2725 3281 2906 2969 \nz\nM 947 1747 \nQ 947 1113 1208 752 \nQ 1469 391 1925 391 \nQ 2381 391 2643 752 \nQ 2906 1113 2906 1747 \nQ 2906 2381 2643 2742 \nQ 2381 3103 1925 3103 \nQ 1469 3103 1208 2742 \nQ 947 2381 947 1747 \nz\n\" id=\"DejaVuSans-64\" transform=\"scale(0.015625)\"/>\n       <path d=\"M 3263 -1063 \nL 3263 -1509 \nL -63 -1509 \nL -63 -1063 \nL 3263 -1063 \nz\n\" id=\"DejaVuSans-5f\" transform=\"scale(0.015625)\"/>\n       <path d=\"M 3122 3366 \nL 3122 2828 \nQ 2878 2963 2633 3030 \nQ 2388 3097 2138 3097 \nQ 1578 3097 1268 2742 \nQ 959 2388 959 1747 \nQ 959 1106 1268 751 \nQ 1578 397 2138 397 \nQ 2388 397 2633 464 \nQ 2878 531 3122 666 \nL 3122 134 \nQ 2881 22 2623 -34 \nQ 2366 -91 2075 -91 \nQ 1284 -91 818 406 \nQ 353 903 353 1747 \nQ 353 2603 823 3093 \nQ 1294 3584 2113 3584 \nQ 2378 3584 2631 3529 \nQ 2884 3475 3122 3366 \nz\n\" id=\"DejaVuSans-63\" transform=\"scale(0.015625)\"/>\n       <path d=\"M 3328 2828 \nQ 3544 3216 3844 3400 \nQ 4144 3584 4550 3584 \nQ 5097 3584 5394 3201 \nQ 5691 2819 5691 2113 \nL 5691 0 \nL 5113 0 \nL 5113 2094 \nQ 5113 2597 4934 2840 \nQ 4756 3084 4391 3084 \nQ 3944 3084 3684 2787 \nQ 3425 2491 3425 1978 \nL 3425 0 \nL 2847 0 \nL 2847 2094 \nQ 2847 2600 2669 2842 \nQ 2491 3084 2119 3084 \nQ 1678 3084 1418 2786 \nQ 1159 2488 1159 1978 \nL 1159 0 \nL 581 0 \nL 581 3500 \nL 1159 3500 \nL 1159 2956 \nQ 1356 3278 1631 3431 \nQ 1906 3584 2284 3584 \nQ 2666 3584 2933 3390 \nQ 3200 3197 3328 2828 \nz\n\" id=\"DejaVuSans-6d\" transform=\"scale(0.015625)\"/>\n       <path d=\"M 2194 1759 \nQ 1497 1759 1228 1600 \nQ 959 1441 959 1056 \nQ 959 750 1161 570 \nQ 1363 391 1709 391 \nQ 2188 391 2477 730 \nQ 2766 1069 2766 1631 \nL 2766 1759 \nL 2194 1759 \nz\nM 3341 1997 \nL 3341 0 \nL 2766 0 \nL 2766 531 \nQ 2569 213 2275 61 \nQ 1981 -91 1556 -91 \nQ 1019 -91 701 211 \nQ 384 513 384 1019 \nQ 384 1609 779 1909 \nQ 1175 2209 1959 2209 \nL 2766 2209 \nL 2766 2266 \nQ 2766 2663 2505 2880 \nQ 2244 3097 1772 3097 \nQ 1472 3097 1187 3025 \nQ 903 2953 641 2809 \nL 641 3341 \nQ 956 3463 1253 3523 \nQ 1550 3584 1831 3584 \nQ 2591 3584 2966 3190 \nQ 3341 2797 3341 1997 \nz\n\" id=\"DejaVuSans-61\" transform=\"scale(0.015625)\"/>\n      </defs>\n      <use xlink:href=\"#DejaVuSans-66\"/>\n      <use x=\"35.205078\" xlink:href=\"#DejaVuSans-69\"/>\n      <use x=\"62.988281\" xlink:href=\"#DejaVuSans-6c\"/>\n      <use x=\"90.771484\" xlink:href=\"#DejaVuSans-74\"/>\n      <use x=\"129.980469\" xlink:href=\"#DejaVuSans-65\"/>\n      <use x=\"191.503906\" xlink:href=\"#DejaVuSans-72\"/>\n      <use x=\"230.367188\" xlink:href=\"#DejaVuSans-65\"/>\n      <use x=\"291.890625\" xlink:href=\"#DejaVuSans-64\"/>\n      <use x=\"355.367188\" xlink:href=\"#DejaVuSans-5f\"/>\n      <use x=\"405.367188\" xlink:href=\"#DejaVuSans-64\"/>\n      <use x=\"468.84375\" xlink:href=\"#DejaVuSans-69\"/>\n      <use x=\"496.626953\" xlink:href=\"#DejaVuSans-63\"/>\n      <use x=\"551.607422\" xlink:href=\"#DejaVuSans-74\"/>\n      <use x=\"590.816406\" xlink:href=\"#DejaVuSans-5f\"/>\n      <use x=\"640.816406\" xlink:href=\"#DejaVuSans-74\"/>\n      <use x=\"680.025391\" xlink:href=\"#DejaVuSans-66\"/>\n      <use x=\"715.230469\" xlink:href=\"#DejaVuSans-69\"/>\n      <use x=\"743.013672\" xlink:href=\"#DejaVuSans-64\"/>\n      <use x=\"806.490234\" xlink:href=\"#DejaVuSans-66\"/>\n      <use x=\"841.695312\" xlink:href=\"#DejaVuSans-5f\"/>\n      <use x=\"891.695312\" xlink:href=\"#DejaVuSans-6d\"/>\n      <use x=\"989.107422\" xlink:href=\"#DejaVuSans-61\"/>\n      <use x=\"1050.386719\" xlink:href=\"#DejaVuSans-74\"/>\n     </g>\n    </g>\n    <g id=\"line2d_18\">\n     <path d=\"M 75.053125 35.254687 \nL 95.053125 35.254687 \n\" style=\"fill:none;stroke:#ff7f0e;stroke-linecap:square;stroke-width:1.5;\"/>\n    </g>\n    <g id=\"line2d_19\"/>\n    <g id=\"text_18\">\n     <!-- cuml_tfidf_mat -->\n     <g transform=\"translate(103.053125 38.754687)scale(0.1 -0.1)\">\n      <defs>\n       <path d=\"M 544 1381 \nL 544 3500 \nL 1119 3500 \nL 1119 1403 \nQ 1119 906 1312 657 \nQ 1506 409 1894 409 \nQ 2359 409 2629 706 \nQ 2900 1003 2900 1516 \nL 2900 3500 \nL 3475 3500 \nL 3475 0 \nL 2900 0 \nL 2900 538 \nQ 2691 219 2414 64 \nQ 2138 -91 1772 -91 \nQ 1169 -91 856 284 \nQ 544 659 544 1381 \nz\nM 1991 3584 \nL 1991 3584 \nz\n\" id=\"DejaVuSans-75\" transform=\"scale(0.015625)\"/>\n      </defs>\n      <use xlink:href=\"#DejaVuSans-63\"/>\n      <use x=\"54.980469\" xlink:href=\"#DejaVuSans-75\"/>\n      <use x=\"118.359375\" xlink:href=\"#DejaVuSans-6d\"/>\n      <use x=\"215.771484\" xlink:href=\"#DejaVuSans-6c\"/>\n      <use x=\"243.554688\" xlink:href=\"#DejaVuSans-5f\"/>\n      <use x=\"293.554688\" xlink:href=\"#DejaVuSans-74\"/>\n      <use x=\"332.763672\" xlink:href=\"#DejaVuSans-66\"/>\n      <use x=\"367.96875\" xlink:href=\"#DejaVuSans-69\"/>\n      <use x=\"395.751953\" xlink:href=\"#DejaVuSans-64\"/>\n      <use x=\"459.228516\" xlink:href=\"#DejaVuSans-66\"/>\n      <use x=\"494.433594\" xlink:href=\"#DejaVuSans-5f\"/>\n      <use x=\"544.433594\" xlink:href=\"#DejaVuSans-6d\"/>\n      <use x=\"641.845703\" xlink:href=\"#DejaVuSans-61\"/>\n      <use x=\"703.125\" xlink:href=\"#DejaVuSans-74\"/>\n     </g>\n    </g>\n   </g>\n  </g>\n </g>\n <defs>\n  <clipPath id=\"pd43ef7e521\">\n   <rect height=\"217.44\" width=\"334.8\" x=\"66.053125\" y=\"7.2\"/>\n  </clipPath>\n </defs>\n</svg>\n",
      "image/png": "[encoded data removed]"
     },
     "metadata": {
      "needs_background": "light"
     }
    }
   ],
   "source": [
    "filenames = !ls ../results/*measure.csv\n",
    "\n",
    "measures = {os.path.basename(name).replace('_measure.csv', ''): pd.read_csv(name) for name in filenames}\n",
    "\n",
    "for mes in ['filtered_dict_tfidf_mat', 'cuml_tfidf_mat']:\n",
    "    plt.plot(measures[mes]['tweets'], measures[mes]['cols'], label=mes)\n",
    "plt.legend()\n",
    "plt.xlabel('tweets')\n",
    "plt.ylabel('bytes')\n",
    "# stemmed load == bad interned stemmed load\n",
    "# stemmed vectorize == bad interned stemmed vectorized"
   ]
  },
  {
   "cell_type": "code",
   "execution_count": 46,
   "metadata": {},
   "outputs": [
    {
     "output_type": "error",
     "ename": "SyntaxError",
     "evalue": "invalid syntax (<ipython-input-46-e657ab37cef6>, line 1)",
     "traceback": [
      "\u001b[0;36m  File \u001b[0;32m\"<ipython-input-46-e657ab37cef6>\"\u001b[0;36m, line \u001b[0;32m1\u001b[0m\n\u001b[0;31m    mes =\u001b[0m\n\u001b[0m         ^\u001b[0m\n\u001b[0;31mSyntaxError\u001b[0m\u001b[0;31m:\u001b[0m invalid syntax\n"
     ]
    }
   ],
   "source": [
    "mes =\n",
    "plt.plot(measures[mes]['tweets'], measures[mes]['cols'], label=mes)\n",
    "plt.legend()\n",
    "plt.xlabel('tweets')\n",
    "plt.ylabel('bytes')"
   ]
  },
  {
   "cell_type": "code",
   "execution_count": 6,
   "metadata": {},
   "outputs": [
    {
     "output_type": "execute_result",
     "data": {
      "text/plain": [
       "Text(0, 0.5, 'bytes')"
      ]
     },
     "metadata": {},
     "execution_count": 6
    },
    {
     "output_type": "display_data",
     "data": {
      "text/plain": "<Figure size 432x288 with 1 Axes>",
      "image/svg+xml": "<?xml version=\"1.0\" encoding=\"utf-8\" standalone=\"no\"?>\n<!DOCTYPE svg PUBLIC \"-//W3C//DTD SVG 1.1//EN\"\n  \"http://www.w3.org/Graphics/SVG/1.1/DTD/svg11.dtd\">\n<svg height=\"262.19625pt\" version=\"1.1\" viewBox=\"0 0 395.328125 262.19625\" width=\"395.328125pt\" xmlns=\"http://www.w3.org/2000/svg\" xmlns:xlink=\"http://www.w3.org/1999/xlink\">\n <metadata>\n  <rdf:RDF xmlns:cc=\"http://creativecommons.org/ns#\" xmlns:dc=\"http://purl.org/dc/elements/1.1/\" xmlns:rdf=\"http://www.w3.org/1999/02/22-rdf-syntax-ns#\">\n   <cc:Work>\n    <dc:type rdf:resource=\"http://purl.org/dc/dcmitype/StillImage\"/>\n    <dc:date>2021-06-16T16:33:44.250818</dc:date>\n    <dc:format>image/svg+xml</dc:format>\n    <dc:creator>\n     <cc:Agent>\n      <dc:title>Matplotlib v3.4.2, https://matplotlib.org/</dc:title>\n     </cc:Agent>\n    </dc:creator>\n   </cc:Work>\n  </rdf:RDF>\n </metadata>\n <defs>\n  <style type=\"text/css\">*{stroke-linecap:butt;stroke-linejoin:round;}</style>\n </defs>\n <g id=\"figure_1\">\n  <g id=\"patch_1\">\n   <path d=\"M 0 262.19625 \nL 395.328125 262.19625 \nL 395.328125 0 \nL 0 0 \nz\n\" style=\"fill:none;\"/>\n  </g>\n  <g id=\"axes_1\">\n   <g id=\"patch_2\">\n    <path d=\"M 53.328125 224.64 \nL 388.128125 224.64 \nL 388.128125 7.2 \nL 53.328125 7.2 \nz\n\" style=\"fill:#ffffff;\"/>\n   </g>\n   <g id=\"matplotlib.axis_1\">\n    <g id=\"xtick_1\">\n     <g id=\"line2d_1\">\n      <defs>\n       <path d=\"M 0 0 \nL 0 3.5 \n\" id=\"me7a7be0a1c\" style=\"stroke:#000000;stroke-width:0.8;\"/>\n      </defs>\n      <g>\n       <use style=\"stroke:#000000;stroke-width:0.8;\" x=\"67.451291\" xlink:href=\"#me7a7be0a1c\" y=\"224.64\"/>\n      </g>\n     </g>\n     <g id=\"text_1\">\n      <!-- 0.0 -->\n      <g transform=\"translate(59.499728 239.238437)scale(0.1 -0.1)\">\n       <defs>\n        <path d=\"M 2034 4250 \nQ 1547 4250 1301 3770 \nQ 1056 3291 1056 2328 \nQ 1056 1369 1301 889 \nQ 1547 409 2034 409 \nQ 2525 409 2770 889 \nQ 3016 1369 3016 2328 \nQ 3016 3291 2770 3770 \nQ 2525 4250 2034 4250 \nz\nM 2034 4750 \nQ 2819 4750 3233 4129 \nQ 3647 3509 3647 2328 \nQ 3647 1150 3233 529 \nQ 2819 -91 2034 -91 \nQ 1250 -91 836 529 \nQ 422 1150 422 2328 \nQ 422 3509 836 4129 \nQ 1250 4750 2034 4750 \nz\n\" id=\"DejaVuSans-30\" transform=\"scale(0.015625)\"/>\n        <path d=\"M 684 794 \nL 1344 794 \nL 1344 0 \nL 684 0 \nL 684 794 \nz\n\" id=\"DejaVuSans-2e\" transform=\"scale(0.015625)\"/>\n       </defs>\n       <use xlink:href=\"#DejaVuSans-30\"/>\n       <use x=\"63.623047\" xlink:href=\"#DejaVuSans-2e\"/>\n       <use x=\"95.410156\" xlink:href=\"#DejaVuSans-30\"/>\n      </g>\n     </g>\n    </g>\n    <g id=\"xtick_2\">\n     <g id=\"line2d_2\">\n      <g>\n       <use style=\"stroke:#000000;stroke-width:0.8;\" x=\"125.505376\" xlink:href=\"#me7a7be0a1c\" y=\"224.64\"/>\n      </g>\n     </g>\n     <g id=\"text_2\">\n      <!-- 0.5 -->\n      <g transform=\"translate(117.553813 239.238437)scale(0.1 -0.1)\">\n       <defs>\n        <path d=\"M 691 4666 \nL 3169 4666 \nL 3169 4134 \nL 1269 4134 \nL 1269 2991 \nQ 1406 3038 1543 3061 \nQ 1681 3084 1819 3084 \nQ 2600 3084 3056 2656 \nQ 3513 2228 3513 1497 \nQ 3513 744 3044 326 \nQ 2575 -91 1722 -91 \nQ 1428 -91 1123 -41 \nQ 819 9 494 109 \nL 494 744 \nQ 775 591 1075 516 \nQ 1375 441 1709 441 \nQ 2250 441 2565 725 \nQ 2881 1009 2881 1497 \nQ 2881 1984 2565 2268 \nQ 2250 2553 1709 2553 \nQ 1456 2553 1204 2497 \nQ 953 2441 691 2322 \nL 691 4666 \nz\n\" id=\"DejaVuSans-35\" transform=\"scale(0.015625)\"/>\n       </defs>\n       <use xlink:href=\"#DejaVuSans-30\"/>\n       <use x=\"63.623047\" xlink:href=\"#DejaVuSans-2e\"/>\n       <use x=\"95.410156\" xlink:href=\"#DejaVuSans-35\"/>\n      </g>\n     </g>\n    </g>\n    <g id=\"xtick_3\">\n     <g id=\"line2d_3\">\n      <g>\n       <use style=\"stroke:#000000;stroke-width:0.8;\" x=\"183.559461\" xlink:href=\"#me7a7be0a1c\" y=\"224.64\"/>\n      </g>\n     </g>\n     <g id=\"text_3\">\n      <!-- 1.0 -->\n      <g transform=\"translate(175.607899 239.238437)scale(0.1 -0.1)\">\n       <defs>\n        <path d=\"M 794 531 \nL 1825 531 \nL 1825 4091 \nL 703 3866 \nL 703 4441 \nL 1819 4666 \nL 2450 4666 \nL 2450 531 \nL 3481 531 \nL 3481 0 \nL 794 0 \nL 794 531 \nz\n\" id=\"DejaVuSans-31\" transform=\"scale(0.015625)\"/>\n       </defs>\n       <use xlink:href=\"#DejaVuSans-31\"/>\n       <use x=\"63.623047\" xlink:href=\"#DejaVuSans-2e\"/>\n       <use x=\"95.410156\" xlink:href=\"#DejaVuSans-30\"/>\n      </g>\n     </g>\n    </g>\n    <g id=\"xtick_4\">\n     <g id=\"line2d_4\">\n      <g>\n       <use style=\"stroke:#000000;stroke-width:0.8;\" x=\"241.613547\" xlink:href=\"#me7a7be0a1c\" y=\"224.64\"/>\n      </g>\n     </g>\n     <g id=\"text_4\">\n      <!-- 1.5 -->\n      <g transform=\"translate(233.661984 239.238437)scale(0.1 -0.1)\">\n       <use xlink:href=\"#DejaVuSans-31\"/>\n       <use x=\"63.623047\" xlink:href=\"#DejaVuSans-2e\"/>\n       <use x=\"95.410156\" xlink:href=\"#DejaVuSans-35\"/>\n      </g>\n     </g>\n    </g>\n    <g id=\"xtick_5\">\n     <g id=\"line2d_5\">\n      <g>\n       <use style=\"stroke:#000000;stroke-width:0.8;\" x=\"299.667632\" xlink:href=\"#me7a7be0a1c\" y=\"224.64\"/>\n      </g>\n     </g>\n     <g id=\"text_5\">\n      <!-- 2.0 -->\n      <g transform=\"translate(291.716069 239.238437)scale(0.1 -0.1)\">\n       <defs>\n        <path d=\"M 1228 531 \nL 3431 531 \nL 3431 0 \nL 469 0 \nL 469 531 \nQ 828 903 1448 1529 \nQ 2069 2156 2228 2338 \nQ 2531 2678 2651 2914 \nQ 2772 3150 2772 3378 \nQ 2772 3750 2511 3984 \nQ 2250 4219 1831 4219 \nQ 1534 4219 1204 4116 \nQ 875 4013 500 3803 \nL 500 4441 \nQ 881 4594 1212 4672 \nQ 1544 4750 1819 4750 \nQ 2544 4750 2975 4387 \nQ 3406 4025 3406 3419 \nQ 3406 3131 3298 2873 \nQ 3191 2616 2906 2266 \nQ 2828 2175 2409 1742 \nQ 1991 1309 1228 531 \nz\n\" id=\"DejaVuSans-32\" transform=\"scale(0.015625)\"/>\n       </defs>\n       <use xlink:href=\"#DejaVuSans-32\"/>\n       <use x=\"63.623047\" xlink:href=\"#DejaVuSans-2e\"/>\n       <use x=\"95.410156\" xlink:href=\"#DejaVuSans-30\"/>\n      </g>\n     </g>\n    </g>\n    <g id=\"xtick_6\">\n     <g id=\"line2d_6\">\n      <g>\n       <use style=\"stroke:#000000;stroke-width:0.8;\" x=\"357.721717\" xlink:href=\"#me7a7be0a1c\" y=\"224.64\"/>\n      </g>\n     </g>\n     <g id=\"text_6\">\n      <!-- 2.5 -->\n      <g transform=\"translate(349.770155 239.238437)scale(0.1 -0.1)\">\n       <use xlink:href=\"#DejaVuSans-32\"/>\n       <use x=\"63.623047\" xlink:href=\"#DejaVuSans-2e\"/>\n       <use x=\"95.410156\" xlink:href=\"#DejaVuSans-35\"/>\n      </g>\n     </g>\n    </g>\n    <g id=\"text_7\">\n     <!-- tweets -->\n     <g transform=\"translate(203.960938 252.916562)scale(0.1 -0.1)\">\n      <defs>\n       <path d=\"M 1172 4494 \nL 1172 3500 \nL 2356 3500 \nL 2356 3053 \nL 1172 3053 \nL 1172 1153 \nQ 1172 725 1289 603 \nQ 1406 481 1766 481 \nL 2356 481 \nL 2356 0 \nL 1766 0 \nQ 1100 0 847 248 \nQ 594 497 594 1153 \nL 594 3053 \nL 172 3053 \nL 172 3500 \nL 594 3500 \nL 594 4494 \nL 1172 4494 \nz\n\" id=\"DejaVuSans-74\" transform=\"scale(0.015625)\"/>\n       <path d=\"M 269 3500 \nL 844 3500 \nL 1563 769 \nL 2278 3500 \nL 2956 3500 \nL 3675 769 \nL 4391 3500 \nL 4966 3500 \nL 4050 0 \nL 3372 0 \nL 2619 2869 \nL 1863 0 \nL 1184 0 \nL 269 3500 \nz\n\" id=\"DejaVuSans-77\" transform=\"scale(0.015625)\"/>\n       <path d=\"M 3597 1894 \nL 3597 1613 \nL 953 1613 \nQ 991 1019 1311 708 \nQ 1631 397 2203 397 \nQ 2534 397 2845 478 \nQ 3156 559 3463 722 \nL 3463 178 \nQ 3153 47 2828 -22 \nQ 2503 -91 2169 -91 \nQ 1331 -91 842 396 \nQ 353 884 353 1716 \nQ 353 2575 817 3079 \nQ 1281 3584 2069 3584 \nQ 2775 3584 3186 3129 \nQ 3597 2675 3597 1894 \nz\nM 3022 2063 \nQ 3016 2534 2758 2815 \nQ 2500 3097 2075 3097 \nQ 1594 3097 1305 2825 \nQ 1016 2553 972 2059 \nL 3022 2063 \nz\n\" id=\"DejaVuSans-65\" transform=\"scale(0.015625)\"/>\n       <path d=\"M 2834 3397 \nL 2834 2853 \nQ 2591 2978 2328 3040 \nQ 2066 3103 1784 3103 \nQ 1356 3103 1142 2972 \nQ 928 2841 928 2578 \nQ 928 2378 1081 2264 \nQ 1234 2150 1697 2047 \nL 1894 2003 \nQ 2506 1872 2764 1633 \nQ 3022 1394 3022 966 \nQ 3022 478 2636 193 \nQ 2250 -91 1575 -91 \nQ 1294 -91 989 -36 \nQ 684 19 347 128 \nL 347 722 \nQ 666 556 975 473 \nQ 1284 391 1588 391 \nQ 1994 391 2212 530 \nQ 2431 669 2431 922 \nQ 2431 1156 2273 1281 \nQ 2116 1406 1581 1522 \nL 1381 1569 \nQ 847 1681 609 1914 \nQ 372 2147 372 2553 \nQ 372 3047 722 3315 \nQ 1072 3584 1716 3584 \nQ 2034 3584 2315 3537 \nQ 2597 3491 2834 3397 \nz\n\" id=\"DejaVuSans-73\" transform=\"scale(0.015625)\"/>\n      </defs>\n      <use xlink:href=\"#DejaVuSans-74\"/>\n      <use x=\"39.208984\" xlink:href=\"#DejaVuSans-77\"/>\n      <use x=\"120.996094\" xlink:href=\"#DejaVuSans-65\"/>\n      <use x=\"182.519531\" xlink:href=\"#DejaVuSans-65\"/>\n      <use x=\"244.042969\" xlink:href=\"#DejaVuSans-74\"/>\n      <use x=\"283.251953\" xlink:href=\"#DejaVuSans-73\"/>\n     </g>\n    </g>\n    <g id=\"text_8\">\n     <!-- 1e6 -->\n     <g transform=\"translate(369.25 251.916562)scale(0.1 -0.1)\">\n      <defs>\n       <path d=\"M 2113 2584 \nQ 1688 2584 1439 2293 \nQ 1191 2003 1191 1497 \nQ 1191 994 1439 701 \nQ 1688 409 2113 409 \nQ 2538 409 2786 701 \nQ 3034 994 3034 1497 \nQ 3034 2003 2786 2293 \nQ 2538 2584 2113 2584 \nz\nM 3366 4563 \nL 3366 3988 \nQ 3128 4100 2886 4159 \nQ 2644 4219 2406 4219 \nQ 1781 4219 1451 3797 \nQ 1122 3375 1075 2522 \nQ 1259 2794 1537 2939 \nQ 1816 3084 2150 3084 \nQ 2853 3084 3261 2657 \nQ 3669 2231 3669 1497 \nQ 3669 778 3244 343 \nQ 2819 -91 2113 -91 \nQ 1303 -91 875 529 \nQ 447 1150 447 2328 \nQ 447 3434 972 4092 \nQ 1497 4750 2381 4750 \nQ 2619 4750 2861 4703 \nQ 3103 4656 3366 4563 \nz\n\" id=\"DejaVuSans-36\" transform=\"scale(0.015625)\"/>\n      </defs>\n      <use xlink:href=\"#DejaVuSans-31\"/>\n      <use x=\"63.623047\" xlink:href=\"#DejaVuSans-65\"/>\n      <use x=\"125.146484\" xlink:href=\"#DejaVuSans-36\"/>\n     </g>\n    </g>\n   </g>\n   <g id=\"matplotlib.axis_2\">\n    <g id=\"ytick_1\">\n     <g id=\"line2d_7\">\n      <defs>\n       <path d=\"M 0 0 \nL -3.5 0 \n\" id=\"m9b88eb96e3\" style=\"stroke:#000000;stroke-width:0.8;\"/>\n      </defs>\n      <g>\n       <use style=\"stroke:#000000;stroke-width:0.8;\" x=\"53.328125\" xlink:href=\"#m9b88eb96e3\" y=\"214.793254\"/>\n      </g>\n     </g>\n     <g id=\"text_9\">\n      <!-- 0 -->\n      <g transform=\"translate(39.965625 218.592473)scale(0.1 -0.1)\">\n       <use xlink:href=\"#DejaVuSans-30\"/>\n      </g>\n     </g>\n    </g>\n    <g id=\"ytick_2\">\n     <g id=\"line2d_8\">\n      <g>\n       <use style=\"stroke:#000000;stroke-width:0.8;\" x=\"53.328125\" xlink:href=\"#m9b88eb96e3\" y=\"183.076818\"/>\n      </g>\n     </g>\n     <g id=\"text_10\">\n      <!-- 1000 -->\n      <g transform=\"translate(20.878125 186.876036)scale(0.1 -0.1)\">\n       <use xlink:href=\"#DejaVuSans-31\"/>\n       <use x=\"63.623047\" xlink:href=\"#DejaVuSans-30\"/>\n       <use x=\"127.246094\" xlink:href=\"#DejaVuSans-30\"/>\n       <use x=\"190.869141\" xlink:href=\"#DejaVuSans-30\"/>\n      </g>\n     </g>\n    </g>\n    <g id=\"ytick_3\">\n     <g id=\"line2d_9\">\n      <g>\n       <use style=\"stroke:#000000;stroke-width:0.8;\" x=\"53.328125\" xlink:href=\"#m9b88eb96e3\" y=\"151.360381\"/>\n      </g>\n     </g>\n     <g id=\"text_11\">\n      <!-- 2000 -->\n      <g transform=\"translate(20.878125 155.159599)scale(0.1 -0.1)\">\n       <use xlink:href=\"#DejaVuSans-32\"/>\n       <use x=\"63.623047\" xlink:href=\"#DejaVuSans-30\"/>\n       <use x=\"127.246094\" xlink:href=\"#DejaVuSans-30\"/>\n       <use x=\"190.869141\" xlink:href=\"#DejaVuSans-30\"/>\n      </g>\n     </g>\n    </g>\n    <g id=\"ytick_4\">\n     <g id=\"line2d_10\">\n      <g>\n       <use style=\"stroke:#000000;stroke-width:0.8;\" x=\"53.328125\" xlink:href=\"#m9b88eb96e3\" y=\"119.643944\"/>\n      </g>\n     </g>\n     <g id=\"text_12\">\n      <!-- 3000 -->\n      <g transform=\"translate(20.878125 123.443162)scale(0.1 -0.1)\">\n       <defs>\n        <path d=\"M 2597 2516 \nQ 3050 2419 3304 2112 \nQ 3559 1806 3559 1356 \nQ 3559 666 3084 287 \nQ 2609 -91 1734 -91 \nQ 1441 -91 1130 -33 \nQ 819 25 488 141 \nL 488 750 \nQ 750 597 1062 519 \nQ 1375 441 1716 441 \nQ 2309 441 2620 675 \nQ 2931 909 2931 1356 \nQ 2931 1769 2642 2001 \nQ 2353 2234 1838 2234 \nL 1294 2234 \nL 1294 2753 \nL 1863 2753 \nQ 2328 2753 2575 2939 \nQ 2822 3125 2822 3475 \nQ 2822 3834 2567 4026 \nQ 2313 4219 1838 4219 \nQ 1578 4219 1281 4162 \nQ 984 4106 628 3988 \nL 628 4550 \nQ 988 4650 1302 4700 \nQ 1616 4750 1894 4750 \nQ 2613 4750 3031 4423 \nQ 3450 4097 3450 3541 \nQ 3450 3153 3228 2886 \nQ 3006 2619 2597 2516 \nz\n\" id=\"DejaVuSans-33\" transform=\"scale(0.015625)\"/>\n       </defs>\n       <use xlink:href=\"#DejaVuSans-33\"/>\n       <use x=\"63.623047\" xlink:href=\"#DejaVuSans-30\"/>\n       <use x=\"127.246094\" xlink:href=\"#DejaVuSans-30\"/>\n       <use x=\"190.869141\" xlink:href=\"#DejaVuSans-30\"/>\n      </g>\n     </g>\n    </g>\n    <g id=\"ytick_5\">\n     <g id=\"line2d_11\">\n      <g>\n       <use style=\"stroke:#000000;stroke-width:0.8;\" x=\"53.328125\" xlink:href=\"#m9b88eb96e3\" y=\"87.927507\"/>\n      </g>\n     </g>\n     <g id=\"text_13\">\n      <!-- 4000 -->\n      <g transform=\"translate(20.878125 91.726725)scale(0.1 -0.1)\">\n       <defs>\n        <path d=\"M 2419 4116 \nL 825 1625 \nL 2419 1625 \nL 2419 4116 \nz\nM 2253 4666 \nL 3047 4666 \nL 3047 1625 \nL 3713 1625 \nL 3713 1100 \nL 3047 1100 \nL 3047 0 \nL 2419 0 \nL 2419 1100 \nL 313 1100 \nL 313 1709 \nL 2253 4666 \nz\n\" id=\"DejaVuSans-34\" transform=\"scale(0.015625)\"/>\n       </defs>\n       <use xlink:href=\"#DejaVuSans-34\"/>\n       <use x=\"63.623047\" xlink:href=\"#DejaVuSans-30\"/>\n       <use x=\"127.246094\" xlink:href=\"#DejaVuSans-30\"/>\n       <use x=\"190.869141\" xlink:href=\"#DejaVuSans-30\"/>\n      </g>\n     </g>\n    </g>\n    <g id=\"ytick_6\">\n     <g id=\"line2d_12\">\n      <g>\n       <use style=\"stroke:#000000;stroke-width:0.8;\" x=\"53.328125\" xlink:href=\"#m9b88eb96e3\" y=\"56.21107\"/>\n      </g>\n     </g>\n     <g id=\"text_14\">\n      <!-- 5000 -->\n      <g transform=\"translate(20.878125 60.010288)scale(0.1 -0.1)\">\n       <use xlink:href=\"#DejaVuSans-35\"/>\n       <use x=\"63.623047\" xlink:href=\"#DejaVuSans-30\"/>\n       <use x=\"127.246094\" xlink:href=\"#DejaVuSans-30\"/>\n       <use x=\"190.869141\" xlink:href=\"#DejaVuSans-30\"/>\n      </g>\n     </g>\n    </g>\n    <g id=\"ytick_7\">\n     <g id=\"line2d_13\">\n      <g>\n       <use style=\"stroke:#000000;stroke-width:0.8;\" x=\"53.328125\" xlink:href=\"#m9b88eb96e3\" y=\"24.494633\"/>\n      </g>\n     </g>\n     <g id=\"text_15\">\n      <!-- 6000 -->\n      <g transform=\"translate(20.878125 28.293852)scale(0.1 -0.1)\">\n       <use xlink:href=\"#DejaVuSans-36\"/>\n       <use x=\"63.623047\" xlink:href=\"#DejaVuSans-30\"/>\n       <use x=\"127.246094\" xlink:href=\"#DejaVuSans-30\"/>\n       <use x=\"190.869141\" xlink:href=\"#DejaVuSans-30\"/>\n      </g>\n     </g>\n    </g>\n    <g id=\"text_16\">\n     <!-- bytes -->\n     <g transform=\"translate(14.798438 129.695)rotate(-90)scale(0.1 -0.1)\">\n      <defs>\n       <path d=\"M 3116 1747 \nQ 3116 2381 2855 2742 \nQ 2594 3103 2138 3103 \nQ 1681 3103 1420 2742 \nQ 1159 2381 1159 1747 \nQ 1159 1113 1420 752 \nQ 1681 391 2138 391 \nQ 2594 391 2855 752 \nQ 3116 1113 3116 1747 \nz\nM 1159 2969 \nQ 1341 3281 1617 3432 \nQ 1894 3584 2278 3584 \nQ 2916 3584 3314 3078 \nQ 3713 2572 3713 1747 \nQ 3713 922 3314 415 \nQ 2916 -91 2278 -91 \nQ 1894 -91 1617 61 \nQ 1341 213 1159 525 \nL 1159 0 \nL 581 0 \nL 581 4863 \nL 1159 4863 \nL 1159 2969 \nz\n\" id=\"DejaVuSans-62\" transform=\"scale(0.015625)\"/>\n       <path d=\"M 2059 -325 \nQ 1816 -950 1584 -1140 \nQ 1353 -1331 966 -1331 \nL 506 -1331 \nL 506 -850 \nL 844 -850 \nQ 1081 -850 1212 -737 \nQ 1344 -625 1503 -206 \nL 1606 56 \nL 191 3500 \nL 800 3500 \nL 1894 763 \nL 2988 3500 \nL 3597 3500 \nL 2059 -325 \nz\n\" id=\"DejaVuSans-79\" transform=\"scale(0.015625)\"/>\n      </defs>\n      <use xlink:href=\"#DejaVuSans-62\"/>\n      <use x=\"63.476562\" xlink:href=\"#DejaVuSans-79\"/>\n      <use x=\"122.65625\" xlink:href=\"#DejaVuSans-74\"/>\n      <use x=\"161.865234\" xlink:href=\"#DejaVuSans-65\"/>\n      <use x=\"223.388672\" xlink:href=\"#DejaVuSans-73\"/>\n     </g>\n    </g>\n   </g>\n   <g id=\"line2d_14\">\n    <path clip-path=\"url(#p26e0f49806)\" d=\"M 68.546307 214.211968 \nL 69.684515 213.928893 \nL 72.213467 213.203649 \nL 76.639975 211.966756 \nL 86.160613 209.262428 \nL 105.162992 204.053823 \nL 143.815634 193.41563 \nL 219.499352 171.79302 \nL 372.909943 126.33903 \n\" style=\"fill:none;stroke:#1f77b4;stroke-linecap:square;stroke-width:1.5;\"/>\n   </g>\n   <g id=\"line2d_15\">\n    <path clip-path=\"url(#p26e0f49806)\" d=\"M 68.546307 214.735372 \nL 69.684515 214.7474 \nL 72.213467 214.743832 \nL 76.639975 214.740108 \nL 86.160613 214.733104 \nL 105.162992 214.727886 \nL 143.815634 214.697509 \nL 219.499352 214.69557 \n\" style=\"fill:none;stroke:#ff7f0e;stroke-linecap:square;stroke-width:1.5;\"/>\n   </g>\n   <g id=\"line2d_16\">\n    <path clip-path=\"url(#p26e0f49806)\" d=\"M 68.546307 214.735573 \nL 69.684515 214.749303 \nL 72.213467 214.747648 \nL 76.639975 214.737803 \nL 86.160613 214.736758 \nL 105.162992 214.736455 \nL 143.815634 214.701672 \nL 219.499352 214.674942 \n\" style=\"fill:none;stroke:#2ca02c;stroke-linecap:square;stroke-width:1.5;\"/>\n   </g>\n   <g id=\"line2d_17\">\n    <path clip-path=\"url(#p26e0f49806)\" d=\"M 68.546307 214.200387 \nL 69.684515 213.907391 \nL 72.213467 213.281676 \nL 76.639975 211.906617 \nL 86.160613 209.25687 \nL 105.162992 204.07133 \nL 143.815634 193.332269 \nL 219.499352 172.352033 \nL 372.909943 126.058107 \n\" style=\"fill:none;stroke:#d62728;stroke-linecap:square;stroke-width:1.5;\"/>\n   </g>\n   <g id=\"line2d_18\">\n    <path clip-path=\"url(#p26e0f49806)\" d=\"M 68.546307 214.743409 \nL 69.684515 214.72735 \nL 72.213467 214.740105 \nL 76.639975 214.737087 \nL 86.160613 214.729832 \nL 105.162992 214.724076 \nL 143.815634 214.718256 \n\" style=\"fill:none;stroke:#9467bd;stroke-linecap:square;stroke-width:1.5;\"/>\n   </g>\n   <g id=\"line2d_19\">\n    <path clip-path=\"url(#p26e0f49806)\" d=\"M 68.546307 214.247271 \nL 69.684515 213.942663 \nL 72.213467 213.247102 \nL 76.639975 211.966013 \nL 86.160613 209.188972 \nL 105.162992 203.94755 \nL 143.815634 193.396778 \nL 219.499352 171.514165 \nL 246.266349 163.778149 \n\" style=\"fill:none;stroke:#8c564b;stroke-linecap:square;stroke-width:1.5;\"/>\n   </g>\n   <g id=\"line2d_20\">\n    <path clip-path=\"url(#p26e0f49806)\" d=\"M 68.546307 214.719639 \nL 69.684515 214.694009 \nL 72.213467 214.637177 \nL 76.639975 214.479129 \nL 86.160613 214.28734 \nL 105.162992 213.53217 \nL 143.815634 212.552374 \nL 219.499352 210.740385 \n\" style=\"fill:none;stroke:#e377c2;stroke-linecap:square;stroke-width:1.5;\"/>\n   </g>\n   <g id=\"line2d_21\">\n    <path clip-path=\"url(#p26e0f49806)\" d=\"M 68.546307 213.896799 \nL 69.684515 213.074097 \nL 72.213467 211.486169 \nL 76.639975 208.183625 \nL 86.160613 201.670773 \nL 105.162992 189.346333 \nL 143.815634 162.953535 \nL 219.499352 109.233142 \nL 372.909943 17.083636 \n\" style=\"fill:none;stroke:#7f7f7f;stroke-linecap:square;stroke-width:1.5;\"/>\n   </g>\n   <g id=\"line2d_22\">\n    <path clip-path=\"url(#p26e0f49806)\" d=\"M 68.546307 214.353119 \nL 69.684515 214.133927 \nL 72.213467 213.587824 \nL 76.639975 212.504824 \nL 86.160613 210.434941 \nL 105.162992 206.068162 \nL 143.815634 197.307473 \nL 219.499352 178.589116 \nL 372.909943 133.276691 \n\" style=\"fill:none;stroke:#bcbd22;stroke-linecap:square;stroke-width:1.5;\"/>\n   </g>\n   <g id=\"line2d_23\">\n    <path clip-path=\"url(#p26e0f49806)\" d=\"M 68.546307 214.755928 \nL 69.684515 214.756364 \nL 72.213467 214.739129 \nL 76.639975 214.747537 \nL 86.160613 214.732182 \nL 105.162992 214.728746 \nL 143.815634 214.703306 \nL 219.499352 214.683832 \n\" style=\"fill:none;stroke:#17becf;stroke-linecap:square;stroke-width:1.5;\"/>\n   </g>\n   <g id=\"patch_3\">\n    <path d=\"M 53.328125 224.64 \nL 53.328125 7.2 \n\" style=\"fill:none;stroke:#000000;stroke-linecap:square;stroke-linejoin:miter;stroke-width:0.8;\"/>\n   </g>\n   <g id=\"patch_4\">\n    <path d=\"M 388.128125 224.64 \nL 388.128125 7.2 \n\" style=\"fill:none;stroke:#000000;stroke-linecap:square;stroke-linejoin:miter;stroke-width:0.8;\"/>\n   </g>\n   <g id=\"patch_5\">\n    <path d=\"M 53.328125 224.64 \nL 388.128125 224.64 \n\" style=\"fill:none;stroke:#000000;stroke-linecap:square;stroke-linejoin:miter;stroke-width:0.8;\"/>\n   </g>\n   <g id=\"patch_6\">\n    <path d=\"M 53.328125 7.2 \nL 388.128125 7.2 \n\" style=\"fill:none;stroke:#000000;stroke-linecap:square;stroke-linejoin:miter;stroke-width:0.8;\"/>\n   </g>\n   <g id=\"legend_1\">\n    <g id=\"patch_7\">\n     <path d=\"M 60.328125 164.7625 \nL 261.282813 164.7625 \nQ 263.282813 164.7625 263.282813 162.7625 \nL 263.282813 14.2 \nQ 263.282813 12.2 261.282813 12.2 \nL 60.328125 12.2 \nQ 58.328125 12.2 58.328125 14.2 \nL 58.328125 162.7625 \nQ 58.328125 164.7625 60.328125 164.7625 \nz\n\" style=\"fill:#ffffff;opacity:0.8;stroke:#cccccc;stroke-linejoin:miter;\"/>\n    </g>\n    <g id=\"line2d_24\">\n     <path d=\"M 62.328125 20.298437 \nL 82.328125 20.298437 \n\" style=\"fill:none;stroke:#1f77b4;stroke-linecap:square;stroke-width:1.5;\"/>\n    </g>\n    <g id=\"line2d_25\"/>\n    <g id=\"text_17\">\n     <!-- bad_interned_stemmed_load -->\n     <g transform=\"translate(90.328125 23.798437)scale(0.1 -0.1)\">\n      <defs>\n       <path d=\"M 2194 1759 \nQ 1497 1759 1228 1600 \nQ 959 1441 959 1056 \nQ 959 750 1161 570 \nQ 1363 391 1709 391 \nQ 2188 391 2477 730 \nQ 2766 1069 2766 1631 \nL 2766 1759 \nL 2194 1759 \nz\nM 3341 1997 \nL 3341 0 \nL 2766 0 \nL 2766 531 \nQ 2569 213 2275 61 \nQ 1981 -91 1556 -91 \nQ 1019 -91 701 211 \nQ 384 513 384 1019 \nQ 384 1609 779 1909 \nQ 1175 2209 1959 2209 \nL 2766 2209 \nL 2766 2266 \nQ 2766 2663 2505 2880 \nQ 2244 3097 1772 3097 \nQ 1472 3097 1187 3025 \nQ 903 2953 641 2809 \nL 641 3341 \nQ 956 3463 1253 3523 \nQ 1550 3584 1831 3584 \nQ 2591 3584 2966 3190 \nQ 3341 2797 3341 1997 \nz\n\" id=\"DejaVuSans-61\" transform=\"scale(0.015625)\"/>\n       <path d=\"M 2906 2969 \nL 2906 4863 \nL 3481 4863 \nL 3481 0 \nL 2906 0 \nL 2906 525 \nQ 2725 213 2448 61 \nQ 2172 -91 1784 -91 \nQ 1150 -91 751 415 \nQ 353 922 353 1747 \nQ 353 2572 751 3078 \nQ 1150 3584 1784 3584 \nQ 2172 3584 2448 3432 \nQ 2725 3281 2906 2969 \nz\nM 947 1747 \nQ 947 1113 1208 752 \nQ 1469 391 1925 391 \nQ 2381 391 2643 752 \nQ 2906 1113 2906 1747 \nQ 2906 2381 2643 2742 \nQ 2381 3103 1925 3103 \nQ 1469 3103 1208 2742 \nQ 947 2381 947 1747 \nz\n\" id=\"DejaVuSans-64\" transform=\"scale(0.015625)\"/>\n       <path d=\"M 3263 -1063 \nL 3263 -1509 \nL -63 -1509 \nL -63 -1063 \nL 3263 -1063 \nz\n\" id=\"DejaVuSans-5f\" transform=\"scale(0.015625)\"/>\n       <path d=\"M 603 3500 \nL 1178 3500 \nL 1178 0 \nL 603 0 \nL 603 3500 \nz\nM 603 4863 \nL 1178 4863 \nL 1178 4134 \nL 603 4134 \nL 603 4863 \nz\n\" id=\"DejaVuSans-69\" transform=\"scale(0.015625)\"/>\n       <path d=\"M 3513 2113 \nL 3513 0 \nL 2938 0 \nL 2938 2094 \nQ 2938 2591 2744 2837 \nQ 2550 3084 2163 3084 \nQ 1697 3084 1428 2787 \nQ 1159 2491 1159 1978 \nL 1159 0 \nL 581 0 \nL 581 3500 \nL 1159 3500 \nL 1159 2956 \nQ 1366 3272 1645 3428 \nQ 1925 3584 2291 3584 \nQ 2894 3584 3203 3211 \nQ 3513 2838 3513 2113 \nz\n\" id=\"DejaVuSans-6e\" transform=\"scale(0.015625)\"/>\n       <path d=\"M 2631 2963 \nQ 2534 3019 2420 3045 \nQ 2306 3072 2169 3072 \nQ 1681 3072 1420 2755 \nQ 1159 2438 1159 1844 \nL 1159 0 \nL 581 0 \nL 581 3500 \nL 1159 3500 \nL 1159 2956 \nQ 1341 3275 1631 3429 \nQ 1922 3584 2338 3584 \nQ 2397 3584 2469 3576 \nQ 2541 3569 2628 3553 \nL 2631 2963 \nz\n\" id=\"DejaVuSans-72\" transform=\"scale(0.015625)\"/>\n       <path d=\"M 3328 2828 \nQ 3544 3216 3844 3400 \nQ 4144 3584 4550 3584 \nQ 5097 3584 5394 3201 \nQ 5691 2819 5691 2113 \nL 5691 0 \nL 5113 0 \nL 5113 2094 \nQ 5113 2597 4934 2840 \nQ 4756 3084 4391 3084 \nQ 3944 3084 3684 2787 \nQ 3425 2491 3425 1978 \nL 3425 0 \nL 2847 0 \nL 2847 2094 \nQ 2847 2600 2669 2842 \nQ 2491 3084 2119 3084 \nQ 1678 3084 1418 2786 \nQ 1159 2488 1159 1978 \nL 1159 0 \nL 581 0 \nL 581 3500 \nL 1159 3500 \nL 1159 2956 \nQ 1356 3278 1631 3431 \nQ 1906 3584 2284 3584 \nQ 2666 3584 2933 3390 \nQ 3200 3197 3328 2828 \nz\n\" id=\"DejaVuSans-6d\" transform=\"scale(0.015625)\"/>\n       <path d=\"M 603 4863 \nL 1178 4863 \nL 1178 0 \nL 603 0 \nL 603 4863 \nz\n\" id=\"DejaVuSans-6c\" transform=\"scale(0.015625)\"/>\n       <path d=\"M 1959 3097 \nQ 1497 3097 1228 2736 \nQ 959 2375 959 1747 \nQ 959 1119 1226 758 \nQ 1494 397 1959 397 \nQ 2419 397 2687 759 \nQ 2956 1122 2956 1747 \nQ 2956 2369 2687 2733 \nQ 2419 3097 1959 3097 \nz\nM 1959 3584 \nQ 2709 3584 3137 3096 \nQ 3566 2609 3566 1747 \nQ 3566 888 3137 398 \nQ 2709 -91 1959 -91 \nQ 1206 -91 779 398 \nQ 353 888 353 1747 \nQ 353 2609 779 3096 \nQ 1206 3584 1959 3584 \nz\n\" id=\"DejaVuSans-6f\" transform=\"scale(0.015625)\"/>\n      </defs>\n      <use xlink:href=\"#DejaVuSans-62\"/>\n      <use x=\"63.476562\" xlink:href=\"#DejaVuSans-61\"/>\n      <use x=\"124.755859\" xlink:href=\"#DejaVuSans-64\"/>\n      <use x=\"188.232422\" xlink:href=\"#DejaVuSans-5f\"/>\n      <use x=\"238.232422\" xlink:href=\"#DejaVuSans-69\"/>\n      <use x=\"266.015625\" xlink:href=\"#DejaVuSans-6e\"/>\n      <use x=\"329.394531\" xlink:href=\"#DejaVuSans-74\"/>\n      <use x=\"368.603516\" xlink:href=\"#DejaVuSans-65\"/>\n      <use x=\"430.126953\" xlink:href=\"#DejaVuSans-72\"/>\n      <use x=\"469.490234\" xlink:href=\"#DejaVuSans-6e\"/>\n      <use x=\"532.869141\" xlink:href=\"#DejaVuSans-65\"/>\n      <use x=\"594.392578\" xlink:href=\"#DejaVuSans-64\"/>\n      <use x=\"657.869141\" xlink:href=\"#DejaVuSans-5f\"/>\n      <use x=\"707.869141\" xlink:href=\"#DejaVuSans-73\"/>\n      <use x=\"759.96875\" xlink:href=\"#DejaVuSans-74\"/>\n      <use x=\"799.177734\" xlink:href=\"#DejaVuSans-65\"/>\n      <use x=\"860.701172\" xlink:href=\"#DejaVuSans-6d\"/>\n      <use x=\"958.113281\" xlink:href=\"#DejaVuSans-6d\"/>\n      <use x=\"1055.525391\" xlink:href=\"#DejaVuSans-65\"/>\n      <use x=\"1117.048828\" xlink:href=\"#DejaVuSans-64\"/>\n      <use x=\"1180.525391\" xlink:href=\"#DejaVuSans-5f\"/>\n      <use x=\"1230.525391\" xlink:href=\"#DejaVuSans-6c\"/>\n      <use x=\"1258.308594\" xlink:href=\"#DejaVuSans-6f\"/>\n      <use x=\"1319.490234\" xlink:href=\"#DejaVuSans-61\"/>\n      <use x=\"1380.769531\" xlink:href=\"#DejaVuSans-64\"/>\n     </g>\n    </g>\n    <g id=\"line2d_26\">\n     <path d=\"M 62.328125 35.254687 \nL 82.328125 35.254687 \n\" style=\"fill:none;stroke:#ff7f0e;stroke-linecap:square;stroke-width:1.5;\"/>\n    </g>\n    <g id=\"line2d_27\"/>\n    <g id=\"text_18\">\n     <!-- bad_interned_stemmed_vectorize -->\n     <g transform=\"translate(90.328125 38.754687)scale(0.1 -0.1)\">\n      <defs>\n       <path d=\"M 191 3500 \nL 800 3500 \nL 1894 563 \nL 2988 3500 \nL 3597 3500 \nL 2284 0 \nL 1503 0 \nL 191 3500 \nz\n\" id=\"DejaVuSans-76\" transform=\"scale(0.015625)\"/>\n       <path d=\"M 3122 3366 \nL 3122 2828 \nQ 2878 2963 2633 3030 \nQ 2388 3097 2138 3097 \nQ 1578 3097 1268 2742 \nQ 959 2388 959 1747 \nQ 959 1106 1268 751 \nQ 1578 397 2138 397 \nQ 2388 397 2633 464 \nQ 2878 531 3122 666 \nL 3122 134 \nQ 2881 22 2623 -34 \nQ 2366 -91 2075 -91 \nQ 1284 -91 818 406 \nQ 353 903 353 1747 \nQ 353 2603 823 3093 \nQ 1294 3584 2113 3584 \nQ 2378 3584 2631 3529 \nQ 2884 3475 3122 3366 \nz\n\" id=\"DejaVuSans-63\" transform=\"scale(0.015625)\"/>\n       <path d=\"M 353 3500 \nL 3084 3500 \nL 3084 2975 \nL 922 459 \nL 3084 459 \nL 3084 0 \nL 275 0 \nL 275 525 \nL 2438 3041 \nL 353 3041 \nL 353 3500 \nz\n\" id=\"DejaVuSans-7a\" transform=\"scale(0.015625)\"/>\n      </defs>\n      <use xlink:href=\"#DejaVuSans-62\"/>\n      <use x=\"63.476562\" xlink:href=\"#DejaVuSans-61\"/>\n      <use x=\"124.755859\" xlink:href=\"#DejaVuSans-64\"/>\n      <use x=\"188.232422\" xlink:href=\"#DejaVuSans-5f\"/>\n      <use x=\"238.232422\" xlink:href=\"#DejaVuSans-69\"/>\n      <use x=\"266.015625\" xlink:href=\"#DejaVuSans-6e\"/>\n      <use x=\"329.394531\" xlink:href=\"#DejaVuSans-74\"/>\n      <use x=\"368.603516\" xlink:href=\"#DejaVuSans-65\"/>\n      <use x=\"430.126953\" xlink:href=\"#DejaVuSans-72\"/>\n      <use x=\"469.490234\" xlink:href=\"#DejaVuSans-6e\"/>\n      <use x=\"532.869141\" xlink:href=\"#DejaVuSans-65\"/>\n      <use x=\"594.392578\" xlink:href=\"#DejaVuSans-64\"/>\n      <use x=\"657.869141\" xlink:href=\"#DejaVuSans-5f\"/>\n      <use x=\"707.869141\" xlink:href=\"#DejaVuSans-73\"/>\n      <use x=\"759.96875\" xlink:href=\"#DejaVuSans-74\"/>\n      <use x=\"799.177734\" xlink:href=\"#DejaVuSans-65\"/>\n      <use x=\"860.701172\" xlink:href=\"#DejaVuSans-6d\"/>\n      <use x=\"958.113281\" xlink:href=\"#DejaVuSans-6d\"/>\n      <use x=\"1055.525391\" xlink:href=\"#DejaVuSans-65\"/>\n      <use x=\"1117.048828\" xlink:href=\"#DejaVuSans-64\"/>\n      <use x=\"1180.525391\" xlink:href=\"#DejaVuSans-5f\"/>\n      <use x=\"1230.525391\" xlink:href=\"#DejaVuSans-76\"/>\n      <use x=\"1289.705078\" xlink:href=\"#DejaVuSans-65\"/>\n      <use x=\"1351.228516\" xlink:href=\"#DejaVuSans-63\"/>\n      <use x=\"1406.208984\" xlink:href=\"#DejaVuSans-74\"/>\n      <use x=\"1445.417969\" xlink:href=\"#DejaVuSans-6f\"/>\n      <use x=\"1506.599609\" xlink:href=\"#DejaVuSans-72\"/>\n      <use x=\"1547.712891\" xlink:href=\"#DejaVuSans-69\"/>\n      <use x=\"1575.496094\" xlink:href=\"#DejaVuSans-7a\"/>\n      <use x=\"1627.986328\" xlink:href=\"#DejaVuSans-65\"/>\n     </g>\n    </g>\n    <g id=\"line2d_28\">\n     <path d=\"M 62.328125 50.210937 \nL 82.328125 50.210937 \n\" style=\"fill:none;stroke:#2ca02c;stroke-linecap:square;stroke-width:1.5;\"/>\n    </g>\n    <g id=\"line2d_29\"/>\n    <g id=\"text_19\">\n     <!-- cuml_tfidf_mat -->\n     <g transform=\"translate(90.328125 53.710937)scale(0.1 -0.1)\">\n      <defs>\n       <path d=\"M 544 1381 \nL 544 3500 \nL 1119 3500 \nL 1119 1403 \nQ 1119 906 1312 657 \nQ 1506 409 1894 409 \nQ 2359 409 2629 706 \nQ 2900 1003 2900 1516 \nL 2900 3500 \nL 3475 3500 \nL 3475 0 \nL 2900 0 \nL 2900 538 \nQ 2691 219 2414 64 \nQ 2138 -91 1772 -91 \nQ 1169 -91 856 284 \nQ 544 659 544 1381 \nz\nM 1991 3584 \nL 1991 3584 \nz\n\" id=\"DejaVuSans-75\" transform=\"scale(0.015625)\"/>\n       <path d=\"M 2375 4863 \nL 2375 4384 \nL 1825 4384 \nQ 1516 4384 1395 4259 \nQ 1275 4134 1275 3809 \nL 1275 3500 \nL 2222 3500 \nL 2222 3053 \nL 1275 3053 \nL 1275 0 \nL 697 0 \nL 697 3053 \nL 147 3053 \nL 147 3500 \nL 697 3500 \nL 697 3744 \nQ 697 4328 969 4595 \nQ 1241 4863 1831 4863 \nL 2375 4863 \nz\n\" id=\"DejaVuSans-66\" transform=\"scale(0.015625)\"/>\n      </defs>\n      <use xlink:href=\"#DejaVuSans-63\"/>\n      <use x=\"54.980469\" xlink:href=\"#DejaVuSans-75\"/>\n      <use x=\"118.359375\" xlink:href=\"#DejaVuSans-6d\"/>\n      <use x=\"215.771484\" xlink:href=\"#DejaVuSans-6c\"/>\n      <use x=\"243.554688\" xlink:href=\"#DejaVuSans-5f\"/>\n      <use x=\"293.554688\" xlink:href=\"#DejaVuSans-74\"/>\n      <use x=\"332.763672\" xlink:href=\"#DejaVuSans-66\"/>\n      <use x=\"367.96875\" xlink:href=\"#DejaVuSans-69\"/>\n      <use x=\"395.751953\" xlink:href=\"#DejaVuSans-64\"/>\n      <use x=\"459.228516\" xlink:href=\"#DejaVuSans-66\"/>\n      <use x=\"494.433594\" xlink:href=\"#DejaVuSans-5f\"/>\n      <use x=\"544.433594\" xlink:href=\"#DejaVuSans-6d\"/>\n      <use x=\"641.845703\" xlink:href=\"#DejaVuSans-61\"/>\n      <use x=\"703.125\" xlink:href=\"#DejaVuSans-74\"/>\n     </g>\n    </g>\n    <g id=\"line2d_30\">\n     <path d=\"M 62.328125 65.167187 \nL 82.328125 65.167187 \n\" style=\"fill:none;stroke:#d62728;stroke-linecap:square;stroke-width:1.5;\"/>\n    </g>\n    <g id=\"line2d_31\"/>\n    <g id=\"text_20\">\n     <!-- cuml_tokens -->\n     <g transform=\"translate(90.328125 68.667187)scale(0.1 -0.1)\">\n      <defs>\n       <path d=\"M 581 4863 \nL 1159 4863 \nL 1159 1991 \nL 2875 3500 \nL 3609 3500 \nL 1753 1863 \nL 3688 0 \nL 2938 0 \nL 1159 1709 \nL 1159 0 \nL 581 0 \nL 581 4863 \nz\n\" id=\"DejaVuSans-6b\" transform=\"scale(0.015625)\"/>\n      </defs>\n      <use xlink:href=\"#DejaVuSans-63\"/>\n      <use x=\"54.980469\" xlink:href=\"#DejaVuSans-75\"/>\n      <use x=\"118.359375\" xlink:href=\"#DejaVuSans-6d\"/>\n      <use x=\"215.771484\" xlink:href=\"#DejaVuSans-6c\"/>\n      <use x=\"243.554688\" xlink:href=\"#DejaVuSans-5f\"/>\n      <use x=\"293.554688\" xlink:href=\"#DejaVuSans-74\"/>\n      <use x=\"332.763672\" xlink:href=\"#DejaVuSans-6f\"/>\n      <use x=\"393.945312\" xlink:href=\"#DejaVuSans-6b\"/>\n      <use x=\"448.230469\" xlink:href=\"#DejaVuSans-65\"/>\n      <use x=\"509.753906\" xlink:href=\"#DejaVuSans-6e\"/>\n      <use x=\"573.132812\" xlink:href=\"#DejaVuSans-73\"/>\n     </g>\n    </g>\n    <g id=\"line2d_32\">\n     <path d=\"M 62.328125 80.123437 \nL 82.328125 80.123437 \n\" style=\"fill:none;stroke:#9467bd;stroke-linecap:square;stroke-width:1.5;\"/>\n    </g>\n    <g id=\"line2d_33\"/>\n    <g id=\"text_21\">\n     <!-- filtered_dict_tfidf_mat -->\n     <g transform=\"translate(90.328125 83.623437)scale(0.1 -0.1)\">\n      <use xlink:href=\"#DejaVuSans-66\"/>\n      <use x=\"35.205078\" xlink:href=\"#DejaVuSans-69\"/>\n      <use x=\"62.988281\" xlink:href=\"#DejaVuSans-6c\"/>\n      <use x=\"90.771484\" xlink:href=\"#DejaVuSans-74\"/>\n      <use x=\"129.980469\" xlink:href=\"#DejaVuSans-65\"/>\n      <use x=\"191.503906\" xlink:href=\"#DejaVuSans-72\"/>\n      <use x=\"230.367188\" xlink:href=\"#DejaVuSans-65\"/>\n      <use x=\"291.890625\" xlink:href=\"#DejaVuSans-64\"/>\n      <use x=\"355.367188\" xlink:href=\"#DejaVuSans-5f\"/>\n      <use x=\"405.367188\" xlink:href=\"#DejaVuSans-64\"/>\n      <use x=\"468.84375\" xlink:href=\"#DejaVuSans-69\"/>\n      <use x=\"496.626953\" xlink:href=\"#DejaVuSans-63\"/>\n      <use x=\"551.607422\" xlink:href=\"#DejaVuSans-74\"/>\n      <use x=\"590.816406\" xlink:href=\"#DejaVuSans-5f\"/>\n      <use x=\"640.816406\" xlink:href=\"#DejaVuSans-74\"/>\n      <use x=\"680.025391\" xlink:href=\"#DejaVuSans-66\"/>\n      <use x=\"715.230469\" xlink:href=\"#DejaVuSans-69\"/>\n      <use x=\"743.013672\" xlink:href=\"#DejaVuSans-64\"/>\n      <use x=\"806.490234\" xlink:href=\"#DejaVuSans-66\"/>\n      <use x=\"841.695312\" xlink:href=\"#DejaVuSans-5f\"/>\n      <use x=\"891.695312\" xlink:href=\"#DejaVuSans-6d\"/>\n      <use x=\"989.107422\" xlink:href=\"#DejaVuSans-61\"/>\n      <use x=\"1050.386719\" xlink:href=\"#DejaVuSans-74\"/>\n     </g>\n    </g>\n    <g id=\"line2d_34\">\n     <path d=\"M 62.328125 95.079687 \nL 82.328125 95.079687 \n\" style=\"fill:none;stroke:#8c564b;stroke-linecap:square;stroke-width:1.5;\"/>\n    </g>\n    <g id=\"line2d_35\"/>\n    <g id=\"text_22\">\n     <!-- filtered_dict_tokens -->\n     <g transform=\"translate(90.328125 98.579687)scale(0.1 -0.1)\">\n      <use xlink:href=\"#DejaVuSans-66\"/>\n      <use x=\"35.205078\" xlink:href=\"#DejaVuSans-69\"/>\n      <use x=\"62.988281\" xlink:href=\"#DejaVuSans-6c\"/>\n      <use x=\"90.771484\" xlink:href=\"#DejaVuSans-74\"/>\n      <use x=\"129.980469\" xlink:href=\"#DejaVuSans-65\"/>\n      <use x=\"191.503906\" xlink:href=\"#DejaVuSans-72\"/>\n      <use x=\"230.367188\" xlink:href=\"#DejaVuSans-65\"/>\n      <use x=\"291.890625\" xlink:href=\"#DejaVuSans-64\"/>\n      <use x=\"355.367188\" xlink:href=\"#DejaVuSans-5f\"/>\n      <use x=\"405.367188\" xlink:href=\"#DejaVuSans-64\"/>\n      <use x=\"468.84375\" xlink:href=\"#DejaVuSans-69\"/>\n      <use x=\"496.626953\" xlink:href=\"#DejaVuSans-63\"/>\n      <use x=\"551.607422\" xlink:href=\"#DejaVuSans-74\"/>\n      <use x=\"590.816406\" xlink:href=\"#DejaVuSans-5f\"/>\n      <use x=\"640.816406\" xlink:href=\"#DejaVuSans-74\"/>\n      <use x=\"680.025391\" xlink:href=\"#DejaVuSans-6f\"/>\n      <use x=\"741.207031\" xlink:href=\"#DejaVuSans-6b\"/>\n      <use x=\"795.492188\" xlink:href=\"#DejaVuSans-65\"/>\n      <use x=\"857.015625\" xlink:href=\"#DejaVuSans-6e\"/>\n      <use x=\"920.394531\" xlink:href=\"#DejaVuSans-73\"/>\n     </g>\n    </g>\n    <g id=\"line2d_36\">\n     <path d=\"M 62.328125 110.035937 \nL 82.328125 110.035937 \n\" style=\"fill:none;stroke:#e377c2;stroke-linecap:square;stroke-width:1.5;\"/>\n    </g>\n    <g id=\"line2d_37\"/>\n    <g id=\"text_23\">\n     <!-- gensim_tfidf_mat -->\n     <g transform=\"translate(90.328125 113.535937)scale(0.1 -0.1)\">\n      <defs>\n       <path d=\"M 2906 1791 \nQ 2906 2416 2648 2759 \nQ 2391 3103 1925 3103 \nQ 1463 3103 1205 2759 \nQ 947 2416 947 1791 \nQ 947 1169 1205 825 \nQ 1463 481 1925 481 \nQ 2391 481 2648 825 \nQ 2906 1169 2906 1791 \nz\nM 3481 434 \nQ 3481 -459 3084 -895 \nQ 2688 -1331 1869 -1331 \nQ 1566 -1331 1297 -1286 \nQ 1028 -1241 775 -1147 \nL 775 -588 \nQ 1028 -725 1275 -790 \nQ 1522 -856 1778 -856 \nQ 2344 -856 2625 -561 \nQ 2906 -266 2906 331 \nL 2906 616 \nQ 2728 306 2450 153 \nQ 2172 0 1784 0 \nQ 1141 0 747 490 \nQ 353 981 353 1791 \nQ 353 2603 747 3093 \nQ 1141 3584 1784 3584 \nQ 2172 3584 2450 3431 \nQ 2728 3278 2906 2969 \nL 2906 3500 \nL 3481 3500 \nL 3481 434 \nz\n\" id=\"DejaVuSans-67\" transform=\"scale(0.015625)\"/>\n      </defs>\n      <use xlink:href=\"#DejaVuSans-67\"/>\n      <use x=\"63.476562\" xlink:href=\"#DejaVuSans-65\"/>\n      <use x=\"125\" xlink:href=\"#DejaVuSans-6e\"/>\n      <use x=\"188.378906\" xlink:href=\"#DejaVuSans-73\"/>\n      <use x=\"240.478516\" xlink:href=\"#DejaVuSans-69\"/>\n      <use x=\"268.261719\" xlink:href=\"#DejaVuSans-6d\"/>\n      <use x=\"365.673828\" xlink:href=\"#DejaVuSans-5f\"/>\n      <use x=\"415.673828\" xlink:href=\"#DejaVuSans-74\"/>\n      <use x=\"454.882812\" xlink:href=\"#DejaVuSans-66\"/>\n      <use x=\"490.087891\" xlink:href=\"#DejaVuSans-69\"/>\n      <use x=\"517.871094\" xlink:href=\"#DejaVuSans-64\"/>\n      <use x=\"581.347656\" xlink:href=\"#DejaVuSans-66\"/>\n      <use x=\"616.552734\" xlink:href=\"#DejaVuSans-5f\"/>\n      <use x=\"666.552734\" xlink:href=\"#DejaVuSans-6d\"/>\n      <use x=\"763.964844\" xlink:href=\"#DejaVuSans-61\"/>\n      <use x=\"825.244141\" xlink:href=\"#DejaVuSans-74\"/>\n     </g>\n    </g>\n    <g id=\"line2d_38\">\n     <path d=\"M 62.328125 124.992187 \nL 82.328125 124.992187 \n\" style=\"fill:none;stroke:#7f7f7f;stroke-linecap:square;stroke-width:1.5;\"/>\n    </g>\n    <g id=\"line2d_39\"/>\n    <g id=\"text_24\">\n     <!-- gensim_tokens -->\n     <g transform=\"translate(90.328125 128.492187)scale(0.1 -0.1)\">\n      <use xlink:href=\"#DejaVuSans-67\"/>\n      <use x=\"63.476562\" xlink:href=\"#DejaVuSans-65\"/>\n      <use x=\"125\" xlink:href=\"#DejaVuSans-6e\"/>\n      <use x=\"188.378906\" xlink:href=\"#DejaVuSans-73\"/>\n      <use x=\"240.478516\" xlink:href=\"#DejaVuSans-69\"/>\n      <use x=\"268.261719\" xlink:href=\"#DejaVuSans-6d\"/>\n      <use x=\"365.673828\" xlink:href=\"#DejaVuSans-5f\"/>\n      <use x=\"415.673828\" xlink:href=\"#DejaVuSans-74\"/>\n      <use x=\"454.882812\" xlink:href=\"#DejaVuSans-6f\"/>\n      <use x=\"516.064453\" xlink:href=\"#DejaVuSans-6b\"/>\n      <use x=\"570.349609\" xlink:href=\"#DejaVuSans-65\"/>\n      <use x=\"631.873047\" xlink:href=\"#DejaVuSans-6e\"/>\n      <use x=\"695.251953\" xlink:href=\"#DejaVuSans-73\"/>\n     </g>\n    </g>\n    <g id=\"line2d_40\">\n     <path d=\"M 62.328125 139.948437 \nL 82.328125 139.948437 \n\" style=\"fill:none;stroke:#bcbd22;stroke-linecap:square;stroke-width:1.5;\"/>\n    </g>\n    <g id=\"line2d_41\"/>\n    <g id=\"text_25\">\n     <!-- nostem_load -->\n     <g transform=\"translate(90.328125 143.448437)scale(0.1 -0.1)\">\n      <use xlink:href=\"#DejaVuSans-6e\"/>\n      <use x=\"63.378906\" xlink:href=\"#DejaVuSans-6f\"/>\n      <use x=\"124.560547\" xlink:href=\"#DejaVuSans-73\"/>\n      <use x=\"176.660156\" xlink:href=\"#DejaVuSans-74\"/>\n      <use x=\"215.869141\" xlink:href=\"#DejaVuSans-65\"/>\n      <use x=\"277.392578\" xlink:href=\"#DejaVuSans-6d\"/>\n      <use x=\"374.804688\" xlink:href=\"#DejaVuSans-5f\"/>\n      <use x=\"424.804688\" xlink:href=\"#DejaVuSans-6c\"/>\n      <use x=\"452.587891\" xlink:href=\"#DejaVuSans-6f\"/>\n      <use x=\"513.769531\" xlink:href=\"#DejaVuSans-61\"/>\n      <use x=\"575.048828\" xlink:href=\"#DejaVuSans-64\"/>\n     </g>\n    </g>\n    <g id=\"line2d_42\">\n     <path d=\"M 62.328125 154.904687 \nL 82.328125 154.904687 \n\" style=\"fill:none;stroke:#17becf;stroke-linecap:square;stroke-width:1.5;\"/>\n    </g>\n    <g id=\"line2d_43\"/>\n    <g id=\"text_26\">\n     <!-- nostem_vectorize -->\n     <g transform=\"translate(90.328125 158.404687)scale(0.1 -0.1)\">\n      <use xlink:href=\"#DejaVuSans-6e\"/>\n      <use x=\"63.378906\" xlink:href=\"#DejaVuSans-6f\"/>\n      <use x=\"124.560547\" xlink:href=\"#DejaVuSans-73\"/>\n      <use x=\"176.660156\" xlink:href=\"#DejaVuSans-74\"/>\n      <use x=\"215.869141\" xlink:href=\"#DejaVuSans-65\"/>\n      <use x=\"277.392578\" xlink:href=\"#DejaVuSans-6d\"/>\n      <use x=\"374.804688\" xlink:href=\"#DejaVuSans-5f\"/>\n      <use x=\"424.804688\" xlink:href=\"#DejaVuSans-76\"/>\n      <use x=\"483.984375\" xlink:href=\"#DejaVuSans-65\"/>\n      <use x=\"545.507812\" xlink:href=\"#DejaVuSans-63\"/>\n      <use x=\"600.488281\" xlink:href=\"#DejaVuSans-74\"/>\n      <use x=\"639.697266\" xlink:href=\"#DejaVuSans-6f\"/>\n      <use x=\"700.878906\" xlink:href=\"#DejaVuSans-72\"/>\n      <use x=\"741.992188\" xlink:href=\"#DejaVuSans-69\"/>\n      <use x=\"769.775391\" xlink:href=\"#DejaVuSans-7a\"/>\n      <use x=\"822.265625\" xlink:href=\"#DejaVuSans-65\"/>\n     </g>\n    </g>\n   </g>\n  </g>\n </g>\n <defs>\n  <clipPath id=\"p26e0f49806\">\n   <rect height=\"217.44\" width=\"334.8\" x=\"53.328125\" y=\"7.2\"/>\n  </clipPath>\n </defs>\n</svg>\n",
      "image/png": "[encoded data removed]"
     },
     "metadata": {
      "needs_background": "light"
     }
    }
   ],
   "source": [
    "for mes in measures.keys():\n",
    "    plt.plot(measures[mes]['tweets'], measures[mes]['time'], label=mes)\n",
    "plt.legend()\n",
    "plt.xlabel('tweets')\n",
    "plt.ylabel('bytes')\n"
   ]
  },
  {
   "cell_type": "code",
   "execution_count": 8,
   "metadata": {},
   "outputs": [
    {
     "output_type": "execute_result",
     "data": {
      "text/plain": [
       "512"
      ]
     },
     "metadata": {},
     "execution_count": 8
    }
   ],
   "source": [
    "# Vocabulary should not be increasing linearly! this is not what I was promised\n",
    "# mem increases linearly in function of cols/tweets ... as if each tweet is adding at least one new, unique word not found in any other tweet: URLs!?\n",
    "# what's gonna help: stemming, filter dictionary?\n",
    "pow(2, 9)"
   ]
  },
  {
   "cell_type": "code",
   "execution_count": 37,
   "metadata": {},
   "outputs": [
    {
     "output_type": "execute_result",
     "data": {
      "text/plain": [
       "['94862426']"
      ]
     },
     "metadata": {},
     "execution_count": 37
    }
   ],
   "source": [
    "rows = []\n",
    "with open('../trained-2021-06-02/dictionary.txt') as f:\n",
    "    reader = csv.reader(f, delimiter='\\t')\n",
    "    for row in reader:\n",
    "        rows.append(row)\n",
    "rows.pop(0)"
   ]
  },
  {
   "cell_type": "code",
   "execution_count": 38,
   "metadata": {},
   "outputs": [],
   "source": [
    "vocab = [ row[1] for row in rows ]"
   ]
  },
  {
   "cell_type": "code",
   "execution_count": 39,
   "metadata": {},
   "outputs": [
    {
     "output_type": "execute_result",
     "data": {
      "text/plain": [
       "2001106"
      ]
     },
     "metadata": {},
     "execution_count": 39
    }
   ],
   "source": [
    "len(vocab)"
   ]
  },
  {
   "cell_type": "code",
   "execution_count": 40,
   "metadata": {},
   "outputs": [
    {
     "output_type": "execute_result",
     "data": {
      "text/plain": [
       "2001106"
      ]
     },
     "metadata": {},
     "execution_count": 40
    }
   ],
   "source": [
    "occs = [ int(row[-1]) for row in rows ]\n",
    "len(occs)\n"
   ]
  },
  {
   "cell_type": "code",
   "execution_count": 41,
   "metadata": {},
   "outputs": [
    {
     "output_type": "execute_result",
     "data": {
      "text/plain": [
       "(array([  36339., 1042056.,  777024.,  118716.,   20372.]),\n",
       " array([0.0e+00, 1.5e+00, 1.0e+01, 1.0e+02, 1.0e+03, 1.0e+04]),\n",
       " <BarContainer object of 5 artists>)"
      ]
     },
     "metadata": {},
     "execution_count": 41
    },
    {
     "output_type": "display_data",
     "data": {
      "text/plain": "<Figure size 432x288 with 1 Axes>",
      "image/svg+xml": "<?xml version=\"1.0\" encoding=\"utf-8\" standalone=\"no\"?>\n<!DOCTYPE svg PUBLIC \"-//W3C//DTD SVG 1.1//EN\"\n  \"http://www.w3.org/Graphics/SVG/1.1/DTD/svg11.dtd\">\n<svg height=\"259.116562pt\" version=\"1.1\" viewBox=\"0 0 372.791193 259.116562\" width=\"372.791193pt\" xmlns=\"http://www.w3.org/2000/svg\" xmlns:xlink=\"http://www.w3.org/1999/xlink\">\n <metadata>\n  <rdf:RDF xmlns:cc=\"http://creativecommons.org/ns#\" xmlns:dc=\"http://purl.org/dc/elements/1.1/\" xmlns:rdf=\"http://www.w3.org/1999/02/22-rdf-syntax-ns#\">\n   <cc:Work>\n    <dc:type rdf:resource=\"http://purl.org/dc/dcmitype/StillImage\"/>\n    <dc:date>2021-06-16T16:40:54.248308</dc:date>\n    <dc:format>image/svg+xml</dc:format>\n    <dc:creator>\n     <cc:Agent>\n      <dc:title>Matplotlib v3.4.2, https://matplotlib.org/</dc:title>\n     </cc:Agent>\n    </dc:creator>\n   </cc:Work>\n  </rdf:RDF>\n </metadata>\n <defs>\n  <style type=\"text/css\">*{stroke-linecap:butt;stroke-linejoin:round;}</style>\n </defs>\n <g id=\"figure_1\">\n  <g id=\"patch_1\">\n   <path d=\"M 0 259.116562 \nL 372.791193 259.116562 \nL 372.791193 0 \nL 0 0 \nz\n\" style=\"fill:none;\"/>\n  </g>\n  <g id=\"axes_1\">\n   <g id=\"patch_2\">\n    <path d=\"M 30.103125 235.238437 \nL 364.903125 235.238437 \nL 364.903125 17.798437 \nL 30.103125 17.798437 \nz\n\" style=\"fill:#ffffff;\"/>\n   </g>\n   <g id=\"patch_3\">\n    <path clip-path=\"url(#p59cdf12ff4)\" d=\"M 45.321307 235.238437 \nL 45.366961 235.238437 \nL 45.366961 228.01686 \nL 45.321307 228.01686 \nz\n\" style=\"fill:#1f77b4;\"/>\n   </g>\n   <g id=\"patch_4\">\n    <path clip-path=\"url(#p59cdf12ff4)\" d=\"M 45.366961 235.238437 \nL 45.62567 235.238437 \nL 45.62567 28.152723 \nL 45.366961 28.152723 \nz\n\" style=\"fill:#1f77b4;\"/>\n   </g>\n   <g id=\"patch_5\">\n    <path clip-path=\"url(#p59cdf12ff4)\" d=\"M 45.62567 235.238437 \nL 48.364943 235.238437 \nL 48.364943 80.822005 \nL 45.62567 80.822005 \nz\n\" style=\"fill:#1f77b4;\"/>\n   </g>\n   <g id=\"patch_6\">\n    <path clip-path=\"url(#p59cdf12ff4)\" d=\"M 48.364943 235.238437 \nL 75.75767 235.238437 \nL 75.75767 211.646243 \nL 48.364943 211.646243 \nz\n\" style=\"fill:#1f77b4;\"/>\n   </g>\n   <g id=\"patch_7\">\n    <path clip-path=\"url(#p59cdf12ff4)\" d=\"M 75.75767 235.238437 \nL 349.684943 235.238437 \nL 349.684943 231.18995 \nL 75.75767 231.18995 \nz\n\" style=\"fill:#1f77b4;\"/>\n   </g>\n   <g id=\"matplotlib.axis_1\">\n    <g id=\"xtick_1\">\n     <g id=\"line2d_1\">\n      <defs>\n       <path d=\"M 0 0 \nL 0 3.5 \n\" id=\"m7061dfde6e\" style=\"stroke:#000000;stroke-width:0.8;\"/>\n      </defs>\n      <g>\n       <use style=\"stroke:#000000;stroke-width:0.8;\" x=\"45.321307\" xlink:href=\"#m7061dfde6e\" y=\"235.238437\"/>\n      </g>\n     </g>\n     <g id=\"text_1\">\n      <!-- 0 -->\n      <g transform=\"translate(42.140057 249.836875)scale(0.1 -0.1)\">\n       <defs>\n        <path d=\"M 2034 4250 \nQ 1547 4250 1301 3770 \nQ 1056 3291 1056 2328 \nQ 1056 1369 1301 889 \nQ 1547 409 2034 409 \nQ 2525 409 2770 889 \nQ 3016 1369 3016 2328 \nQ 3016 3291 2770 3770 \nQ 2525 4250 2034 4250 \nz\nM 2034 4750 \nQ 2819 4750 3233 4129 \nQ 3647 3509 3647 2328 \nQ 3647 1150 3233 529 \nQ 2819 -91 2034 -91 \nQ 1250 -91 836 529 \nQ 422 1150 422 2328 \nQ 422 3509 836 4129 \nQ 1250 4750 2034 4750 \nz\n\" id=\"DejaVuSans-30\" transform=\"scale(0.015625)\"/>\n       </defs>\n       <use xlink:href=\"#DejaVuSans-30\"/>\n      </g>\n     </g>\n    </g>\n    <g id=\"xtick_2\">\n     <g id=\"line2d_2\">\n      <g>\n       <use style=\"stroke:#000000;stroke-width:0.8;\" x=\"106.194034\" xlink:href=\"#m7061dfde6e\" y=\"235.238437\"/>\n      </g>\n     </g>\n     <g id=\"text_2\">\n      <!-- 2000 -->\n      <g transform=\"translate(93.469034 249.836875)scale(0.1 -0.1)\">\n       <defs>\n        <path d=\"M 1228 531 \nL 3431 531 \nL 3431 0 \nL 469 0 \nL 469 531 \nQ 828 903 1448 1529 \nQ 2069 2156 2228 2338 \nQ 2531 2678 2651 2914 \nQ 2772 3150 2772 3378 \nQ 2772 3750 2511 3984 \nQ 2250 4219 1831 4219 \nQ 1534 4219 1204 4116 \nQ 875 4013 500 3803 \nL 500 4441 \nQ 881 4594 1212 4672 \nQ 1544 4750 1819 4750 \nQ 2544 4750 2975 4387 \nQ 3406 4025 3406 3419 \nQ 3406 3131 3298 2873 \nQ 3191 2616 2906 2266 \nQ 2828 2175 2409 1742 \nQ 1991 1309 1228 531 \nz\n\" id=\"DejaVuSans-32\" transform=\"scale(0.015625)\"/>\n       </defs>\n       <use xlink:href=\"#DejaVuSans-32\"/>\n       <use x=\"63.623047\" xlink:href=\"#DejaVuSans-30\"/>\n       <use x=\"127.246094\" xlink:href=\"#DejaVuSans-30\"/>\n       <use x=\"190.869141\" xlink:href=\"#DejaVuSans-30\"/>\n      </g>\n     </g>\n    </g>\n    <g id=\"xtick_3\">\n     <g id=\"line2d_3\">\n      <g>\n       <use style=\"stroke:#000000;stroke-width:0.8;\" x=\"167.066761\" xlink:href=\"#m7061dfde6e\" y=\"235.238437\"/>\n      </g>\n     </g>\n     <g id=\"text_3\">\n      <!-- 4000 -->\n      <g transform=\"translate(154.341761 249.836875)scale(0.1 -0.1)\">\n       <defs>\n        <path d=\"M 2419 4116 \nL 825 1625 \nL 2419 1625 \nL 2419 4116 \nz\nM 2253 4666 \nL 3047 4666 \nL 3047 1625 \nL 3713 1625 \nL 3713 1100 \nL 3047 1100 \nL 3047 0 \nL 2419 0 \nL 2419 1100 \nL 313 1100 \nL 313 1709 \nL 2253 4666 \nz\n\" id=\"DejaVuSans-34\" transform=\"scale(0.015625)\"/>\n       </defs>\n       <use xlink:href=\"#DejaVuSans-34\"/>\n       <use x=\"63.623047\" xlink:href=\"#DejaVuSans-30\"/>\n       <use x=\"127.246094\" xlink:href=\"#DejaVuSans-30\"/>\n       <use x=\"190.869141\" xlink:href=\"#DejaVuSans-30\"/>\n      </g>\n     </g>\n    </g>\n    <g id=\"xtick_4\">\n     <g id=\"line2d_4\">\n      <g>\n       <use style=\"stroke:#000000;stroke-width:0.8;\" x=\"227.939489\" xlink:href=\"#m7061dfde6e\" y=\"235.238437\"/>\n      </g>\n     </g>\n     <g id=\"text_4\">\n      <!-- 6000 -->\n      <g transform=\"translate(215.214489 249.836875)scale(0.1 -0.1)\">\n       <defs>\n        <path d=\"M 2113 2584 \nQ 1688 2584 1439 2293 \nQ 1191 2003 1191 1497 \nQ 1191 994 1439 701 \nQ 1688 409 2113 409 \nQ 2538 409 2786 701 \nQ 3034 994 3034 1497 \nQ 3034 2003 2786 2293 \nQ 2538 2584 2113 2584 \nz\nM 3366 4563 \nL 3366 3988 \nQ 3128 4100 2886 4159 \nQ 2644 4219 2406 4219 \nQ 1781 4219 1451 3797 \nQ 1122 3375 1075 2522 \nQ 1259 2794 1537 2939 \nQ 1816 3084 2150 3084 \nQ 2853 3084 3261 2657 \nQ 3669 2231 3669 1497 \nQ 3669 778 3244 343 \nQ 2819 -91 2113 -91 \nQ 1303 -91 875 529 \nQ 447 1150 447 2328 \nQ 447 3434 972 4092 \nQ 1497 4750 2381 4750 \nQ 2619 4750 2861 4703 \nQ 3103 4656 3366 4563 \nz\n\" id=\"DejaVuSans-36\" transform=\"scale(0.015625)\"/>\n       </defs>\n       <use xlink:href=\"#DejaVuSans-36\"/>\n       <use x=\"63.623047\" xlink:href=\"#DejaVuSans-30\"/>\n       <use x=\"127.246094\" xlink:href=\"#DejaVuSans-30\"/>\n       <use x=\"190.869141\" xlink:href=\"#DejaVuSans-30\"/>\n      </g>\n     </g>\n    </g>\n    <g id=\"xtick_5\">\n     <g id=\"line2d_5\">\n      <g>\n       <use style=\"stroke:#000000;stroke-width:0.8;\" x=\"288.812216\" xlink:href=\"#m7061dfde6e\" y=\"235.238437\"/>\n      </g>\n     </g>\n     <g id=\"text_5\">\n      <!-- 8000 -->\n      <g transform=\"translate(276.087216 249.836875)scale(0.1 -0.1)\">\n       <defs>\n        <path d=\"M 2034 2216 \nQ 1584 2216 1326 1975 \nQ 1069 1734 1069 1313 \nQ 1069 891 1326 650 \nQ 1584 409 2034 409 \nQ 2484 409 2743 651 \nQ 3003 894 3003 1313 \nQ 3003 1734 2745 1975 \nQ 2488 2216 2034 2216 \nz\nM 1403 2484 \nQ 997 2584 770 2862 \nQ 544 3141 544 3541 \nQ 544 4100 942 4425 \nQ 1341 4750 2034 4750 \nQ 2731 4750 3128 4425 \nQ 3525 4100 3525 3541 \nQ 3525 3141 3298 2862 \nQ 3072 2584 2669 2484 \nQ 3125 2378 3379 2068 \nQ 3634 1759 3634 1313 \nQ 3634 634 3220 271 \nQ 2806 -91 2034 -91 \nQ 1263 -91 848 271 \nQ 434 634 434 1313 \nQ 434 1759 690 2068 \nQ 947 2378 1403 2484 \nz\nM 1172 3481 \nQ 1172 3119 1398 2916 \nQ 1625 2713 2034 2713 \nQ 2441 2713 2670 2916 \nQ 2900 3119 2900 3481 \nQ 2900 3844 2670 4047 \nQ 2441 4250 2034 4250 \nQ 1625 4250 1398 4047 \nQ 1172 3844 1172 3481 \nz\n\" id=\"DejaVuSans-38\" transform=\"scale(0.015625)\"/>\n       </defs>\n       <use xlink:href=\"#DejaVuSans-38\"/>\n       <use x=\"63.623047\" xlink:href=\"#DejaVuSans-30\"/>\n       <use x=\"127.246094\" xlink:href=\"#DejaVuSans-30\"/>\n       <use x=\"190.869141\" xlink:href=\"#DejaVuSans-30\"/>\n      </g>\n     </g>\n    </g>\n    <g id=\"xtick_6\">\n     <g id=\"line2d_6\">\n      <g>\n       <use style=\"stroke:#000000;stroke-width:0.8;\" x=\"349.684943\" xlink:href=\"#m7061dfde6e\" y=\"235.238437\"/>\n      </g>\n     </g>\n     <g id=\"text_6\">\n      <!-- 10000 -->\n      <g transform=\"translate(333.778693 249.836875)scale(0.1 -0.1)\">\n       <defs>\n        <path d=\"M 794 531 \nL 1825 531 \nL 1825 4091 \nL 703 3866 \nL 703 4441 \nL 1819 4666 \nL 2450 4666 \nL 2450 531 \nL 3481 531 \nL 3481 0 \nL 794 0 \nL 794 531 \nz\n\" id=\"DejaVuSans-31\" transform=\"scale(0.015625)\"/>\n       </defs>\n       <use xlink:href=\"#DejaVuSans-31\"/>\n       <use x=\"63.623047\" xlink:href=\"#DejaVuSans-30\"/>\n       <use x=\"127.246094\" xlink:href=\"#DejaVuSans-30\"/>\n       <use x=\"190.869141\" xlink:href=\"#DejaVuSans-30\"/>\n       <use x=\"254.492188\" xlink:href=\"#DejaVuSans-30\"/>\n      </g>\n     </g>\n    </g>\n   </g>\n   <g id=\"matplotlib.axis_2\">\n    <g id=\"ytick_1\">\n     <g id=\"line2d_7\">\n      <defs>\n       <path d=\"M 0 0 \nL -3.5 0 \n\" id=\"m4534ff05d5\" style=\"stroke:#000000;stroke-width:0.8;\"/>\n      </defs>\n      <g>\n       <use style=\"stroke:#000000;stroke-width:0.8;\" x=\"30.103125\" xlink:href=\"#m4534ff05d5\" y=\"235.238437\"/>\n      </g>\n     </g>\n     <g id=\"text_7\">\n      <!-- 0.0 -->\n      <g transform=\"translate(7.2 239.037656)scale(0.1 -0.1)\">\n       <defs>\n        <path d=\"M 684 794 \nL 1344 794 \nL 1344 0 \nL 684 0 \nL 684 794 \nz\n\" id=\"DejaVuSans-2e\" transform=\"scale(0.015625)\"/>\n       </defs>\n       <use xlink:href=\"#DejaVuSans-30\"/>\n       <use x=\"63.623047\" xlink:href=\"#DejaVuSans-2e\"/>\n       <use x=\"95.410156\" xlink:href=\"#DejaVuSans-30\"/>\n      </g>\n     </g>\n    </g>\n    <g id=\"ytick_2\">\n     <g id=\"line2d_8\">\n      <g>\n       <use style=\"stroke:#000000;stroke-width:0.8;\" x=\"30.103125\" xlink:href=\"#m4534ff05d5\" y=\"195.492836\"/>\n      </g>\n     </g>\n     <g id=\"text_8\">\n      <!-- 0.2 -->\n      <g transform=\"translate(7.2 199.292054)scale(0.1 -0.1)\">\n       <use xlink:href=\"#DejaVuSans-30\"/>\n       <use x=\"63.623047\" xlink:href=\"#DejaVuSans-2e\"/>\n       <use x=\"95.410156\" xlink:href=\"#DejaVuSans-32\"/>\n      </g>\n     </g>\n    </g>\n    <g id=\"ytick_3\">\n     <g id=\"line2d_9\">\n      <g>\n       <use style=\"stroke:#000000;stroke-width:0.8;\" x=\"30.103125\" xlink:href=\"#m4534ff05d5\" y=\"155.747234\"/>\n      </g>\n     </g>\n     <g id=\"text_9\">\n      <!-- 0.4 -->\n      <g transform=\"translate(7.2 159.546453)scale(0.1 -0.1)\">\n       <use xlink:href=\"#DejaVuSans-30\"/>\n       <use x=\"63.623047\" xlink:href=\"#DejaVuSans-2e\"/>\n       <use x=\"95.410156\" xlink:href=\"#DejaVuSans-34\"/>\n      </g>\n     </g>\n    </g>\n    <g id=\"ytick_4\">\n     <g id=\"line2d_10\">\n      <g>\n       <use style=\"stroke:#000000;stroke-width:0.8;\" x=\"30.103125\" xlink:href=\"#m4534ff05d5\" y=\"116.001632\"/>\n      </g>\n     </g>\n     <g id=\"text_10\">\n      <!-- 0.6 -->\n      <g transform=\"translate(7.2 119.800851)scale(0.1 -0.1)\">\n       <use xlink:href=\"#DejaVuSans-30\"/>\n       <use x=\"63.623047\" xlink:href=\"#DejaVuSans-2e\"/>\n       <use x=\"95.410156\" xlink:href=\"#DejaVuSans-36\"/>\n      </g>\n     </g>\n    </g>\n    <g id=\"ytick_5\">\n     <g id=\"line2d_11\">\n      <g>\n       <use style=\"stroke:#000000;stroke-width:0.8;\" x=\"30.103125\" xlink:href=\"#m4534ff05d5\" y=\"76.25603\"/>\n      </g>\n     </g>\n     <g id=\"text_11\">\n      <!-- 0.8 -->\n      <g transform=\"translate(7.2 80.055249)scale(0.1 -0.1)\">\n       <use xlink:href=\"#DejaVuSans-30\"/>\n       <use x=\"63.623047\" xlink:href=\"#DejaVuSans-2e\"/>\n       <use x=\"95.410156\" xlink:href=\"#DejaVuSans-38\"/>\n      </g>\n     </g>\n    </g>\n    <g id=\"ytick_6\">\n     <g id=\"line2d_12\">\n      <g>\n       <use style=\"stroke:#000000;stroke-width:0.8;\" x=\"30.103125\" xlink:href=\"#m4534ff05d5\" y=\"36.510428\"/>\n      </g>\n     </g>\n     <g id=\"text_12\">\n      <!-- 1.0 -->\n      <g transform=\"translate(7.2 40.309647)scale(0.1 -0.1)\">\n       <use xlink:href=\"#DejaVuSans-31\"/>\n       <use x=\"63.623047\" xlink:href=\"#DejaVuSans-2e\"/>\n       <use x=\"95.410156\" xlink:href=\"#DejaVuSans-30\"/>\n      </g>\n     </g>\n    </g>\n    <g id=\"text_13\">\n     <!-- 1e6 -->\n     <g transform=\"translate(30.103125 14.798437)scale(0.1 -0.1)\">\n      <defs>\n       <path d=\"M 3597 1894 \nL 3597 1613 \nL 953 1613 \nQ 991 1019 1311 708 \nQ 1631 397 2203 397 \nQ 2534 397 2845 478 \nQ 3156 559 3463 722 \nL 3463 178 \nQ 3153 47 2828 -22 \nQ 2503 -91 2169 -91 \nQ 1331 -91 842 396 \nQ 353 884 353 1716 \nQ 353 2575 817 3079 \nQ 1281 3584 2069 3584 \nQ 2775 3584 3186 3129 \nQ 3597 2675 3597 1894 \nz\nM 3022 2063 \nQ 3016 2534 2758 2815 \nQ 2500 3097 2075 3097 \nQ 1594 3097 1305 2825 \nQ 1016 2553 972 2059 \nL 3022 2063 \nz\n\" id=\"DejaVuSans-65\" transform=\"scale(0.015625)\"/>\n      </defs>\n      <use xlink:href=\"#DejaVuSans-31\"/>\n      <use x=\"63.623047\" xlink:href=\"#DejaVuSans-65\"/>\n      <use x=\"125.146484\" xlink:href=\"#DejaVuSans-36\"/>\n     </g>\n    </g>\n   </g>\n   <g id=\"patch_8\">\n    <path d=\"M 30.103125 235.238437 \nL 30.103125 17.798437 \n\" style=\"fill:none;stroke:#000000;stroke-linecap:square;stroke-linejoin:miter;stroke-width:0.8;\"/>\n   </g>\n   <g id=\"patch_9\">\n    <path d=\"M 364.903125 235.238437 \nL 364.903125 17.798437 \n\" style=\"fill:none;stroke:#000000;stroke-linecap:square;stroke-linejoin:miter;stroke-width:0.8;\"/>\n   </g>\n   <g id=\"patch_10\">\n    <path d=\"M 30.103125 235.238437 \nL 364.903125 235.238437 \n\" style=\"fill:none;stroke:#000000;stroke-linecap:square;stroke-linejoin:miter;stroke-width:0.8;\"/>\n   </g>\n   <g id=\"patch_11\">\n    <path d=\"M 30.103125 17.798437 \nL 364.903125 17.798437 \n\" style=\"fill:none;stroke:#000000;stroke-linecap:square;stroke-linejoin:miter;stroke-width:0.8;\"/>\n   </g>\n  </g>\n </g>\n <defs>\n  <clipPath id=\"p59cdf12ff4\">\n   <rect height=\"217.44\" width=\"334.8\" x=\"30.103125\" y=\"17.798437\"/>\n  </clipPath>\n </defs>\n</svg>\n",
      "image/png": "[encoded data removed]"
     },
     "metadata": {
      "needs_background": "light"
     }
    }
   ],
   "source": [
    "# plot = seaborn.histplot(occs)\n",
    "# plt.hist(occs, bins=[10**i for i in range(8)])\n",
    "plt.hist(occs, bins=[0, 1.5, 10, 100, 1000, 10000])"
   ]
  },
  {
   "cell_type": "code",
   "execution_count": 20,
   "metadata": {},
   "outputs": [
    {
     "output_type": "execute_result",
     "data": {
      "text/plain": [
       "0"
      ]
     },
     "metadata": {},
     "execution_count": 20
    }
   ],
   "source": [
    "len([ occ for occ in occs if occ == 1 ])"
   ]
  },
  {
   "cell_type": "code",
   "execution_count": 22,
   "metadata": {},
   "outputs": [
    {
     "output_type": "execute_result",
     "data": {
      "text/plain": [
       "100000"
      ]
     },
     "metadata": {},
     "execution_count": 22
    }
   ],
   "source": [
    "len([ occ for occ in occs if occ > 10 ])"
   ]
  },
  {
   "cell_type": "code",
   "execution_count": 24,
   "metadata": {},
   "outputs": [
    {
     "output_type": "execute_result",
     "data": {
      "text/plain": [
       "0"
      ]
     },
     "metadata": {},
     "execution_count": 24
    }
   ],
   "source": [
    "len([ occ for occ in occs if occ <= 10 ])\n"
   ]
  },
  {
   "cell_type": "code",
   "execution_count": 26,
   "metadata": {},
   "outputs": [
    {
     "output_type": "execute_result",
     "data": {
      "text/plain": [
       "[0.0,\n",
       " 0.0,\n",
       " 0.0,\n",
       " 0.0,\n",
       " 0.0,\n",
       " 0.0,\n",
       " 0.0,\n",
       " 0.0,\n",
       " 0.0,\n",
       " 0.0,\n",
       " 0.0,\n",
       " 0.0,\n",
       " 0.0,\n",
       " 0.0,\n",
       " 0.0,\n",
       " 0.0,\n",
       " 0.0,\n",
       " 0.0,\n",
       " 0.0,\n",
       " 0.0,\n",
       " 0.0,\n",
       " 0.0,\n",
       " 0.0,\n",
       " 0.0,\n",
       " 0.0,\n",
       " 0.0,\n",
       " 0.0,\n",
       " 0.0,\n",
       " 0.0,\n",
       " 0.0,\n",
       " 0.0,\n",
       " 0.0,\n",
       " 0.0,\n",
       " 0.0,\n",
       " 0.0,\n",
       " 0.0,\n",
       " 0.0,\n",
       " 0.0,\n",
       " 0.0,\n",
       " 0.0,\n",
       " 0.0,\n",
       " 0.0,\n",
       " 0.0,\n",
       " 0.0,\n",
       " 0.0,\n",
       " 0.0,\n",
       " 0.0,\n",
       " 0.0,\n",
       " 0.0,\n",
       " 0.0,\n",
       " 0.0,\n",
       " 0.0,\n",
       " 0.0,\n",
       " 0.0,\n",
       " 0.0,\n",
       " 0.0,\n",
       " 0.0,\n",
       " 0.0,\n",
       " 0.0,\n",
       " 0.0,\n",
       " 0.0,\n",
       " 0.0,\n",
       " 0.0,\n",
       " 0.0,\n",
       " 0.0,\n",
       " 0.0,\n",
       " 0.0,\n",
       " 0.0,\n",
       " 0.0,\n",
       " 0.0,\n",
       " 0.0,\n",
       " 0.0,\n",
       " 0.0,\n",
       " 0.0,\n",
       " 0.0,\n",
       " 0.0,\n",
       " 0.0,\n",
       " 0.0,\n",
       " 0.0,\n",
       " 0.0,\n",
       " 0.0,\n",
       " 0.0,\n",
       " 0.0,\n",
       " 0.0,\n",
       " 0.0,\n",
       " 0.0,\n",
       " 0.0,\n",
       " 0.0,\n",
       " 0.0,\n",
       " 0.0,\n",
       " 0.0,\n",
       " 0.0,\n",
       " 0.0,\n",
       " 0.0,\n",
       " 0.0,\n",
       " 0.0,\n",
       " 0.0,\n",
       " 0.0,\n",
       " 0.0,\n",
       " 0.0]"
      ]
     },
     "metadata": {},
     "execution_count": 26
    }
   ],
   "source": [
    "[ len([ occ for occ in occs if occ < i ])/len([ occ for occ in occs if occ >= i ]) for i in range(100) ]"
   ]
  },
  {
   "cell_type": "code",
   "execution_count": 43,
   "metadata": {},
   "outputs": [],
   "source": [
    "import json\n",
    "with open('mindflood.json') as f:\n",
    "    l = json.load(f)"
   ]
  },
  {
   "cell_type": "code",
   "execution_count": 45,
   "metadata": {},
   "outputs": [
    {
     "output_type": "execute_result",
     "data": {
      "text/plain": [
       "['𝘙𝘌𝘗𝘖𝘙𝘛',\n",
       " '𝘙𝘦𝘴𝘰𝘤𝘪𝘢𝘭𝘪𝘻𝘢𝘵𝘪𝘰𝘯',\n",
       " '𝘙𝘰𝘥𝘩𝘢𝘮',\n",
       " '𝘚𝘰𝘤𝘪𝘢𝘭',\n",
       " '𝘚𝘱𝘰𝘳𝘵𝘴',\n",
       " '𝘚𝘺𝘴𝘵𝘦𝘮𝘢𝘵𝘪𝘤',\n",
       " '𝘛𝘢𝘬𝘦',\n",
       " '𝘛𝘩𝘦𝘺',\n",
       " '𝘛𝘩𝘪𝘴',\n",
       " '𝘛𝘳𝘢𝘷𝘦𝘭',\n",
       " '𝘛𝘳𝘦𝘢𝘵𝘮𝘦𝘯𝘵',\n",
       " '𝘞𝘢𝘪𝘵𝘪𝘯𝘨',\n",
       " '𝘞𝘢𝘭𝘭𝘦𝘵',\n",
       " '𝘞𝘦𝘥𝘯𝘦𝘴𝘥𝘢𝘺',\n",
       " '𝘞𝘩𝘢𝘵',\n",
       " '𝘢𝘣𝘰𝘶𝘵',\n",
       " '𝘢𝘥𝘫𝘦𝘤𝘵𝘪𝘷𝘦',\n",
       " '𝘢𝘯𝘺𝘵𝘩𝘪𝘯𝘨',\n",
       " '𝘢𝘴𝘴𝘪𝘨𝘯𝘮𝘦𝘯𝘵𝘴',\n",
       " '𝘢𝘴𝘺𝘮𝘱𝘵𝘰𝘮𝘢𝘵𝘪𝘤',\n",
       " '𝘣𝘢𝘯𝘥',\n",
       " '𝘣𝘦𝘦𝘯',\n",
       " '𝘣𝘭𝘦𝘴𝘴',\n",
       " '𝘣𝘳𝘪𝘮',\n",
       " '𝘤𝘰𝘪𝘯𝘤𝘪𝘥𝘦𝘯𝘵𝘢𝘭𝘭𝘺',\n",
       " '𝘤𝘰𝘯𝘵𝘪𝘯𝘶𝘦',\n",
       " '𝘤𝘰𝘳𝘰𝘯𝘢𝘷𝘪𝘳𝘶𝘴',\n",
       " '𝘤𝘳𝘢𝘻𝘺',\n",
       " '𝘥𝘦𝘢𝘵𝘩',\n",
       " '𝘥𝘦𝘣𝘢𝘵𝘦',\n",
       " '𝘥𝘦𝘧𝘪𝘯𝘪𝘵𝘪𝘰𝘯',\n",
       " '𝘥𝘦𝘯𝘢',\n",
       " '𝘥𝘰𝘦𝘴',\n",
       " '𝘥𝘳𝘢𝘸𝘦𝘳',\n",
       " '𝘦𝘷𝘦𝘳𝘺',\n",
       " '𝘧𝘢𝘮𝘪𝘭𝘺',\n",
       " '𝘧𝘪𝘭𝘭𝘦𝘥',\n",
       " '𝘧𝘳𝘦𝘦',\n",
       " '𝘧𝘳𝘰𝘨',\n",
       " '𝘩𝘶𝘨𝘦',\n",
       " '𝘪𝘯𝘵𝘰',\n",
       " '𝘫𝘢𝘢𝘯𝘥𝘦𝘺𝘰',\n",
       " '𝘫𝘰𝘪𝘯',\n",
       " '𝘬𝘯𝘰𝘸',\n",
       " '𝘭𝘢𝘴𝘵',\n",
       " '𝘮𝘢𝘴𝘴',\n",
       " '𝘮𝘰𝘮𝘦𝘯𝘵',\n",
       " '𝘮𝘰𝘳𝘢𝘭',\n",
       " '𝘱𝘢𝘯𝘪𝘤',\n",
       " '𝘱𝘳𝘰𝘢𝘤𝘵𝘪𝘷𝘦',\n",
       " '𝘳𝘢𝘢𝘻',\n",
       " '𝘳𝘢𝘯𝘬𝘦𝘥',\n",
       " '𝘳𝘦𝘢𝘤𝘩𝘪𝘯𝘨',\n",
       " '𝘳𝘦𝘢𝘤𝘵𝘪𝘷𝘦',\n",
       " '𝘳𝘦𝘢𝘥𝘺',\n",
       " '𝘴𝘢𝘢𝘳𝘦',\n",
       " '𝘴𝘢𝘢𝘵𝘩',\n",
       " '𝘴𝘢𝘧𝘦',\n",
       " '𝘴𝘤𝘰𝘳𝘦𝘥',\n",
       " '𝘴𝘵𝘢𝘳𝘵',\n",
       " '𝘴𝘵𝘳𝘢𝘪𝘨𝘩𝘵',\n",
       " '𝘴𝘶𝘣𝘮𝘪𝘴𝘴𝘪𝘰𝘯',\n",
       " '𝘵𝘦𝘳𝘳𝘪𝘧𝘺𝘪𝘯𝘨',\n",
       " '𝘵𝘩𝘦𝘴𝘦',\n",
       " '𝘵𝘩𝘳𝘶',\n",
       " '𝘵𝘳𝘢𝘯𝘴𝘮𝘪𝘴𝘴𝘪𝘰𝘯',\n",
       " '𝘸𝘢𝘭𝘬',\n",
       " '𝘺𝘦𝘢𝘳𝘴',\n",
       " '𝘼𝘾𝘾𝙐𝙍𝘼𝙏𝙀',\n",
       " '𝘼𝙄𝙍𝙄𝙉',\n",
       " '𝘼𝙝𝙢𝙖𝙙',\n",
       " '𝘼𝙢𝙚𝙧𝙞𝙘𝙖',\n",
       " '𝘼𝙢𝙚𝙧𝙞𝙘𝙖𝙣',\n",
       " '𝘼𝙧𝙣𝙖𝙗',\n",
       " '𝘼𝙪𝙨𝙩𝙧𝙖𝙡𝙞𝙖𝙣𝙨',\n",
       " '𝘽𝘼𝘿𝙇𝙊',\n",
       " '𝘽𝙀𝙏𝙏𝙀𝙍',\n",
       " '𝘽𝙍𝙀𝘼𝙆𝙄𝙉𝙂',\n",
       " '𝘽𝙚𝙡𝙤𝙬',\n",
       " '𝘾𝙀𝙉𝙏𝙀𝙍',\n",
       " '𝘾𝙊𝙉𝘾𝙀𝙍𝙏',\n",
       " '𝘾𝙊𝙑𝙄𝘿',\n",
       " '𝘾𝙖𝙧𝙣𝙖𝙜𝙚',\n",
       " '𝘾𝙡𝙞𝙘𝙠',\n",
       " '𝘾𝙤𝙧𝙤𝙣𝙖𝙫𝙞𝙧𝙪𝙨',\n",
       " '𝘿𝘼𝙄𝙇𝙔',\n",
       " '𝘿𝙊𝙉𝘼𝙏𝙀',\n",
       " '𝘿𝙚𝙗𝙖𝙩𝙚',\n",
       " '𝘿𝙤𝙣𝙖𝙡𝙙',\n",
       " '𝘿𝙧𝙪𝙜',\n",
       " '𝙀𝙇𝙄𝙈𝙄𝙉𝘼𝙏𝙄𝙊𝙉',\n",
       " '𝙀𝙓𝘾𝙇𝙐𝙎𝙄𝙑𝙀',\n",
       " '𝙁𝙊𝙇𝙇𝙊𝙒',\n",
       " '𝙁𝙊𝙍𝘾𝙀',\n",
       " '𝙁𝙍𝙀𝙀',\n",
       " '𝙁𝙐𝘾𝙆𝙄𝙉𝙂',\n",
       " '𝙁𝙖𝙡𝙡',\n",
       " '𝙁𝙖𝙢𝙞𝙡𝙮',\n",
       " '𝙁𝙖𝙩𝙚',\n",
       " '𝙁𝙚𝙚𝙡',\n",
       " '𝙁𝙞𝙜𝙝𝙩𝙞𝙣𝙜',\n",
       " '𝙂𝙤𝙤𝙙',\n",
       " '𝙂𝙤𝙨𝙬𝙖𝙢𝙞',\n",
       " '𝙂𝙤𝙫𝙚𝙧𝙣𝙢𝙚𝙣𝙩',\n",
       " '𝙂𝙤𝙫𝙩',\n",
       " '𝙂𝙧𝙚𝙖𝙩',\n",
       " '𝙃𝘼𝙍𝘿𝙇𝙔',\n",
       " '𝙃𝘼𝙒𝘼',\n",
       " '𝙃𝙚𝙖𝙡𝙩𝙝',\n",
       " '𝙃𝙞𝙙𝙙𝙚𝙣',\n",
       " '𝙄𝙣𝙙𝙞𝙖',\n",
       " '𝙇𝙄𝙁𝙏',\n",
       " '𝙇𝙞𝙣𝙠',\n",
       " '𝙇𝙞𝙫𝙚',\n",
       " '𝙇𝙤𝙘𝙠𝙙𝙤𝙬𝙣',\n",
       " '𝙇𝙤𝙫𝙚',\n",
       " '𝙈𝙀𝙍𝘼𝙆𝙄',\n",
       " '𝙈𝙊𝙍𝙀',\n",
       " '𝙈𝙐𝙎𝙏',\n",
       " '𝙈𝙖𝙙𝙚',\n",
       " '𝙈𝙖𝙧𝙘𝙖',\n",
       " '𝙈𝙚𝙙𝙞𝙘𝙖𝙧𝙚',\n",
       " '𝙈𝙚𝙙𝙞𝙘𝙞𝙣𝙚𝙨',\n",
       " '𝙈𝙤𝙧𝙧𝙞𝙨𝙤𝙣',\n",
       " '𝙈𝙪𝙣𝙖𝙬𝙖𝙧',\n",
       " '𝙉𝘾𝘼𝘼',\n",
       " '𝙉𝙀𝙂𝘼𝙏𝙄𝙑𝙀',\n",
       " '𝙉𝙀𝙑𝙀𝙍',\n",
       " '𝙉𝙀𝙒𝙎',\n",
       " '𝙉𝙚𝙫𝙚𝙧',\n",
       " '𝙊𝙫𝙚𝙧',\n",
       " '𝙋𝙇𝙀𝘼𝙎𝙀',\n",
       " '𝙋𝙍𝙀𝙑𝙀𝙉𝙏',\n",
       " '𝙋𝙍𝙀𝙑𝙀𝙉𝙏𝙄𝙊𝙉',\n",
       " '𝙋𝙖𝙜𝙚',\n",
       " '𝙋𝙖𝙬𝙖𝙧',\n",
       " '𝙋𝙝𝙤𝙩𝙤',\n",
       " '𝙋𝙡𝙖𝙣',\n",
       " '𝙋𝙪𝙣𝙨𝙩𝙚𝙧',\n",
       " '𝙌𝙪𝙚𝙪𝙚',\n",
       " '𝙌𝙪𝙞𝙘𝙠',\n",
       " '𝙍𝙀𝙇𝙄𝙀𝙁',\n",
       " '𝙍𝙀𝙎𝙊𝙐𝙍𝘾𝙀',\n",
       " '𝙍𝙖𝙫𝙚𝙣𝙘𝙡𝙖𝙬',\n",
       " '𝙍𝙚𝙖𝙡𝙡𝙮',\n",
       " '𝙍𝙪𝙡𝙚𝙨',\n",
       " '𝙎𝙃𝘼𝙃𝘼𝙍𝘽𝙀𝙀𝙉',\n",
       " '𝙎𝙄𝙂𝙉𝘼𝙇𝙎',\n",
       " '𝙎𝙋𝘼𝘾𝙀',\n",
       " '𝙎𝙏𝙍𝘼𝙏𝙀𝙂𝙔',\n",
       " '𝙎𝙐𝙋𝙋𝙊𝙎𝙀',\n",
       " '𝙎𝙖𝙛𝙚',\n",
       " '𝙎𝙖𝙛𝙚𝙩𝙮',\n",
       " '𝙎𝙝𝙖𝙧𝙖𝙙',\n",
       " '𝙎𝙢𝙖𝙡𝙡',\n",
       " '𝙎𝙩𝙤𝙥',\n",
       " '𝙏𝘼𝙆𝙀𝙎',\n",
       " '𝙏𝙃𝙀𝙈',\n",
       " '𝙏𝙄𝙈𝙀𝙎',\n",
       " '𝙏𝙊𝘿𝘼𝙔',\n",
       " '𝙏𝙊𝙏𝘼𝙇',\n",
       " '𝙏𝙝𝙖𝙘𝙠𝙚𝙧𝙖𝙮',\n",
       " '𝙏𝙝𝙖𝙣𝙠',\n",
       " '𝙏𝙝𝙚𝙮',\n",
       " '𝙏𝙧𝙞𝙜𝙜𝙚𝙧𝙨',\n",
       " '𝙏𝙧𝙪𝙩𝙝',\n",
       " '𝙏𝙬𝙞𝙩𝙩𝙚𝙧',\n",
       " '𝙐𝙋𝘿𝘼𝙏𝙀',\n",
       " '𝙐𝙙𝙙𝙝𝙖𝙫',\n",
       " '𝙑𝙞𝙙𝙚𝙤',\n",
       " '𝙒𝙀𝙀𝙆',\n",
       " '𝙒𝙝𝙚𝙣',\n",
       " '𝙔𝙤𝙪𝙩𝙪𝙗𝙚',\n",
       " '𝙖𝙘𝙘𝙚𝙥𝙩',\n",
       " '𝙖𝙘𝙩𝙞𝙤𝙣',\n",
       " '𝙖𝙡𝙬𝙖𝙮𝙨',\n",
       " '𝙖𝙣𝙮𝙩𝙝𝙞𝙣𝙜',\n",
       " '𝙖𝙨𝙠𝙚𝙙',\n",
       " '𝙗𝙚𝙨𝙩',\n",
       " '𝙗𝙡𝙚𝙖𝙘𝙝',\n",
       " '𝙗𝙪𝙨𝙞𝙣𝙚𝙨𝙨',\n",
       " '𝙘𝙖𝙡𝙡𝙚𝙙',\n",
       " '𝙘𝙖𝙨𝙚',\n",
       " '𝙘𝙤𝙖𝙘𝙝𝙚𝙨',\n",
       " '𝙘𝙤𝙢𝙚',\n",
       " '𝙘𝙤𝙣𝙩𝙚𝙣𝙩',\n",
       " '𝙘𝙤𝙣𝙩𝙧𝙤𝙡',\n",
       " '𝙘𝙤𝙧𝙤𝙣𝙖',\n",
       " '𝙘𝙤𝙧𝙧𝙚𝙘𝙩',\n",
       " '𝙘𝙤𝙫𝙞𝙙',\n",
       " '𝙘𝙪𝙧𝙚',\n",
       " '𝙙𝙚𝙖𝙩𝙝𝙨',\n",
       " '𝙙𝙚𝙘𝙡𝙖𝙧𝙚𝙙',\n",
       " '𝙙𝙚𝙢𝙖𝙣𝙙𝙨',\n",
       " '𝙙𝙞𝙙𝙣',\n",
       " '𝙙𝙞𝙛𝙛𝙚𝙧𝙚𝙣𝙩',\n",
       " '𝙙𝙞𝙨𝙚𝙖𝙨𝙚𝙨',\n",
       " '𝙙𝙤𝙘𝙩𝙤𝙧𝙨',\n",
       " '𝙙𝙤𝙬𝙣',\n",
       " '𝙚𝙖𝙨𝙞𝙚𝙧',\n",
       " '𝙚𝙖𝙨𝙮',\n",
       " '𝙚𝙘𝙤𝙣𝙤𝙢𝙮',\n",
       " '𝙛𝙚𝙖𝙧𝙨',\n",
       " '𝙛𝙧𝙚𝙚',\n",
       " '𝙜𝙮𝙪𝙧𝙞',\n",
       " '𝙝𝙖𝙥𝙥𝙚𝙣',\n",
       " '𝙝𝙚𝙖𝙙',\n",
       " '𝙝𝙚𝙡𝙡',\n",
       " '𝙝𝙚𝙧𝙚',\n",
       " '𝙝𝙤𝙢𝙚',\n",
       " '𝙞𝙢𝙢𝙚𝙙𝙞𝙖𝙩𝙚',\n",
       " '𝙞𝙣𝙛𝙤𝙧𝙢𝙖𝙩𝙞𝙤𝙣',\n",
       " '𝙞𝙣𝙨𝙖𝙣𝙚',\n",
       " '𝙡𝙞𝙫𝙚𝙨',\n",
       " '𝙡𝙤𝙘𝙠𝙙𝙤𝙬𝙣',\n",
       " '𝙡𝙤𝙤𝙠𝙞𝙣𝙜',\n",
       " '𝙡𝙤𝙨𝙩',\n",
       " '𝙢𝙖𝙨𝙖𝙡𝙖',\n",
       " '𝙢𝙖𝙨𝙠',\n",
       " '𝙢𝙞𝙧𝙘𝙝𝙞',\n",
       " '𝙢𝙤𝙨𝙩',\n",
       " '𝙢𝙪𝙘𝙝',\n",
       " '𝙢𝙪𝙨𝙩',\n",
       " '𝙣𝙚𝙖𝙧𝙗𝙮',\n",
       " '𝙣𝙚𝙭𝙩',\n",
       " '𝙣𝙤𝙨𝙩𝙖𝙡𝙜𝙞𝙘',\n",
       " '𝙤𝙣𝙡𝙮',\n",
       " '𝙤𝙫𝙚𝙧',\n",
       " '𝙥𝙖𝙩𝙞𝙚𝙣𝙩𝙨',\n",
       " '𝙥𝙚𝙧𝙨𝙤𝙣',\n",
       " '𝙥𝙞𝙘𝙠𝙨',\n",
       " '𝙥𝙡𝙖𝙞𝙣',\n",
       " '𝙥𝙤𝙨𝙞𝙩𝙞𝙫𝙚',\n",
       " '𝙥𝙧𝙚𝙫𝙖𝙞𝙡',\n",
       " '𝙥𝙧𝙤𝙫𝙚𝙣',\n",
       " '𝙥𝙪𝙧𝙘𝙝𝙖𝙨𝙚',\n",
       " '𝙦𝙪𝙖𝙡𝙞𝙩𝙮𝙨𝙡𝙚𝙚𝙥',\n",
       " '𝙧𝙚𝙖𝙙𝙮',\n",
       " '𝙧𝙚𝙖𝙡𝙞𝙨𝙩𝙞𝙘',\n",
       " '𝙧𝙚𝙥𝙤𝙧𝙩𝙚𝙙',\n",
       " '𝙨𝙖𝙢𝙥𝙡𝙚𝙨',\n",
       " '𝙨𝙝𝙖𝙧𝙚',\n",
       " '𝙨𝙝𝙞𝙥𝙥𝙞𝙣𝙜',\n",
       " '𝙨𝙝𝙤𝙪𝙡𝙙',\n",
       " '𝙨𝙞𝙜𝙝𝙩',\n",
       " '𝙨𝙞𝙣𝙜𝙡𝙚',\n",
       " '𝙨𝙢𝙚𝙡𝙡𝙨',\n",
       " '𝙨𝙤𝙪𝙧𝙘𝙚',\n",
       " '𝙨𝙩𝙖𝙧𝙩',\n",
       " '𝙨𝙩𝙚𝙥𝙨',\n",
       " '𝙨𝙩𝙤𝙥',\n",
       " '𝙨𝙩𝙧𝙖𝙩𝙚𝙜𝙮',\n",
       " '𝙨𝙪𝙣𝙨𝙘𝙧𝙚𝙚𝙣',\n",
       " '𝙩𝙖𝙠𝙚𝙣',\n",
       " '𝙩𝙝𝙚𝙢',\n",
       " '𝙩𝙝𝙞𝙣𝙜𝙨',\n",
       " '𝙪𝙥𝙙𝙖𝙩𝙚',\n",
       " '𝙫𝙞𝙧𝙪𝙨',\n",
       " '𝙬𝙝𝙚𝙧𝙚',\n",
       " '𝙬𝙤𝙪𝙡𝙙',\n",
       " '𝙬𝙧𝙤𝙣𝙜',\n",
       " '𝙰𝚐𝚎𝚗𝚝𝙵𝚛𝚒𝚎𝚣',\n",
       " '𝙰𝚗𝚘𝚗𝚢𝚖𝚘𝚞𝚜',\n",
       " '𝙲𝙾𝚄𝙽𝚃𝚂',\n",
       " '𝙲𝚑𝚒𝚗𝚎𝚜𝚎',\n",
       " '𝙲𝚒𝚝𝚒𝚣𝚎𝚗𝚜',\n",
       " '𝙳𝚘𝚗𝚝',\n",
       " '𝙴𝚅𝙴𝚁𝚈',\n",
       " '𝙵𝚛𝚘𝚖',\n",
       " '𝙹𝚄𝚂𝚃',\n",
       " '𝙻𝚎𝚐𝚎𝚗𝚍',\n",
       " '𝙻𝚘𝚞𝚒𝚜',\n",
       " '𝙿𝚕𝚎𝚊𝚜𝚎',\n",
       " '𝙿𝚛𝚞𝚎𝚋𝚊',\n",
       " '𝚀𝚞𝚒𝚝',\n",
       " '𝚁á𝚙𝚒𝚍𝚊',\n",
       " '𝚁𝙴𝚃𝚆𝙴𝙴𝚃',\n",
       " '𝚁𝚎𝚝𝚠𝚎𝚎𝚝𝚎𝚍',\n",
       " '𝚂𝙷𝙰𝚁𝙸𝙽𝙶',\n",
       " '𝚃𝙷𝙸𝚂',\n",
       " '𝚃𝚑𝚊𝚗𝚔',\n",
       " '𝚃𝚛𝚞𝚖𝚙𝚎𝚛',\n",
       " '𝚅𝚞𝚒𝚝𝚝𝚘𝚗',\n",
       " '𝚆𝙾𝙽𝙳𝙴𝚁𝚂',\n",
       " '𝚊𝚝𝚝𝚊𝚌𝚔𝚜',\n",
       " '𝚊𝚠𝚊𝚢',\n",
       " '𝚋𝚊𝚌𝚔',\n",
       " '𝚋𝚎𝚌𝚊𝚞𝚜𝚎',\n",
       " '𝚌𝚔𝚒𝚗𝚐',\n",
       " '𝚌𝚘𝚖𝚎',\n",
       " '𝚍𝚎𝚝𝚎𝚌𝚝𝚒𝚘𝚗',\n",
       " '𝚍𝚢𝚜𝚝𝚘𝚙𝚒𝚊',\n",
       " '𝚐𝚒𝚏𝚝',\n",
       " '𝚕𝚒𝚔𝚎𝚍',\n",
       " '𝚘𝚗𝚕𝚢',\n",
       " '𝚙𝚎𝚘𝚙𝚕𝚎',\n",
       " '𝚜𝚊𝚖𝚎',\n",
       " '𝚜𝚑𝚒𝚝',\n",
       " '𝚜𝚝𝚘𝚙',\n",
       " '𝚝𝚑𝚎𝚜𝚎']"
      ]
     },
     "metadata": {},
     "execution_count": 45
    }
   ],
   "source": [
    "l[-300:]"
   ]
  },
  {
   "cell_type": "code",
   "execution_count": null,
   "metadata": {},
   "outputs": [],
   "source": []
  }
 ]
}