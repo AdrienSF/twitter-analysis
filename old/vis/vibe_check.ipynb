{
 "metadata": {
  "language_info": {
   "codemirror_mode": {
    "name": "ipython",
    "version": 3
   },
   "file_extension": ".py",
   "mimetype": "text/x-python",
   "name": "python",
   "nbconvert_exporter": "python",
   "pygments_lexer": "ipython3",
   "version": "3.8.5"
  },
  "orig_nbformat": 2,
  "kernelspec": {
   "name": "python385jvsc74a57bd0de8d688998391b4e340423aec176e4bbb9afb78f2320e3ca59b2d8556c4a2b46",
   "display_name": "Python 3.8.5  ('nlpenv': venv)"
  },
  "metadata": {
   "interpreter": {
    "hash": "de8d688998391b4e340423aec176e4bbb9afb78f2320e3ca59b2d8556c4a2b46"
   }
  }
 },
 "nbformat": 4,
 "nbformat_minor": 2,
 "cells": [
  {
   "cell_type": "code",
   "execution_count": 1,
   "metadata": {},
   "outputs": [
    {
     "output_type": "stream",
     "name": "stderr",
     "text": [
      "/home/adrien/twitter-analysis/nlpenv/lib/python3.8/site-packages/gensim/similarities/__init__.py:15: UserWarning: The gensim.similarities.levenshtein submodule is disabled, because the optional Levenshtein package <https://pypi.org/project/python-Levenshtein/> is unavailable. Install Levenhstein (e.g. `pip install python-Levenshtein`) to suppress this warning.\n  warnings.warn(msg)\n"
     ]
    }
   ],
   "source": [
    "import pandas as pd\n",
    "import numpy as np\n",
    "# import gensim\n",
    "from helpers import lemmatize_stemming, preprocess, compute_coherence_values\n",
    "\n",
    "\n",
    "filenames = !ls data/unzipped\n",
    "filenames = [ 'data/unzipped/'+filename for filename in filenames ]\n",
    "\n",
    "# import random\n",
    "# indeces = random.sample(range(len(filenames)), 50)\n",
    "indeces = [0]\n",
    "\n",
    "\n",
    "from helpers import load_tweets\n",
    "\n",
    "# documents = pd.DataFrame(load_tweets(np.array(filenames)[indeces]))"
   ]
  },
  {
   "cell_type": "code",
   "execution_count": 3,
   "metadata": {},
   "outputs": [],
   "source": [
    "import json\n",
    "import os\n",
    "\n",
    "filename = filenames[0]\n",
    "\n",
    "\n",
    "\n",
    "# print(filename)\n",
    "with open(filename, 'r') as f:\n",
    "    data = json.loads('['+f.read().replace('}{','},{')+']')\n",
    "# remove retweets\n",
    "tweets = [tweet for tweet in data if 'retweeted_status' not in tweet]\n",
    "# keep english language tweets only\n",
    "tweets = [tweet for tweet in tweets if tweet['lang'] == 'en']\n",
    "\n",
    "# print(tweets[1])\n",
    "\n",
    "# seperate out just tweet text for simplicity\n",
    "# for tweet in tweets:\n",
    "#     print('full_text' in tweet)\n",
    "# if full_text_only:\n",
    "#     ttexts = [ tweet['full_text'] for tweet in tweets if 'full_text' in tweet ]\n",
    "# else:\n",
    "#     ttexts = [ tweet['full_text'] if 'full_text' in tweet else tweet['text'] for tweet in tweets]\n",
    "\n",
    "# (probably unecessary) keep an id map: tweet text index --> tweet id\n",
    "# id_map = {i: tweets[i]['id'] for i in range(len(tweets))}\n",
    "# for i in range(len(ttexts)):\n",
    "#     print(('full_text' in tweets[i]), ttexts[i])\n",
    "\n",
    "# remove numbers\n",
    "# ttexts = [re.sub('[0-9]+', '', tweet) for tweet in ttexts]\n"
   ]
  },
  {
   "cell_type": "code",
   "execution_count": 26,
   "metadata": {},
   "outputs": [],
   "source": [
    "nofull = [ tweet for tweet in tweets if 'extended_tweet' in tweet and 'full_text' not in tweet['extended_tweet'] ]"
   ]
  },
  {
   "cell_type": "code",
   "execution_count": 27,
   "metadata": {},
   "outputs": [
    {
     "output_type": "execute_result",
     "data": {
      "text/plain": [
       "0"
      ]
     },
     "metadata": {},
     "execution_count": 27
    }
   ],
   "source": [
    "len(nofull)"
   ]
  },
  {
   "cell_type": "code",
   "execution_count": 11,
   "metadata": {},
   "outputs": [],
   "source": [
    "pd.set_option('display.max_colwidth', None)"
   ]
  },
  {
   "cell_type": "code",
   "execution_count": 18,
   "metadata": {},
   "outputs": [
    {
     "output_type": "execute_result",
     "data": {
      "text/plain": [
       "                                                                                                                                                                                                                                                                                                                        0\n",
       "1384                                                    @RepAdamSchiff Remember he will not reveal the source for his statement. Talk about #FakeNews. Just as his followers say the #coronavirus is a hoax. Trump claims the #CoronavirusPandemic is really the Chinese virus contrary to Intelligence and @Who sources.\n",
       "2606                       @NoKidsHive Coronavirus is Chinese virus. This is what it should be called.\\nChinese are racists! They are devils and should be treated as shits. They are dogs and enemies of the wild world. They should be discriminated against.\\n#ChineseAreRacists #ChineseAreRacists #ChineseAreRacists\n",
       "2799                                                                #DonaldTrump says #coronavirus originated from #China's #Wuhan lab, threatens tariffs\\n\\nWhole world knows!!!\\n\\n#WuhanCoronavius #ChineseVirus #ChineseConspiracy #BoycottChina \\n.@realDonaldTrump\\n.@PDChina\\n.@ftchina .@Event_China .@WhiteHouse\n",
       "3296                                                                                                                                                                                                                                     So, there is some good coming out of the Chinese virus.  https://t.co/fig0TAFJgX\n",
       "4917                    #WuhanVirus #ChineseVirus #ChineseBioTerrorism \\n\\n#DefundChina \\n\\nTime to SEVERELY CLAMP DOWN ON U.S. SHARING OF ALL INFO &amp; TECH w/China\\n\\nProminent university bio lab urged to reveal extent of relationship with Wuhan lab at center of coronavirus outbreak\\n\\nhttps://t.co/QSL14iDVsN\n",
       "6041      @timesofindia This is how china stock piled Mask &amp; PPE from all ovr the world at low cost before pandemic declared WHO played suspicious roles in these late declarations &amp; now shipping back at extreme high cost.\\n#ChineseVirus19 #COVID19Pandemic  #ChinaLiedAndPeopleDied\\nhttps://t.co/hTrWn2jhWG\n",
       "10962             @wealthy_yute God is not a respctor of a person, He can use anybody so long as we are ready to listen and obey. Matthew 7:24https://www.youtube.com/watch?v=BrLqZ_R0Ris&amp;t=4s\\n#coronavirus #coronavirusghana #CoronaVirusInNigeria #ChineseVirus #ChinaVirus #COVID19TZA #COVID19Lagos #VirusCorona\n",
       "11177                                              😠😡 #ComeToChinaTown Nancy puts corrupt dems in charge to oversee coronavirus ( Chinese virus ) $ that's like giving a thief a job at fort Knox.😡 McCarthy fumes after Pelosi names Maxine Waters, 6 other Dems to oversee coronavirus funds\\n\\nhttps://t.co/IgpPjnJi2n\n",
       "14392                                                   #TrumpVirus\\nA 57-page Memo\\nUrged 🇷🇺@GOP 🇷🇺 \\nCampaigns to Blame\\n#China 🇨🇳 \\nFor the coronavirus pandemic\\n#COVID19\\nand insist the term\\n'Chinese virus'\\nisn't racist\\nBut\\nRacist @realDonaldTrump Bigot Is\\nhttps://t.co/Tj11XJNo3Y https://t.co/oiuQZlg5is\n",
       "15229                             @marklevinshow: \"@BarackObama the most corrupt president in the modern history!\" @NYGovCuomo \"blew his budget on solar panel, infanticide now asking for bail out?\" Blood is in your hands of Chinese virus spread and killed seniors in nursing homes!  https://t.co/zB2PStwjKo @POTUS\n",
       "16986                                                                                                      Coronavirus Coverup: Why Did China LIE? https://t.co/pj6hDy6rcp #China #ChineseVirus #ChinaMustPay #ChinaVirus #CCPVirus #Covid_19 #COVIDー19 #LabourDay #DCIKenyaThankYou #coronavirusghana #USA #AmericaFirst\n",
       "17896  #China understands only language of \"Tit for Tat!\" #UnitedStates must retaliate #CCP for creating #ChineseVirus.\\n\\n#FreeTibet #FreeHK #FreePress #COVID19 #coronavirus #XiVirus #CCPVirus #ChinaVirus #CoronaRevolution #UN #WHO #US #EU #UK #India #CCP_is_terrorist #XiJinping #Chinazi https://t.co/cw6EpUxPBo"
      ],
      "text/html": "<div>\n<style scoped>\n    .dataframe tbody tr th:only-of-type {\n        vertical-align: middle;\n    }\n\n    .dataframe tbody tr th {\n        vertical-align: top;\n    }\n\n    .dataframe thead th {\n        text-align: right;\n    }\n</style>\n<table border=\"1\" class=\"dataframe\">\n  <thead>\n    <tr style=\"text-align: right;\">\n      <th></th>\n      <th>0</th>\n    </tr>\n  </thead>\n  <tbody>\n    <tr>\n      <th>1384</th>\n      <td>@RepAdamSchiff Remember he will not reveal the source for his statement. Talk about #FakeNews. Just as his followers say the #coronavirus is a hoax. Trump claims the #CoronavirusPandemic is really the Chinese virus contrary to Intelligence and @Who sources.</td>\n    </tr>\n    <tr>\n      <th>2606</th>\n      <td>@NoKidsHive Coronavirus is Chinese virus. This is what it should be called.\\nChinese are racists! They are devils and should be treated as shits. They are dogs and enemies of the wild world. They should be discriminated against.\\n#ChineseAreRacists #ChineseAreRacists #ChineseAreRacists</td>\n    </tr>\n    <tr>\n      <th>2799</th>\n      <td>#DonaldTrump says #coronavirus originated from #China's #Wuhan lab, threatens tariffs\\n\\nWhole world knows!!!\\n\\n#WuhanCoronavius #ChineseVirus #ChineseConspiracy #BoycottChina \\n.@realDonaldTrump\\n.@PDChina\\n.@ftchina .@Event_China .@WhiteHouse</td>\n    </tr>\n    <tr>\n      <th>3296</th>\n      <td>So, there is some good coming out of the Chinese virus.  https://t.co/fig0TAFJgX</td>\n    </tr>\n    <tr>\n      <th>4917</th>\n      <td>#WuhanVirus #ChineseVirus #ChineseBioTerrorism \\n\\n#DefundChina \\n\\nTime to SEVERELY CLAMP DOWN ON U.S. SHARING OF ALL INFO &amp;amp; TECH w/China\\n\\nProminent university bio lab urged to reveal extent of relationship with Wuhan lab at center of coronavirus outbreak\\n\\nhttps://t.co/QSL14iDVsN</td>\n    </tr>\n    <tr>\n      <th>6041</th>\n      <td>@timesofindia This is how china stock piled Mask &amp;amp; PPE from all ovr the world at low cost before pandemic declared WHO played suspicious roles in these late declarations &amp;amp; now shipping back at extreme high cost.\\n#ChineseVirus19 #COVID19Pandemic  #ChinaLiedAndPeopleDied\\nhttps://t.co/hTrWn2jhWG</td>\n    </tr>\n    <tr>\n      <th>10962</th>\n      <td>@wealthy_yute God is not a respctor of a person, He can use anybody so long as we are ready to listen and obey. Matthew 7:24https://www.youtube.com/watch?v=BrLqZ_R0Ris&amp;amp;t=4s\\n#coronavirus #coronavirusghana #CoronaVirusInNigeria #ChineseVirus #ChinaVirus #COVID19TZA #COVID19Lagos #VirusCorona</td>\n    </tr>\n    <tr>\n      <th>11177</th>\n      <td>😠😡 #ComeToChinaTown Nancy puts corrupt dems in charge to oversee coronavirus ( Chinese virus ) $ that's like giving a thief a job at fort Knox.😡 McCarthy fumes after Pelosi names Maxine Waters, 6 other Dems to oversee coronavirus funds\\n\\nhttps://t.co/IgpPjnJi2n</td>\n    </tr>\n    <tr>\n      <th>14392</th>\n      <td>#TrumpVirus\\nA 57-page Memo\\nUrged 🇷🇺@GOP 🇷🇺 \\nCampaigns to Blame\\n#China 🇨🇳 \\nFor the coronavirus pandemic\\n#COVID19\\nand insist the term\\n'Chinese virus'\\nisn't racist\\nBut\\nRacist @realDonaldTrump Bigot Is\\nhttps://t.co/Tj11XJNo3Y https://t.co/oiuQZlg5is</td>\n    </tr>\n    <tr>\n      <th>15229</th>\n      <td>@marklevinshow: \"@BarackObama the most corrupt president in the modern history!\" @NYGovCuomo \"blew his budget on solar panel, infanticide now asking for bail out?\" Blood is in your hands of Chinese virus spread and killed seniors in nursing homes!  https://t.co/zB2PStwjKo @POTUS</td>\n    </tr>\n    <tr>\n      <th>16986</th>\n      <td>Coronavirus Coverup: Why Did China LIE? https://t.co/pj6hDy6rcp #China #ChineseVirus #ChinaMustPay #ChinaVirus #CCPVirus #Covid_19 #COVIDー19 #LabourDay #DCIKenyaThankYou #coronavirusghana #USA #AmericaFirst</td>\n    </tr>\n    <tr>\n      <th>17896</th>\n      <td>#China understands only language of \"Tit for Tat!\" #UnitedStates must retaliate #CCP for creating #ChineseVirus.\\n\\n#FreeTibet #FreeHK #FreePress #COVID19 #coronavirus #XiVirus #CCPVirus #ChinaVirus #CoronaRevolution #UN #WHO #US #EU #UK #India #CCP_is_terrorist #XiJinping #Chinazi https://t.co/cw6EpUxPBo</td>\n    </tr>\n  </tbody>\n</table>\n</div>"
     },
     "metadata": {},
     "execution_count": 18
    }
   ],
   "source": [
    "# need to check if there are detectable anti-asian vibes at all\n",
    "documents[documents[0].str.contains('ChineseVirus|chinesevirus|chinese virus|Chinese virus')]"
   ]
  },
  {
   "cell_type": "code",
   "execution_count": 20,
   "metadata": {},
   "outputs": [
    {
     "output_type": "execute_result",
     "data": {
      "text/plain": [
       "                                                                                                                                0\n",
       "2602  Chinese embassy in France mocks U.S. coronavirus response with video https://t.co/SCm4qFgCWB fuck the chinaman's propaganda"
      ],
      "text/html": "<div>\n<style scoped>\n    .dataframe tbody tr th:only-of-type {\n        vertical-align: middle;\n    }\n\n    .dataframe tbody tr th {\n        vertical-align: top;\n    }\n\n    .dataframe thead th {\n        text-align: right;\n    }\n</style>\n<table border=\"1\" class=\"dataframe\">\n  <thead>\n    <tr style=\"text-align: right;\">\n      <th></th>\n      <th>0</th>\n    </tr>\n  </thead>\n  <tbody>\n    <tr>\n      <th>2602</th>\n      <td>Chinese embassy in France mocks U.S. coronavirus response with video https://t.co/SCm4qFgCWB fuck the chinaman's propaganda</td>\n    </tr>\n  </tbody>\n</table>\n</div>"
     },
     "metadata": {},
     "execution_count": 20
    }
   ],
   "source": [
    "documents[documents[0].str.contains('Chinaman|chinaman')]\n"
   ]
  },
  {
   "cell_type": "code",
   "execution_count": 21,
   "metadata": {},
   "outputs": [
    {
     "output_type": "execute_result",
     "data": {
      "text/plain": [
       "Empty DataFrame\n",
       "Columns: [0]\n",
       "Index: []"
      ],
      "text/html": "<div>\n<style scoped>\n    .dataframe tbody tr th:only-of-type {\n        vertical-align: middle;\n    }\n\n    .dataframe tbody tr th {\n        vertical-align: top;\n    }\n\n    .dataframe thead th {\n        text-align: right;\n    }\n</style>\n<table border=\"1\" class=\"dataframe\">\n  <thead>\n    <tr style=\"text-align: right;\">\n      <th></th>\n      <th>0</th>\n    </tr>\n  </thead>\n  <tbody>\n  </tbody>\n</table>\n</div>"
     },
     "metadata": {},
     "execution_count": 21
    }
   ],
   "source": [
    "documents[documents[0].str.contains('Chink|chink')]"
   ]
  },
  {
   "cell_type": "code",
   "execution_count": 54,
   "metadata": {},
   "outputs": [
    {
     "output_type": "execute_result",
     "data": {
      "text/plain": [
       "                                                                                                                                                                                                                                                                                                                         0\n",
       "604                                                                                               @realDonaldTrump @NBCNews @CNN I hear Ivanka just got another of her trademarks approved in China 🤣 but continue your  GOP blame China strategy, the sycophants are swallowing up like candies 😂 https://t.co/q88gL6yfSO\n",
       "3744                                                                           Republican strategy memo advises GOP campaigns to blame China for coronavirus  https://t.co/LOROL2FMh2 THIS IS THEIR PLAN.. TRUMP NEVER TAKES THE BLAME FOR ANYTHING! EVEN IF YOU HEAR IT WITH YOUR OWN EARS AND SEE IT WITH YOUR OWN EYES!\n",
       "5319                                                 Who the fu*k cares where the virus originated? The fact remains the @realDonaldTrump administration was negligent in warning the country. Republican strategy memo advises GOP campaigns to blame China for coronavirus - The Washington Post https://t.co/fjVe5YNACK\n",
       "5908                                                                                                 @SkyNews Why are you trying to blame China for Coronavirus it was Pirbright institute in UK who invented Coronavirus Please stop Lying about this look  at the dates the patents were GRANTED https://t.co/JHGm3lN0Zu\n",
       "10998                                                                                                                                                                                                       Trump's campaign just getting started\\n\\nBlame China\\nElevate and enrich Tara Reade\\n\\nhttps://t.co/xTPYSV0GCW\n",
       "12564                                                                                                                                                                                                               Republican strategy memo advises GOP campaigns to blame China for coronavirus  https://t.co/xZF3y2BgWQ\n",
       "12881                                                                                                                                                U.S. Intelligence Agencies Conclude Coronavirus ‘Not Man-made. Source Huffpost. So much for Republicans wanting to blame China! A no go. #Politics #China #Cornavirus\n",
       "15198                                                                                                                                                                                                                          @tedcruz We get it.  You got the \"blame china\" memo last week.  \\n\\nhttps://t.co/2FAnsl25fL\n",
       "16478  @danielnorwick @Morning_Joe Senior Trump administration officials  pushed American spy agencies to hunt for evidence to support an unsubstantiated theory that government laboratory in Wuhan, China, was origin of coronavirus outbreak, say current and former American officials. Trump to blame China for virus\n",
       "16810      @Morning_Joe @JonLemire Senior Trump administration officials  pushed American spy agencies to hunt for evidence to support an unsubstantiated theory that government laboratory in Wuhan, China, was origin of coronavirus outbreak, say current and former American officials. Trump to blame China for virus"
      ],
      "text/html": "<div>\n<style scoped>\n    .dataframe tbody tr th:only-of-type {\n        vertical-align: middle;\n    }\n\n    .dataframe tbody tr th {\n        vertical-align: top;\n    }\n\n    .dataframe thead th {\n        text-align: right;\n    }\n</style>\n<table border=\"1\" class=\"dataframe\">\n  <thead>\n    <tr style=\"text-align: right;\">\n      <th></th>\n      <th>0</th>\n    </tr>\n  </thead>\n  <tbody>\n    <tr>\n      <th>604</th>\n      <td>@realDonaldTrump @NBCNews @CNN I hear Ivanka just got another of her trademarks approved in China 🤣 but continue your  GOP blame China strategy, the sycophants are swallowing up like candies 😂 https://t.co/q88gL6yfSO</td>\n    </tr>\n    <tr>\n      <th>3744</th>\n      <td>Republican strategy memo advises GOP campaigns to blame China for coronavirus  https://t.co/LOROL2FMh2 THIS IS THEIR PLAN.. TRUMP NEVER TAKES THE BLAME FOR ANYTHING! EVEN IF YOU HEAR IT WITH YOUR OWN EARS AND SEE IT WITH YOUR OWN EYES!</td>\n    </tr>\n    <tr>\n      <th>5319</th>\n      <td>Who the fu*k cares where the virus originated? The fact remains the @realDonaldTrump administration was negligent in warning the country. Republican strategy memo advises GOP campaigns to blame China for coronavirus - The Washington Post https://t.co/fjVe5YNACK</td>\n    </tr>\n    <tr>\n      <th>5908</th>\n      <td>@SkyNews Why are you trying to blame China for Coronavirus it was Pirbright institute in UK who invented Coronavirus Please stop Lying about this look  at the dates the patents were GRANTED https://t.co/JHGm3lN0Zu</td>\n    </tr>\n    <tr>\n      <th>10998</th>\n      <td>Trump's campaign just getting started\\n\\nBlame China\\nElevate and enrich Tara Reade\\n\\nhttps://t.co/xTPYSV0GCW</td>\n    </tr>\n    <tr>\n      <th>12564</th>\n      <td>Republican strategy memo advises GOP campaigns to blame China for coronavirus  https://t.co/xZF3y2BgWQ</td>\n    </tr>\n    <tr>\n      <th>12881</th>\n      <td>U.S. Intelligence Agencies Conclude Coronavirus ‘Not Man-made. Source Huffpost. So much for Republicans wanting to blame China! A no go. #Politics #China #Cornavirus</td>\n    </tr>\n    <tr>\n      <th>15198</th>\n      <td>@tedcruz We get it.  You got the \"blame china\" memo last week.  \\n\\nhttps://t.co/2FAnsl25fL</td>\n    </tr>\n    <tr>\n      <th>16478</th>\n      <td>@danielnorwick @Morning_Joe Senior Trump administration officials  pushed American spy agencies to hunt for evidence to support an unsubstantiated theory that government laboratory in Wuhan, China, was origin of coronavirus outbreak, say current and former American officials. Trump to blame China for virus</td>\n    </tr>\n    <tr>\n      <th>16810</th>\n      <td>@Morning_Joe @JonLemire Senior Trump administration officials  pushed American spy agencies to hunt for evidence to support an unsubstantiated theory that government laboratory in Wuhan, China, was origin of coronavirus outbreak, say current and former American officials. Trump to blame China for virus</td>\n    </tr>\n  </tbody>\n</table>\n</div>"
     },
     "metadata": {},
     "execution_count": 54
    }
   ],
   "source": [
    "documents[documents[0].str.contains('lame* Chin|lame* chin')]\n"
   ]
  },
  {
   "cell_type": "code",
   "execution_count": null,
   "metadata": {},
   "outputs": [],
   "source": [
    "# vibe check results: yes there is clear anti-asian (chinese) vibes"
   ]
  }
 ]
}